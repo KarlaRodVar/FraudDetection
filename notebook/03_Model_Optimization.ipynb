{
 "cells": [
  {
   "cell_type": "markdown",
   "id": "0bf9b891",
   "metadata": {},
   "source": [
    "# Model Optimization"
   ]
  },
  {
   "cell_type": "markdown",
   "id": "39a1f75d",
   "metadata": {},
   "source": [
    "The model that was chosen to execute the optimization was the LightGBM. In this notebook we will look for the best hyperparameters that can immprove the performance of this model"
   ]
  },
  {
   "cell_type": "code",
   "execution_count": 1,
   "id": "fd615bc5",
   "metadata": {},
   "outputs": [],
   "source": [
    "import pandas as pd\n",
    "import numpy as np\n",
    "import matplotlib.pyplot as plt\n",
    "from lightgbm import LGBMClassifier\n",
    "from sklearn.pipeline import Pipeline\n",
    "from sklearn.model_selection import GridSearchCV\n",
    "from sklearn.metrics import classification_report, confusion_matrix, roc_curve, accuracy_score, auc,ConfusionMatrixDisplay,\\\n",
    "                            silhouette_score, recall_score, precision_score, make_scorer, \\\n",
    "                            roc_auc_score, f1_score, precision_recall_curve, fbeta_score, r2_score\n",
    "from datetime import datetime\n",
    "\n",
    "import lightgbm as lgb\n",
    "import pickle\n",
    "import warnings\n",
    "warnings.filterwarnings('ignore')"
   ]
  },
  {
   "cell_type": "code",
   "execution_count": 2,
   "id": "0b0d1912",
   "metadata": {},
   "outputs": [],
   "source": [
    "# Functions to be used\n",
    "def evaluate_model(yval, ypred, ypred_proba = None):\n",
    "    if ypred_proba is not None:\n",
    "        print('ROC-AUC score of the model: {}'.format(roc_auc_score(yval, ypred_proba[:, 1])))\n",
    "        print(f'\\nF2 Score: {fbeta_score(yval, ypred, beta=2, average=\"macro\")}\\n')\n",
    "        print(f'R2 Score: {r2_score(yval, ypred)}\\n')\n",
    "        print('Accuracy of the model: {}\\n'.format(accuracy_score(yval, ypred)))\n",
    "        print('Classification report: \\n{}\\n'.format(classification_report(yval, ypred)))\n",
    "        \n",
    "def cargar_modelo(ruta):\n",
    "    return pickle.load(open(ruta, 'rb'))\n",
    "\n",
    "def timer(start_time=None):\n",
    "    if not start_time:\n",
    "        start_time = datetime.now()\n",
    "        return start_time\n",
    "    elif start_time:\n",
    "        thour, temp_sec = divmod((datetime.now() - start_time).total_seconds(), 3600)\n",
    "        tmin, tsec = divmod(temp_sec, 60)\n",
    "        print('\\n Time taken: %i hours %i minutes and %s seconds.' % (thour, tmin, round(tsec, 2)))"
   ]
  },
  {
   "cell_type": "code",
   "execution_count": 3,
   "id": "17cf248e",
   "metadata": {},
   "outputs": [],
   "source": [
    "# Import the different datasets\n",
    "xtrain = pd.read_parquet(\"../data/xtrain.parquet\")\n",
    "ytrain = pd.read_parquet(\"../data/ytrain.parquet\")['isFraud']\n",
    "xtest = pd.read_parquet(\"../data/xtest.parquet\")\n",
    "ytest = pd.read_parquet(\"../data/ytest.parquet\")['isFraud']"
   ]
  },
  {
   "cell_type": "code",
   "execution_count": 4,
   "id": "03e01630",
   "metadata": {},
   "outputs": [],
   "source": [
    "# Upload the preprocessor of the models\n",
    "preprocessor = cargar_modelo('../modelos/preprocessor.pickle')"
   ]
  },
  {
   "cell_type": "markdown",
   "id": "0bc552d6",
   "metadata": {},
   "source": [
    "# LightGBM Optimizado"
   ]
  },
  {
   "cell_type": "code",
   "execution_count": 5,
   "id": "82607c1e",
   "metadata": {},
   "outputs": [],
   "source": [
    "# Loading lightgbm model\n",
    "lightgbm = cargar_modelo(\"../modelos/LightGBM.pickle\")"
   ]
  },
  {
   "cell_type": "code",
   "execution_count": 6,
   "id": "3886836f",
   "metadata": {},
   "outputs": [],
   "source": [
    "lightgbm = Pipeline(steps=[('preprocessor', preprocessor),\n",
    "                            ('clasificador', lgb.LGBMClassifier())])"
   ]
  },
  {
   "cell_type": "code",
   "execution_count": 7,
   "id": "9e233b12",
   "metadata": {},
   "outputs": [],
   "source": [
    "# Designate the hyperparameters\n",
    "param_grid = { \n",
    "      'clasificador__is_unbalance': [True],\n",
    "    'clasificador__max_depth': [-1],\n",
    "    'clasificador__objective': ['binary'],\n",
    "    'clasificador__learning_rate': [0.1, 0.05], \n",
    "    'clasificador__n_estimators' : [200, 300, 400, 500], \n",
    "    'clasificador__importance_type' : ['split', 'gain'],\n",
    "    'clasificador__num_leaves': [50, 100, 200, 300]\n",
    "}\n",
    "\n",
    "CV = GridSearchCV(lightgbm, param_grid, cv=3, n_jobs=8, scoring='recall', verbose = 1)"
   ]
  },
  {
   "cell_type": "code",
   "execution_count": 8,
   "id": "dee1d6ed",
   "metadata": {},
   "outputs": [
    {
     "name": "stdout",
     "output_type": "stream",
     "text": [
      "Fitting 3 folds for each of 64 candidates, totalling 192 fits\n",
      "\n",
      " Time taken: 0 hours 0 minutes and 26.29 seconds.\n"
     ]
    }
   ],
   "source": [
    "# Fit + simple timer function to know how long things take\n",
    "start_time = timer(None) \n",
    "CV.fit(xtrain, ytrain)\n",
    "timer(start_time) "
   ]
  },
  {
   "cell_type": "code",
   "execution_count": 9,
   "id": "e2241bc7",
   "metadata": {},
   "outputs": [],
   "source": [
    "# Saving our model as a pickle\n",
    "with open('../modelos/LightGBM_optimized.pickle', 'wb') as f:\n",
    "    pickle.dump(CV, f)"
   ]
  },
  {
   "cell_type": "code",
   "execution_count": 10,
   "id": "57964296",
   "metadata": {},
   "outputs": [
    {
     "name": "stdout",
     "output_type": "stream",
     "text": [
      "\n",
      " Best hyperparameters:\n",
      "{'clasificador__importance_type': 'split', 'clasificador__is_unbalance': True, 'clasificador__learning_rate': 0.1, 'clasificador__max_depth': -1, 'clasificador__n_estimators': 200, 'clasificador__num_leaves': 50, 'clasificador__objective': 'binary'}\n",
      "\n",
      " Best score:\n",
      "0.9657320872274143\n"
     ]
    }
   ],
   "source": [
    "# Best hyperparameters and scoring\n",
    "print('\\n Best hyperparameters:')\n",
    "print(CV.best_params_)\n",
    "print('\\n Best score:')\n",
    "print(CV.best_score_)"
   ]
  },
  {
   "cell_type": "code",
   "execution_count": 11,
   "id": "38e0a796",
   "metadata": {},
   "outputs": [
    {
     "name": "stdout",
     "output_type": "stream",
     "text": [
      "ROC-AUC score of the model: 0.9967510475556527\n",
      "\n",
      "F2 Score: 0.5471790430473122\n",
      "\n",
      "R2 Score: -33.59840665517028\n",
      "\n",
      "Accuracy of the model: 0.9623819986979166\n",
      "\n",
      "Classification report: \n",
      "              precision    recall  f1-score   support\n",
      "\n",
      "         0.0       1.00      0.96      0.98    196394\n",
      "         1.0       0.03      0.99      0.05       214\n",
      "\n",
      "    accuracy                           0.96    196608\n",
      "   macro avg       0.51      0.97      0.52    196608\n",
      "weighted avg       1.00      0.96      0.98    196608\n",
      "\n",
      "\n"
     ]
    }
   ],
   "source": [
    "# Predictions and evaluation\n",
    "ypred = CV.predict(xtest)\n",
    "ypred_proba = CV.predict_proba(xtest)\n",
    "evaluate_model(ytest, ypred, ypred_proba)"
   ]
  },
  {
   "cell_type": "code",
   "execution_count": 12,
   "id": "4583f95f",
   "metadata": {},
   "outputs": [
    {
     "data": {
      "text/plain": [
       "Text(0.5, 1.0, 'Matriz normalizada del modelo XGBoost optimizado')"
      ]
     },
     "execution_count": 12,
     "metadata": {},
     "output_type": "execute_result"
    },
    {
     "data": {
      "image/png": "[encoded data removed]",
      "text/plain": [
       "<Figure size 720x720 with 2 Axes>"
      ]
     },
     "metadata": {
      "needs_background": "light"
     },
     "output_type": "display_data"
    }
   ],
   "source": [
    "# Plotting optimized confusion matrix\n",
    "fig, ax = plt.subplots(figsize=(10, 10))\n",
    "disp = ConfusionMatrixDisplay.from_predictions(ytest, ypred,\n",
    "                                                       cmap=plt.cm.Greens,\n",
    "                                                       normalize='true',\n",
    "                                                       ax=ax)\n",
    "ax.set_title('Matriz normalizada del modelo XGBoost optimizado')"
   ]
  },
  {
   "cell_type": "markdown",
   "id": "8643334e",
   "metadata": {},
   "source": [
    "## Adjust the prediction"
   ]
  },
  {
   "cell_type": "code",
   "execution_count": 13,
   "id": "339d93c6",
   "metadata": {},
   "outputs": [
    {
     "name": "stdout",
     "output_type": "stream",
     "text": [
      "Best Threshold=0.637080, G-Mean=0.976\n",
      "ROC-AUC score of the model: 0.9967510475556527\n",
      "\n",
      "F2 Score: 0.5523953033819944\n",
      "\n",
      "R2 Score: -31.006800748333568\n",
      "\n",
      "Accuracy of the model: 0.9651997884114584\n",
      "\n",
      "Classification report: \n",
      "              precision    recall  f1-score   support\n",
      "\n",
      "         0.0       1.00      0.97      0.98    196394\n",
      "         1.0       0.03      0.98      0.06       214\n",
      "\n",
      "    accuracy                           0.97    196608\n",
      "   macro avg       0.51      0.97      0.52    196608\n",
      "weighted avg       1.00      0.97      0.98    196608\n",
      "\n",
      "\n"
     ]
    }
   ],
   "source": [
    "# keep probabilities for the positive outcome only\n",
    "yhat = ypred_proba[:, 1]\n",
    "# calculate roc curves\n",
    "fpr, tpr, thresholds = roc_curve(ytest, yhat)\n",
    "\n",
    "gmeans = np.sqrt(tpr * (1-fpr))\n",
    "# locate the index of the largest g-mean\n",
    "ix = np.argmax(gmeans)\n",
    "print('Best Threshold=%f, G-Mean=%.3f' % (thresholds[ix], gmeans[ix]))\n",
    "\n",
    "ypred_new_threshold = (ypred_proba[:,1]>thresholds[ix]).astype(int)\n",
    "evaluate_model(ytest,ypred_new_threshold,ypred_proba)"
   ]
  },
  {
   "cell_type": "markdown",
   "id": "adf6d2e1",
   "metadata": {},
   "source": [
    "### Conclusion\n",
    "\n",
    "With the hyperparameters adjusted we can see that the recall, which is the parameter to evaluate, increase a little bit from 97% to 96%."
   ]
  }
 ],
 "metadata": {
  "kernelspec": {
   "display_name": "practica_0",
   "language": "python",
   "name": "practica_0"
  },
  "language_info": {
   "codemirror_mode": {
    "name": "ipython",
    "version": 3
   },
   "file_extension": ".py",
   "mimetype": "text/x-python",
   "name": "python",
   "nbconvert_exporter": "python",
   "pygments_lexer": "ipython3",
   "version": "3.9.13"
  }
 },
 "nbformat": 4,
 "nbformat_minor": 5
}
