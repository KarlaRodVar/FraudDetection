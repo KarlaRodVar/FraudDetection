{
 "cells": [
  {
   "cell_type": "code",
   "execution_count": 89,
   "id": "5e9056c1",
   "metadata": {},
   "outputs": [],
   "source": [
    "import pandas as pd\n",
    "import numpy as np\n",
    "import matplotlib.pyplot as plt\n",
    "import seaborn as sns\n",
    "\n",
    "from sklearn.metrics import classification_report, confusion_matrix, roc_curve, auc, \\\n",
    "                            silhouette_score, recall_score, precision_score, make_scorer, \\\n",
    "                            roc_auc_score, f1_score, precision_recall_curve\n",
    "from sklearn.metrics import ConfusionMatrixDisplay\n",
    "from sklearn.metrics import accuracy_score, roc_auc_score, \\\n",
    "                            classification_report, confusion_matrix\n",
    "\n",
    "from sklearn import metrics\n",
    "from imblearn.over_sampling import SMOTE,SMOTENC\n",
    "from imblearn.under_sampling import RandomUnderSampler\n",
    "from imblearn.pipeline import Pipeline \n",
    "from sklearn import svm\n",
    "from sklearn.metrics import plot_confusion_matrix\n",
    "from sklearn.metrics import accuracy_score, log_loss\n",
    "from sklearn.metrics import ConfusionMatrixDisplay\n",
    "from sklearn.preprocessing import StandardScaler\n",
    "from sklearn.preprocessing import OneHotEncoder\n",
    "from sklearn.preprocessing import LabelEncoder\n",
    "from sklearn.impute import SimpleImputer, MissingIndicator\n",
    "from sklearn.model_selection import train_test_split\n",
    "from sklearn.linear_model import Lasso, LogisticRegression\n",
    "from sklearn.linear_model import LogisticRegressionCV \n",
    "from sklearn.feature_selection import SelectFromModel\n",
    "import xgboost as xgb\n",
    "from sklearn.pipeline import Pipeline\n",
    "from sklearn.compose import ColumnTransformer\n",
    "\n",
    "import pickle\n",
    "import warnings\n",
    "warnings.filterwarnings('ignore')"
   ]
  },
  {
   "cell_type": "code",
   "execution_count": 2,
   "id": "5a1a6902",
   "metadata": {},
   "outputs": [],
   "source": [
    "def evaluate_model(yval, ypred, ypred_proba = None):\n",
    "    if ypred_proba is not None:\n",
    "        print('ROC-AUC score of the model: {}'.format(roc_auc_score(yval, ypred_proba[:, 1])))\n",
    "    print('Accuracy of the model: {}\\n'.format(accuracy_score(yval, ypred)))\n",
    "    print('Classification report: \\n{}\\n'.format(classification_report(yval, ypred)))"
   ]
  },
  {
   "cell_type": "code",
   "execution_count": 3,
   "id": "4d2b245c",
   "metadata": {},
   "outputs": [],
   "source": [
    "def cargar_modelo(ruta):\n",
    "    return pickle.load(open(ruta, 'rb'))"
   ]
  },
  {
   "cell_type": "markdown",
   "id": "00496bb9",
   "metadata": {},
   "source": [
    "## Transformacion de variables y pasos previos a los modelos."
   ]
  },
  {
   "cell_type": "code",
   "execution_count": 4,
   "id": "27e506a8",
   "metadata": {},
   "outputs": [
    {
     "data": {
      "text/html": [
       "<div>\n",
       "<style scoped>\n",
       "    .dataframe tbody tr th:only-of-type {\n",
       "        vertical-align: middle;\n",
       "    }\n",
       "\n",
       "    .dataframe tbody tr th {\n",
       "        vertical-align: top;\n",
       "    }\n",
       "\n",
       "    .dataframe thead th {\n",
       "        text-align: right;\n",
       "    }\n",
       "</style>\n",
       "<table border=\"1\" class=\"dataframe\">\n",
       "  <thead>\n",
       "    <tr style=\"text-align: right;\">\n",
       "      <th></th>\n",
       "      <th>type</th>\n",
       "      <th>gender</th>\n",
       "      <th>device</th>\n",
       "      <th>zone</th>\n",
       "      <th>step</th>\n",
       "      <th>amount</th>\n",
       "      <th>user_connections</th>\n",
       "      <th>user_number</th>\n",
       "      <th>age</th>\n",
       "      <th>connection_time</th>\n",
       "      <th>oldbalanceOrg</th>\n",
       "      <th>newbalanceOrig</th>\n",
       "      <th>security_alert</th>\n",
       "      <th>oldbalanceDest</th>\n",
       "      <th>newbalanceDest</th>\n",
       "      <th>isFraud</th>\n",
       "    </tr>\n",
       "  </thead>\n",
       "  <tbody>\n",
       "    <tr>\n",
       "      <th>0</th>\n",
       "      <td>PAYMENT</td>\n",
       "      <td>man</td>\n",
       "      <td>mac</td>\n",
       "      <td>capital</td>\n",
       "      <td>1.0</td>\n",
       "      <td>9839.64</td>\n",
       "      <td>5.0</td>\n",
       "      <td>138.0</td>\n",
       "      <td>85.0</td>\n",
       "      <td>0.140039</td>\n",
       "      <td>170136.00</td>\n",
       "      <td>160296.36</td>\n",
       "      <td>1.0</td>\n",
       "      <td>0.00</td>\n",
       "      <td>0.00</td>\n",
       "      <td>0.0</td>\n",
       "    </tr>\n",
       "    <tr>\n",
       "      <th>1</th>\n",
       "      <td>PAYMENT</td>\n",
       "      <td>woman</td>\n",
       "      <td>mac</td>\n",
       "      <td>country</td>\n",
       "      <td>1.0</td>\n",
       "      <td>1864.28</td>\n",
       "      <td>1.0</td>\n",
       "      <td>909.0</td>\n",
       "      <td>57.0</td>\n",
       "      <td>0.496890</td>\n",
       "      <td>21249.00</td>\n",
       "      <td>19384.72</td>\n",
       "      <td>0.0</td>\n",
       "      <td>0.00</td>\n",
       "      <td>0.00</td>\n",
       "      <td>0.0</td>\n",
       "    </tr>\n",
       "    <tr>\n",
       "      <th>2</th>\n",
       "      <td>TRANSFER</td>\n",
       "      <td>man</td>\n",
       "      <td>pc</td>\n",
       "      <td>capital</td>\n",
       "      <td>1.0</td>\n",
       "      <td>181.00</td>\n",
       "      <td>10.0</td>\n",
       "      <td>2569.0</td>\n",
       "      <td>66.0</td>\n",
       "      <td>0.781150</td>\n",
       "      <td>181.00</td>\n",
       "      <td>0.00</td>\n",
       "      <td>0.0</td>\n",
       "      <td>0.00</td>\n",
       "      <td>0.00</td>\n",
       "      <td>1.0</td>\n",
       "    </tr>\n",
       "    <tr>\n",
       "      <th>3</th>\n",
       "      <td>CASH_OUT</td>\n",
       "      <td>man</td>\n",
       "      <td>mac</td>\n",
       "      <td>country</td>\n",
       "      <td>1.0</td>\n",
       "      <td>181.00</td>\n",
       "      <td>3.0</td>\n",
       "      <td>1787.0</td>\n",
       "      <td>31.0</td>\n",
       "      <td>0.565068</td>\n",
       "      <td>181.00</td>\n",
       "      <td>0.00</td>\n",
       "      <td>0.0</td>\n",
       "      <td>21182.00</td>\n",
       "      <td>0.00</td>\n",
       "      <td>1.0</td>\n",
       "    </tr>\n",
       "    <tr>\n",
       "      <th>4</th>\n",
       "      <td>PAYMENT</td>\n",
       "      <td>unknow</td>\n",
       "      <td>mac</td>\n",
       "      <td>country</td>\n",
       "      <td>1.0</td>\n",
       "      <td>11668.14</td>\n",
       "      <td>8.0</td>\n",
       "      <td>3997.0</td>\n",
       "      <td>90.0</td>\n",
       "      <td>0.517114</td>\n",
       "      <td>41554.00</td>\n",
       "      <td>29885.86</td>\n",
       "      <td>0.0</td>\n",
       "      <td>0.00</td>\n",
       "      <td>0.00</td>\n",
       "      <td>0.0</td>\n",
       "    </tr>\n",
       "    <tr>\n",
       "      <th>...</th>\n",
       "      <td>...</td>\n",
       "      <td>...</td>\n",
       "      <td>...</td>\n",
       "      <td>...</td>\n",
       "      <td>...</td>\n",
       "      <td>...</td>\n",
       "      <td>...</td>\n",
       "      <td>...</td>\n",
       "      <td>...</td>\n",
       "      <td>...</td>\n",
       "      <td>...</td>\n",
       "      <td>...</td>\n",
       "      <td>...</td>\n",
       "      <td>...</td>\n",
       "      <td>...</td>\n",
       "      <td>...</td>\n",
       "    </tr>\n",
       "    <tr>\n",
       "      <th>1048570</th>\n",
       "      <td>CASH_OUT</td>\n",
       "      <td>woman</td>\n",
       "      <td>mac</td>\n",
       "      <td>missing</td>\n",
       "      <td>95.0</td>\n",
       "      <td>132557.35</td>\n",
       "      <td>9.0</td>\n",
       "      <td>3179.0</td>\n",
       "      <td>39.0</td>\n",
       "      <td>0.420243</td>\n",
       "      <td>479803.00</td>\n",
       "      <td>347245.65</td>\n",
       "      <td>0.0</td>\n",
       "      <td>484329.37</td>\n",
       "      <td>616886.72</td>\n",
       "      <td>0.0</td>\n",
       "    </tr>\n",
       "    <tr>\n",
       "      <th>1048571</th>\n",
       "      <td>PAYMENT</td>\n",
       "      <td>woman</td>\n",
       "      <td>mac</td>\n",
       "      <td>africa</td>\n",
       "      <td>95.0</td>\n",
       "      <td>9917.36</td>\n",
       "      <td>9.0</td>\n",
       "      <td>2558.0</td>\n",
       "      <td>36.0</td>\n",
       "      <td>0.376169</td>\n",
       "      <td>90545.00</td>\n",
       "      <td>80627.64</td>\n",
       "      <td>0.0</td>\n",
       "      <td>0.00</td>\n",
       "      <td>0.00</td>\n",
       "      <td>0.0</td>\n",
       "    </tr>\n",
       "    <tr>\n",
       "      <th>1048572</th>\n",
       "      <td>PAYMENT</td>\n",
       "      <td>unknow</td>\n",
       "      <td>pc</td>\n",
       "      <td>africa</td>\n",
       "      <td>95.0</td>\n",
       "      <td>14140.05</td>\n",
       "      <td>2.0</td>\n",
       "      <td>1553.0</td>\n",
       "      <td>31.0</td>\n",
       "      <td>0.837109</td>\n",
       "      <td>20545.00</td>\n",
       "      <td>6404.95</td>\n",
       "      <td>0.0</td>\n",
       "      <td>0.00</td>\n",
       "      <td>0.00</td>\n",
       "      <td>0.0</td>\n",
       "    </tr>\n",
       "    <tr>\n",
       "      <th>1048573</th>\n",
       "      <td>PAYMENT</td>\n",
       "      <td>man</td>\n",
       "      <td>mac</td>\n",
       "      <td>country</td>\n",
       "      <td>95.0</td>\n",
       "      <td>10020.05</td>\n",
       "      <td>8.0</td>\n",
       "      <td>642.0</td>\n",
       "      <td>94.0</td>\n",
       "      <td>0.480931</td>\n",
       "      <td>90605.00</td>\n",
       "      <td>80584.95</td>\n",
       "      <td>0.0</td>\n",
       "      <td>0.00</td>\n",
       "      <td>0.00</td>\n",
       "      <td>0.0</td>\n",
       "    </tr>\n",
       "    <tr>\n",
       "      <th>1048574</th>\n",
       "      <td>PAYMENT</td>\n",
       "      <td>man</td>\n",
       "      <td>pc</td>\n",
       "      <td>country</td>\n",
       "      <td>95.0</td>\n",
       "      <td>11450.03</td>\n",
       "      <td>4.0</td>\n",
       "      <td>2081.0</td>\n",
       "      <td>84.0</td>\n",
       "      <td>0.868198</td>\n",
       "      <td>80584.95</td>\n",
       "      <td>69134.92</td>\n",
       "      <td>0.0</td>\n",
       "      <td>0.00</td>\n",
       "      <td>0.00</td>\n",
       "      <td>0.0</td>\n",
       "    </tr>\n",
       "  </tbody>\n",
       "</table>\n",
       "<p>1048575 rows × 16 columns</p>\n",
       "</div>"
      ],
      "text/plain": [
       "             type  gender device     zone  step     amount  user_connections  \\\n",
       "0         PAYMENT     man    mac  capital   1.0    9839.64               5.0   \n",
       "1         PAYMENT   woman    mac  country   1.0    1864.28               1.0   \n",
       "2        TRANSFER     man     pc  capital   1.0     181.00              10.0   \n",
       "3        CASH_OUT     man    mac  country   1.0     181.00               3.0   \n",
       "4         PAYMENT  unknow    mac  country   1.0   11668.14               8.0   \n",
       "...           ...     ...    ...      ...   ...        ...               ...   \n",
       "1048570  CASH_OUT   woman    mac  missing  95.0  132557.35               9.0   \n",
       "1048571   PAYMENT   woman    mac   africa  95.0    9917.36               9.0   \n",
       "1048572   PAYMENT  unknow     pc   africa  95.0   14140.05               2.0   \n",
       "1048573   PAYMENT     man    mac  country  95.0   10020.05               8.0   \n",
       "1048574   PAYMENT     man     pc  country  95.0   11450.03               4.0   \n",
       "\n",
       "         user_number   age  connection_time  oldbalanceOrg  newbalanceOrig  \\\n",
       "0              138.0  85.0         0.140039      170136.00       160296.36   \n",
       "1              909.0  57.0         0.496890       21249.00        19384.72   \n",
       "2             2569.0  66.0         0.781150         181.00            0.00   \n",
       "3             1787.0  31.0         0.565068         181.00            0.00   \n",
       "4             3997.0  90.0         0.517114       41554.00        29885.86   \n",
       "...              ...   ...              ...            ...             ...   \n",
       "1048570       3179.0  39.0         0.420243      479803.00       347245.65   \n",
       "1048571       2558.0  36.0         0.376169       90545.00        80627.64   \n",
       "1048572       1553.0  31.0         0.837109       20545.00         6404.95   \n",
       "1048573        642.0  94.0         0.480931       90605.00        80584.95   \n",
       "1048574       2081.0  84.0         0.868198       80584.95        69134.92   \n",
       "\n",
       "         security_alert  oldbalanceDest  newbalanceDest  isFraud  \n",
       "0                   1.0            0.00            0.00      0.0  \n",
       "1                   0.0            0.00            0.00      0.0  \n",
       "2                   0.0            0.00            0.00      1.0  \n",
       "3                   0.0        21182.00            0.00      1.0  \n",
       "4                   0.0            0.00            0.00      0.0  \n",
       "...                 ...             ...             ...      ...  \n",
       "1048570             0.0       484329.37       616886.72      0.0  \n",
       "1048571             0.0            0.00            0.00      0.0  \n",
       "1048572             0.0            0.00            0.00      0.0  \n",
       "1048573             0.0            0.00            0.00      0.0  \n",
       "1048574             0.0            0.00            0.00      0.0  \n",
       "\n",
       "[1048575 rows x 16 columns]"
      ]
     },
     "execution_count": 4,
     "metadata": {},
     "output_type": "execute_result"
    }
   ],
   "source": [
    "# Lecutra de datos preprocesados\n",
    "df = pd.read_csv(\"C:/Users/karla/Documents/CUNEF/5_machine_learning/2_practicas/Fraude/data/process/pd_datafruad_preprocessing.csv\").drop('Unnamed: 0',axis=1)\n",
    "df"
   ]
  },
  {
   "cell_type": "markdown",
   "id": "089c4b18",
   "metadata": {},
   "source": [
    "- Creacion del pipeline para aplicarlo posteriormente a los modelos"
   ]
  },
  {
   "cell_type": "code",
   "execution_count": 5,
   "id": "9b38d07e",
   "metadata": {},
   "outputs": [],
   "source": [
    "numeric_transformer = Pipeline(steps=[\n",
    "    ('imputer', SimpleImputer(strategy='median')),\n",
    "    ('scaler', StandardScaler())])\n",
    "\n",
    "categorical_transformer = Pipeline(steps=[\n",
    "    ('imputer', SimpleImputer(strategy='constant', fill_value='missing')),\n",
    "    ('onehot', OneHotEncoder(handle_unknown='ignore'))])"
   ]
  },
  {
   "cell_type": "code",
   "execution_count": 6,
   "id": "9cecb09b",
   "metadata": {},
   "outputs": [],
   "source": [
    "numeric = df.select_dtypes(include=['int64', 'float64']).drop(['isFraud'], axis=1).columns\n",
    "\n",
    "categorical = df.select_dtypes(include=['object']).columns"
   ]
  },
  {
   "cell_type": "code",
   "execution_count": 7,
   "id": "6da06721",
   "metadata": {},
   "outputs": [],
   "source": [
    "preprocessor = ColumnTransformer(\n",
    "    transformers=[\n",
    "        ('num', numeric_transformer, numeric),\n",
    "        ('cat', categorical_transformer, categorical)])"
   ]
  },
  {
   "cell_type": "code",
   "execution_count": 8,
   "id": "48bdadcd",
   "metadata": {},
   "outputs": [
    {
     "ename": "FileNotFoundError",
     "evalue": "[Errno 2] No such file or directory: '../models/preprocessor.pickle'",
     "output_type": "error",
     "traceback": [
      "\u001b[1;31m---------------------------------------------------------------------------\u001b[0m",
      "\u001b[1;31mFileNotFoundError\u001b[0m                         Traceback (most recent call last)",
      "Input \u001b[1;32mIn [8]\u001b[0m, in \u001b[0;36m<cell line: 2>\u001b[1;34m()\u001b[0m\n\u001b[0;32m      1\u001b[0m \u001b[38;5;66;03m# Guardamos el preprocessor\u001b[39;00m\n\u001b[1;32m----> 2\u001b[0m \u001b[38;5;28;01mwith\u001b[39;00m \u001b[38;5;28;43mopen\u001b[39;49m\u001b[43m(\u001b[49m\u001b[38;5;124;43m'\u001b[39;49m\u001b[38;5;124;43m../models/preprocessor.pickle\u001b[39;49m\u001b[38;5;124;43m'\u001b[39;49m\u001b[43m,\u001b[49m\u001b[43m \u001b[49m\u001b[38;5;124;43m'\u001b[39;49m\u001b[38;5;124;43mwb\u001b[39;49m\u001b[38;5;124;43m'\u001b[39;49m\u001b[43m)\u001b[49m \u001b[38;5;28;01mas\u001b[39;00m f:\n\u001b[0;32m      3\u001b[0m     pickle\u001b[38;5;241m.\u001b[39mdump(preprocessor, f)\n",
      "\u001b[1;31mFileNotFoundError\u001b[0m: [Errno 2] No such file or directory: '../models/preprocessor.pickle'"
     ]
    }
   ],
   "source": [
    "# Guardamos el preprocessor\n",
    "with open('../models/preprocessor.pickle', 'wb') as f:\n",
    "    pickle.dump(preprocessor, f)"
   ]
  },
  {
   "cell_type": "code",
   "execution_count": 13,
   "id": "1531f86f",
   "metadata": {},
   "outputs": [],
   "source": [
    "X = df.drop('isFraud', axis= 1)\n",
    "y = df.isFraud"
   ]
  },
  {
   "cell_type": "code",
   "execution_count": 19,
   "id": "396e6e50",
   "metadata": {},
   "outputs": [],
   "source": [
    "xtrain, xtest, ytrain, ytest = train_test_split(X,y, test_size=0.25,  random_state=0)\n",
    "xtrain, xval, ytrain, yval = train_test_split(xtrain, ytrain, test_size=0.25,  random_state=0)"
   ]
  },
  {
   "cell_type": "code",
   "execution_count": 45,
   "id": "24e0ef3c",
   "metadata": {},
   "outputs": [
    {
     "name": "stdout",
     "output_type": "stream",
     "text": [
      "235676\n",
      "196608\n",
      "262144\n"
     ]
    }
   ],
   "source": [
    "# Verificamos las dimensiones de cada uno de los nuevos dataset\n",
    "print(len(xtrain))\n",
    "print(len(xval))\n",
    "print(len(xtest))"
   ]
  },
  {
   "cell_type": "markdown",
   "id": "ad9850a1",
   "metadata": {},
   "source": [
    "## Data Balance / Balanceado de Datos"
   ]
  },
  {
   "cell_type": "code",
   "execution_count": 58,
   "id": "5ce91127",
   "metadata": {},
   "outputs": [],
   "source": [
    "over = SMOTENC([0,1,2,3], random_state=33)\n",
    "under = RandomUnderSampler(random_state=33)\n",
    "\n",
    "# transform the dataset\n",
    "xtrain, ytrain = over.fit_resample(xtrain, ytrain)\n",
    "xtrain, ytrain = under.fit_resample(xtrain, ytrain)"
   ]
  },
  {
   "cell_type": "code",
   "execution_count": 87,
   "id": "cea215f9",
   "metadata": {
    "scrolled": true
   },
   "outputs": [
    {
     "name": "stdout",
     "output_type": "stream",
     "text": [
      "235676\n",
      "235676\n"
     ]
    },
    {
     "data": {
      "text/plain": [
       "isFraud\n",
       "0.0        117838\n",
       "1.0        117838\n",
       "dtype: int64"
      ]
     },
     "execution_count": 87,
     "metadata": {},
     "output_type": "execute_result"
    }
   ],
   "source": [
    "print(len(xtrain))\n",
    "print(len(ytrain))\n",
    "ytrain.to_frame().value_counts()"
   ]
  },
  {
   "cell_type": "markdown",
   "id": "d0a03e84",
   "metadata": {},
   "source": [
    "## ---------------------------------------------------------------------------------------------------------------------------"
   ]
  },
  {
   "cell_type": "code",
   "execution_count": 94,
   "id": "a9cfea4f",
   "metadata": {},
   "outputs": [],
   "source": [
    "#Numerical features to pass down the numerical pipeline \n",
    "numeric_features = xtrain.select_dtypes(include=['int64', 'float64']).columns\n",
    "categorical_features = xtrain.select_dtypes(include=['object']).columns\n"
   ]
  },
  {
   "cell_type": "code",
   "execution_count": null,
   "id": "31e68ef0",
   "metadata": {},
   "outputs": [],
   "source": []
  },
  {
   "cell_type": "code",
   "execution_count": null,
   "id": "114c1ee6",
   "metadata": {},
   "outputs": [],
   "source": []
  },
  {
   "cell_type": "code",
   "execution_count": null,
   "id": "eea56d95",
   "metadata": {},
   "outputs": [],
   "source": []
  },
  {
   "cell_type": "code",
   "execution_count": null,
   "id": "dd0f1ff6",
   "metadata": {},
   "outputs": [],
   "source": []
  },
  {
   "cell_type": "code",
   "execution_count": null,
   "id": "881a78e6",
   "metadata": {},
   "outputs": [],
   "source": []
  },
  {
   "cell_type": "code",
   "execution_count": null,
   "id": "5d6e639f",
   "metadata": {},
   "outputs": [],
   "source": []
  },
  {
   "cell_type": "code",
   "execution_count": 61,
   "id": "de470ec9",
   "metadata": {},
   "outputs": [],
   "source": [
    "xtrain.to_parquet(\"../data/xtrain.parquet\")\n",
    "xval.to_parquet(\"../data/xtest.parquet\")\n",
    "pd.DataFrame(ytrain).to_parquet(\"../data/ytrain.parquet\")\n",
    "pd.DataFrame(yval).to_parquet(\"../data/ytest.parquet\")\n",
    "\n",
    "# Ojo!!!\n",
    "# xtrain_smote.to_parquet(\"../data/xtrain_smote.parquet\")\n",
    "# pd.DataFrame(ytrain_smote).to_parquet(\"../data/ytrain_smote.parquet\")"
   ]
  },
  {
   "cell_type": "markdown",
   "id": "a52e45d1",
   "metadata": {},
   "source": [
    "- Lectura de datos previa a la modelización"
   ]
  },
  {
   "cell_type": "code",
   "execution_count": 62,
   "id": "703e8ef3",
   "metadata": {},
   "outputs": [],
   "source": [
    "xtrain = pd.read_parquet(\"../data/xtrain.parquet\")\n",
    "ytrain = pd.read_parquet(\"../data/ytrain.parquet\")['isFraud']\n",
    "xval = pd.read_parquet(\"../data/xtest.parquet\")\n",
    "yval = pd.read_parquet(\"../data/ytest.parquet\")['isFraud']"
   ]
  },
  {
   "cell_type": "code",
   "execution_count": null,
   "id": "cc90b0cc",
   "metadata": {},
   "outputs": [],
   "source": []
  },
  {
   "cell_type": "code",
   "execution_count": null,
   "id": "c4afddbe",
   "metadata": {},
   "outputs": [],
   "source": []
  },
  {
   "cell_type": "code",
   "execution_count": null,
   "id": "7f0c0449",
   "metadata": {},
   "outputs": [],
   "source": []
  },
  {
   "cell_type": "code",
   "execution_count": null,
   "id": "de12f28b",
   "metadata": {},
   "outputs": [],
   "source": []
  },
  {
   "cell_type": "code",
   "execution_count": null,
   "id": "3f6138f0",
   "metadata": {},
   "outputs": [],
   "source": []
  },
  {
   "cell_type": "code",
   "execution_count": null,
   "id": "d96c3ee0",
   "metadata": {},
   "outputs": [],
   "source": []
  },
  {
   "cell_type": "code",
   "execution_count": null,
   "id": "9c5317c0",
   "metadata": {},
   "outputs": [],
   "source": []
  },
  {
   "cell_type": "code",
   "execution_count": null,
   "id": "d6b18a9b",
   "metadata": {},
   "outputs": [],
   "source": []
  },
  {
   "cell_type": "markdown",
   "id": "d6174019",
   "metadata": {},
   "source": [
    "# Regresión Logística. "
   ]
  },
  {
   "cell_type": "code",
   "execution_count": 66,
   "id": "80039b7a",
   "metadata": {},
   "outputs": [
    {
     "ename": "FileNotFoundError",
     "evalue": "[Errno 2] No such file or directory: '../models/preprocessor.pickle'",
     "output_type": "error",
     "traceback": [
      "\u001b[1;31m---------------------------------------------------------------------------\u001b[0m",
      "\u001b[1;31mFileNotFoundError\u001b[0m                         Traceback (most recent call last)",
      "Input \u001b[1;32mIn [66]\u001b[0m, in \u001b[0;36m<cell line: 2>\u001b[1;34m()\u001b[0m\n\u001b[0;32m      1\u001b[0m \u001b[38;5;66;03m# Cargamos el modelo. \u001b[39;00m\n\u001b[1;32m----> 2\u001b[0m preprocessor \u001b[38;5;241m=\u001b[39m \u001b[43mcargar_modelo\u001b[49m\u001b[43m(\u001b[49m\u001b[38;5;124;43m'\u001b[39;49m\u001b[38;5;124;43m../models/preprocessor.pickle\u001b[39;49m\u001b[38;5;124;43m'\u001b[39;49m\u001b[43m)\u001b[49m\n",
      "Input \u001b[1;32mIn [3]\u001b[0m, in \u001b[0;36mcargar_modelo\u001b[1;34m(ruta)\u001b[0m\n\u001b[0;32m      1\u001b[0m \u001b[38;5;28;01mdef\u001b[39;00m \u001b[38;5;21mcargar_modelo\u001b[39m(ruta):\n\u001b[1;32m----> 2\u001b[0m     \u001b[38;5;28;01mreturn\u001b[39;00m pickle\u001b[38;5;241m.\u001b[39mload(\u001b[38;5;28;43mopen\u001b[39;49m\u001b[43m(\u001b[49m\u001b[43mruta\u001b[49m\u001b[43m,\u001b[49m\u001b[43m \u001b[49m\u001b[38;5;124;43m'\u001b[39;49m\u001b[38;5;124;43mrb\u001b[39;49m\u001b[38;5;124;43m'\u001b[39;49m\u001b[43m)\u001b[49m)\n",
      "\u001b[1;31mFileNotFoundError\u001b[0m: [Errno 2] No such file or directory: '../models/preprocessor.pickle'"
     ]
    }
   ],
   "source": [
    "# Cargamos el modelo. \n",
    "preprocessor = cargar_modelo('../models/preprocessor.pickle')"
   ]
  },
  {
   "cell_type": "code",
   "execution_count": 95,
   "id": "3e2a7f9c",
   "metadata": {},
   "outputs": [],
   "source": [
    "clf = Pipeline(steps=[\n",
    "    ('preprocesador', preprocessor), \n",
    "    ('clasificador', LogisticRegressionCV(cv=8, n_jobs=4, penalty='l2', random_state=0))])"
   ]
  },
  {
   "cell_type": "code",
   "execution_count": 96,
   "id": "bd36eeca",
   "metadata": {},
   "outputs": [
    {
     "data": {
      "text/html": [
       "<style>#sk-container-id-4 {color: black;background-color: white;}#sk-container-id-4 pre{padding: 0;}#sk-container-id-4 div.sk-toggleable {background-color: white;}#sk-container-id-4 label.sk-toggleable__label {cursor: pointer;display: block;width: 100%;margin-bottom: 0;padding: 0.3em;box-sizing: border-box;text-align: center;}#sk-container-id-4 label.sk-toggleable__label-arrow:before {content: \"▸\";float: left;margin-right: 0.25em;color: #696969;}#sk-container-id-4 label.sk-toggleable__label-arrow:hover:before {color: black;}#sk-container-id-4 div.sk-estimator:hover label.sk-toggleable__label-arrow:before {color: black;}#sk-container-id-4 div.sk-toggleable__content {max-height: 0;max-width: 0;overflow: hidden;text-align: left;background-color: #f0f8ff;}#sk-container-id-4 div.sk-toggleable__content pre {margin: 0.2em;color: black;border-radius: 0.25em;background-color: #f0f8ff;}#sk-container-id-4 input.sk-toggleable__control:checked~div.sk-toggleable__content {max-height: 200px;max-width: 100%;overflow: auto;}#sk-container-id-4 input.sk-toggleable__control:checked~label.sk-toggleable__label-arrow:before {content: \"▾\";}#sk-container-id-4 div.sk-estimator input.sk-toggleable__control:checked~label.sk-toggleable__label {background-color: #d4ebff;}#sk-container-id-4 div.sk-label input.sk-toggleable__control:checked~label.sk-toggleable__label {background-color: #d4ebff;}#sk-container-id-4 input.sk-hidden--visually {border: 0;clip: rect(1px 1px 1px 1px);clip: rect(1px, 1px, 1px, 1px);height: 1px;margin: -1px;overflow: hidden;padding: 0;position: absolute;width: 1px;}#sk-container-id-4 div.sk-estimator {font-family: monospace;background-color: #f0f8ff;border: 1px dotted black;border-radius: 0.25em;box-sizing: border-box;margin-bottom: 0.5em;}#sk-container-id-4 div.sk-estimator:hover {background-color: #d4ebff;}#sk-container-id-4 div.sk-parallel-item::after {content: \"\";width: 100%;border-bottom: 1px solid gray;flex-grow: 1;}#sk-container-id-4 div.sk-label:hover label.sk-toggleable__label {background-color: #d4ebff;}#sk-container-id-4 div.sk-serial::before {content: \"\";position: absolute;border-left: 1px solid gray;box-sizing: border-box;top: 0;bottom: 0;left: 50%;z-index: 0;}#sk-container-id-4 div.sk-serial {display: flex;flex-direction: column;align-items: center;background-color: white;padding-right: 0.2em;padding-left: 0.2em;position: relative;}#sk-container-id-4 div.sk-item {position: relative;z-index: 1;}#sk-container-id-4 div.sk-parallel {display: flex;align-items: stretch;justify-content: center;background-color: white;position: relative;}#sk-container-id-4 div.sk-item::before, #sk-container-id-4 div.sk-parallel-item::before {content: \"\";position: absolute;border-left: 1px solid gray;box-sizing: border-box;top: 0;bottom: 0;left: 50%;z-index: -1;}#sk-container-id-4 div.sk-parallel-item {display: flex;flex-direction: column;z-index: 1;position: relative;background-color: white;}#sk-container-id-4 div.sk-parallel-item:first-child::after {align-self: flex-end;width: 50%;}#sk-container-id-4 div.sk-parallel-item:last-child::after {align-self: flex-start;width: 50%;}#sk-container-id-4 div.sk-parallel-item:only-child::after {width: 0;}#sk-container-id-4 div.sk-dashed-wrapped {border: 1px dashed gray;margin: 0 0.4em 0.5em 0.4em;box-sizing: border-box;padding-bottom: 0.4em;background-color: white;}#sk-container-id-4 div.sk-label label {font-family: monospace;font-weight: bold;display: inline-block;line-height: 1.2em;}#sk-container-id-4 div.sk-label-container {text-align: center;}#sk-container-id-4 div.sk-container {/* jupyter's `normalize.less` sets `[hidden] { display: none; }` but bootstrap.min.css set `[hidden] { display: none !important; }` so we also need the `!important` here to be able to override the default hidden behavior on the sphinx rendered scikit-learn.org. See: https://github.com/scikit-learn/scikit-learn/issues/21755 */display: inline-block !important;position: relative;}#sk-container-id-4 div.sk-text-repr-fallback {display: none;}</style><div id=\"sk-container-id-4\" class=\"sk-top-container\"><div class=\"sk-text-repr-fallback\"><pre>Pipeline(steps=[(&#x27;preprocesador&#x27;,\n",
       "                 ColumnTransformer(transformers=[(&#x27;num&#x27;,\n",
       "                                                  Pipeline(steps=[(&#x27;imputer&#x27;,\n",
       "                                                                   SimpleImputer(strategy=&#x27;median&#x27;)),\n",
       "                                                                  (&#x27;scaler&#x27;,\n",
       "                                                                   StandardScaler())]),\n",
       "                                                  Index([&#x27;step&#x27;, &#x27;amount&#x27;, &#x27;user_connections&#x27;, &#x27;user_number&#x27;, &#x27;age&#x27;,\n",
       "       &#x27;connection_time&#x27;, &#x27;oldbalanceOrg&#x27;, &#x27;newbalanceOrig&#x27;, &#x27;security_alert&#x27;,\n",
       "       &#x27;oldbalanceDest&#x27;, &#x27;newbalanceDest&#x27;],\n",
       "      dtype=&#x27;object&#x27;)),\n",
       "                                                 (&#x27;cat&#x27;,\n",
       "                                                  Pipeline(steps=[(&#x27;imputer&#x27;,\n",
       "                                                                   SimpleImputer(fill_value=&#x27;missing&#x27;,\n",
       "                                                                                 strategy=&#x27;constant&#x27;)),\n",
       "                                                                  (&#x27;onehot&#x27;,\n",
       "                                                                   OneHotEncoder(handle_unknown=&#x27;ignore&#x27;))]),\n",
       "                                                  Index([&#x27;type&#x27;, &#x27;gender&#x27;, &#x27;device&#x27;, &#x27;zone&#x27;], dtype=&#x27;object&#x27;))])),\n",
       "                (&#x27;clasificador&#x27;,\n",
       "                 LogisticRegressionCV(cv=8, n_jobs=4, random_state=0))])</pre><b>In a Jupyter environment, please rerun this cell to show the HTML representation or trust the notebook. <br />On GitHub, the HTML representation is unable to render, please try loading this page with nbviewer.org.</b></div><div class=\"sk-container\" hidden><div class=\"sk-item sk-dashed-wrapped\"><div class=\"sk-label-container\"><div class=\"sk-label sk-toggleable\"><input class=\"sk-toggleable__control sk-hidden--visually\" id=\"sk-estimator-id-28\" type=\"checkbox\" ><label for=\"sk-estimator-id-28\" class=\"sk-toggleable__label sk-toggleable__label-arrow\">Pipeline</label><div class=\"sk-toggleable__content\"><pre>Pipeline(steps=[(&#x27;preprocesador&#x27;,\n",
       "                 ColumnTransformer(transformers=[(&#x27;num&#x27;,\n",
       "                                                  Pipeline(steps=[(&#x27;imputer&#x27;,\n",
       "                                                                   SimpleImputer(strategy=&#x27;median&#x27;)),\n",
       "                                                                  (&#x27;scaler&#x27;,\n",
       "                                                                   StandardScaler())]),\n",
       "                                                  Index([&#x27;step&#x27;, &#x27;amount&#x27;, &#x27;user_connections&#x27;, &#x27;user_number&#x27;, &#x27;age&#x27;,\n",
       "       &#x27;connection_time&#x27;, &#x27;oldbalanceOrg&#x27;, &#x27;newbalanceOrig&#x27;, &#x27;security_alert&#x27;,\n",
       "       &#x27;oldbalanceDest&#x27;, &#x27;newbalanceDest&#x27;],\n",
       "      dtype=&#x27;object&#x27;)),\n",
       "                                                 (&#x27;cat&#x27;,\n",
       "                                                  Pipeline(steps=[(&#x27;imputer&#x27;,\n",
       "                                                                   SimpleImputer(fill_value=&#x27;missing&#x27;,\n",
       "                                                                                 strategy=&#x27;constant&#x27;)),\n",
       "                                                                  (&#x27;onehot&#x27;,\n",
       "                                                                   OneHotEncoder(handle_unknown=&#x27;ignore&#x27;))]),\n",
       "                                                  Index([&#x27;type&#x27;, &#x27;gender&#x27;, &#x27;device&#x27;, &#x27;zone&#x27;], dtype=&#x27;object&#x27;))])),\n",
       "                (&#x27;clasificador&#x27;,\n",
       "                 LogisticRegressionCV(cv=8, n_jobs=4, random_state=0))])</pre></div></div></div><div class=\"sk-serial\"><div class=\"sk-item sk-dashed-wrapped\"><div class=\"sk-label-container\"><div class=\"sk-label sk-toggleable\"><input class=\"sk-toggleable__control sk-hidden--visually\" id=\"sk-estimator-id-29\" type=\"checkbox\" ><label for=\"sk-estimator-id-29\" class=\"sk-toggleable__label sk-toggleable__label-arrow\">preprocesador: ColumnTransformer</label><div class=\"sk-toggleable__content\"><pre>ColumnTransformer(transformers=[(&#x27;num&#x27;,\n",
       "                                 Pipeline(steps=[(&#x27;imputer&#x27;,\n",
       "                                                  SimpleImputer(strategy=&#x27;median&#x27;)),\n",
       "                                                 (&#x27;scaler&#x27;, StandardScaler())]),\n",
       "                                 Index([&#x27;step&#x27;, &#x27;amount&#x27;, &#x27;user_connections&#x27;, &#x27;user_number&#x27;, &#x27;age&#x27;,\n",
       "       &#x27;connection_time&#x27;, &#x27;oldbalanceOrg&#x27;, &#x27;newbalanceOrig&#x27;, &#x27;security_alert&#x27;,\n",
       "       &#x27;oldbalanceDest&#x27;, &#x27;newbalanceDest&#x27;],\n",
       "      dtype=&#x27;object&#x27;)),\n",
       "                                (&#x27;cat&#x27;,\n",
       "                                 Pipeline(steps=[(&#x27;imputer&#x27;,\n",
       "                                                  SimpleImputer(fill_value=&#x27;missing&#x27;,\n",
       "                                                                strategy=&#x27;constant&#x27;)),\n",
       "                                                 (&#x27;onehot&#x27;,\n",
       "                                                  OneHotEncoder(handle_unknown=&#x27;ignore&#x27;))]),\n",
       "                                 Index([&#x27;type&#x27;, &#x27;gender&#x27;, &#x27;device&#x27;, &#x27;zone&#x27;], dtype=&#x27;object&#x27;))])</pre></div></div></div><div class=\"sk-parallel\"><div class=\"sk-parallel-item\"><div class=\"sk-item\"><div class=\"sk-label-container\"><div class=\"sk-label sk-toggleable\"><input class=\"sk-toggleable__control sk-hidden--visually\" id=\"sk-estimator-id-30\" type=\"checkbox\" ><label for=\"sk-estimator-id-30\" class=\"sk-toggleable__label sk-toggleable__label-arrow\">num</label><div class=\"sk-toggleable__content\"><pre>Index([&#x27;step&#x27;, &#x27;amount&#x27;, &#x27;user_connections&#x27;, &#x27;user_number&#x27;, &#x27;age&#x27;,\n",
       "       &#x27;connection_time&#x27;, &#x27;oldbalanceOrg&#x27;, &#x27;newbalanceOrig&#x27;, &#x27;security_alert&#x27;,\n",
       "       &#x27;oldbalanceDest&#x27;, &#x27;newbalanceDest&#x27;],\n",
       "      dtype=&#x27;object&#x27;)</pre></div></div></div><div class=\"sk-serial\"><div class=\"sk-item\"><div class=\"sk-serial\"><div class=\"sk-item\"><div class=\"sk-estimator sk-toggleable\"><input class=\"sk-toggleable__control sk-hidden--visually\" id=\"sk-estimator-id-31\" type=\"checkbox\" ><label for=\"sk-estimator-id-31\" class=\"sk-toggleable__label sk-toggleable__label-arrow\">SimpleImputer</label><div class=\"sk-toggleable__content\"><pre>SimpleImputer(strategy=&#x27;median&#x27;)</pre></div></div></div><div class=\"sk-item\"><div class=\"sk-estimator sk-toggleable\"><input class=\"sk-toggleable__control sk-hidden--visually\" id=\"sk-estimator-id-32\" type=\"checkbox\" ><label for=\"sk-estimator-id-32\" class=\"sk-toggleable__label sk-toggleable__label-arrow\">StandardScaler</label><div class=\"sk-toggleable__content\"><pre>StandardScaler()</pre></div></div></div></div></div></div></div></div><div class=\"sk-parallel-item\"><div class=\"sk-item\"><div class=\"sk-label-container\"><div class=\"sk-label sk-toggleable\"><input class=\"sk-toggleable__control sk-hidden--visually\" id=\"sk-estimator-id-33\" type=\"checkbox\" ><label for=\"sk-estimator-id-33\" class=\"sk-toggleable__label sk-toggleable__label-arrow\">cat</label><div class=\"sk-toggleable__content\"><pre>Index([&#x27;type&#x27;, &#x27;gender&#x27;, &#x27;device&#x27;, &#x27;zone&#x27;], dtype=&#x27;object&#x27;)</pre></div></div></div><div class=\"sk-serial\"><div class=\"sk-item\"><div class=\"sk-serial\"><div class=\"sk-item\"><div class=\"sk-estimator sk-toggleable\"><input class=\"sk-toggleable__control sk-hidden--visually\" id=\"sk-estimator-id-34\" type=\"checkbox\" ><label for=\"sk-estimator-id-34\" class=\"sk-toggleable__label sk-toggleable__label-arrow\">SimpleImputer</label><div class=\"sk-toggleable__content\"><pre>SimpleImputer(fill_value=&#x27;missing&#x27;, strategy=&#x27;constant&#x27;)</pre></div></div></div><div class=\"sk-item\"><div class=\"sk-estimator sk-toggleable\"><input class=\"sk-toggleable__control sk-hidden--visually\" id=\"sk-estimator-id-35\" type=\"checkbox\" ><label for=\"sk-estimator-id-35\" class=\"sk-toggleable__label sk-toggleable__label-arrow\">OneHotEncoder</label><div class=\"sk-toggleable__content\"><pre>OneHotEncoder(handle_unknown=&#x27;ignore&#x27;)</pre></div></div></div></div></div></div></div></div></div></div><div class=\"sk-item\"><div class=\"sk-estimator sk-toggleable\"><input class=\"sk-toggleable__control sk-hidden--visually\" id=\"sk-estimator-id-36\" type=\"checkbox\" ><label for=\"sk-estimator-id-36\" class=\"sk-toggleable__label sk-toggleable__label-arrow\">LogisticRegressionCV</label><div class=\"sk-toggleable__content\"><pre>LogisticRegressionCV(cv=8, n_jobs=4, random_state=0)</pre></div></div></div></div></div></div></div>"
      ],
      "text/plain": [
       "Pipeline(steps=[('preprocesador',\n",
       "                 ColumnTransformer(transformers=[('num',\n",
       "                                                  Pipeline(steps=[('imputer',\n",
       "                                                                   SimpleImputer(strategy='median')),\n",
       "                                                                  ('scaler',\n",
       "                                                                   StandardScaler())]),\n",
       "                                                  Index(['step', 'amount', 'user_connections', 'user_number', 'age',\n",
       "       'connection_time', 'oldbalanceOrg', 'newbalanceOrig', 'security_alert',\n",
       "       'oldbalanceDest', 'newbalanceDest'],\n",
       "      dtype='object')),\n",
       "                                                 ('cat',\n",
       "                                                  Pipeline(steps=[('imputer',\n",
       "                                                                   SimpleImputer(fill_value='missing',\n",
       "                                                                                 strategy='constant')),\n",
       "                                                                  ('onehot',\n",
       "                                                                   OneHotEncoder(handle_unknown='ignore'))]),\n",
       "                                                  Index(['type', 'gender', 'device', 'zone'], dtype='object'))])),\n",
       "                ('clasificador',\n",
       "                 LogisticRegressionCV(cv=8, n_jobs=4, random_state=0))])"
      ]
     },
     "execution_count": 96,
     "metadata": {},
     "output_type": "execute_result"
    }
   ],
   "source": [
    "clf.fit(xtrain, ytrain)"
   ]
  },
  {
   "cell_type": "code",
   "execution_count": null,
   "id": "d83b0c81",
   "metadata": {},
   "outputs": [],
   "source": [
    "# Guardamos en un pickle el modelo \n",
    "with open('../models/LR.pickle', 'wb') as f:\n",
    "    pickle.dump(clf, f)"
   ]
  },
  {
   "cell_type": "code",
   "execution_count": null,
   "id": "ba98677b",
   "metadata": {},
   "outputs": [],
   "source": [
    "cargar_modelo('../models/LR.pickle')"
   ]
  },
  {
   "cell_type": "code",
   "execution_count": 97,
   "id": "f29a5ec0",
   "metadata": {},
   "outputs": [
    {
     "name": "stdout",
     "output_type": "stream",
     "text": [
      "ROC-AUC score of the model: 0.9918067658717693\n",
      "Accuracy of the model: 0.9476318359375\n",
      "\n",
      "Classification report: \n",
      "              precision    recall  f1-score   support\n",
      "\n",
      "         0.0       1.00      0.95      0.97    196375\n",
      "         1.0       0.02      0.96      0.04       233\n",
      "\n",
      "    accuracy                           0.95    196608\n",
      "   macro avg       0.51      0.95      0.51    196608\n",
      "weighted avg       1.00      0.95      0.97    196608\n",
      "\n",
      "\n"
     ]
    }
   ],
   "source": [
    "ypred = clf.predict(xval)\n",
    "ypred_proba = clf.predict_proba(xval)\n",
    "evaluate_model(yval,ypred,ypred_proba)"
   ]
  },
  {
   "cell_type": "code",
   "execution_count": 98,
   "id": "aae706d2",
   "metadata": {},
   "outputs": [
    {
     "data": {
      "image/png": "[encoded data removed]",
      "text/plain": [
       "<Figure size 648x648 with 2 Axes>"
      ]
     },
     "metadata": {
      "needs_background": "light"
     },
     "output_type": "display_data"
    }
   ],
   "source": [
    "cm= confusion_matrix(yval, ypred)\n",
    "plt.figure(figsize=(9,9))\n",
    "sns.heatmap(cm, annot=True, fmt=\".3f\", linewidths=.5, square = True, cmap = 'Blues_r');\n",
    "plt.ylabel('Actual label');"
   ]
  },
  {
   "cell_type": "markdown",
   "id": "6df46b4d",
   "metadata": {},
   "source": [
    "- Ajustamos nuestra predicción"
   ]
  },
  {
   "cell_type": "code",
   "execution_count": 70,
   "id": "0cfd0226",
   "metadata": {},
   "outputs": [
    {
     "name": "stdout",
     "output_type": "stream",
     "text": [
      "Best Threshold=0.608233, G-Mean=0.957\n",
      "ROC-AUC score of the model: 0.9918067658717693\n",
      "Accuracy of the model: 0.9660491943359375\n",
      "\n",
      "Classification report: \n",
      "              precision    recall  f1-score   support\n",
      "\n",
      "         0.0       1.00      0.97      0.98    196375\n",
      "         1.0       0.03      0.94      0.06       233\n",
      "\n",
      "    accuracy                           0.97    196608\n",
      "   macro avg       0.52      0.96      0.52    196608\n",
      "weighted avg       1.00      0.97      0.98    196608\n",
      "\n",
      "\n"
     ]
    }
   ],
   "source": [
    "yhat = ypred_proba[:, 1]\n",
    "# calculate roc curves\n",
    "fpr, tpr, thresholds = roc_curve(yval, yhat)\n",
    "\n",
    "gmeans = np.sqrt(tpr * (1-fpr))\n",
    "# locate the index of the largest g-mean\n",
    "ix = np.argmax(gmeans)\n",
    "print('Best Threshold=%f, G-Mean=%.3f' % (thresholds[ix], gmeans[ix]))\n",
    "\n",
    "ypred_new_threshold = (ypred_proba[:,1]>thresholds[ix]).astype(int)\n",
    "evaluate_model(yval,ypred_new_threshold,ypred_proba)"
   ]
  },
  {
   "cell_type": "markdown",
   "id": "6501e589",
   "metadata": {},
   "source": [
    "**Aqui va la interpretación de los datos**"
   ]
  },
  {
   "cell_type": "markdown",
   "id": "ec8d364c",
   "metadata": {},
   "source": [
    "# Regresión Logística (Lasso)"
   ]
  },
  {
   "cell_type": "code",
   "execution_count": 63,
   "id": "dcfab8b0",
   "metadata": {},
   "outputs": [],
   "source": [
    "clf = Pipeline(steps=[\n",
    "    ('preprocesador', preprocessor), \n",
    "    ('clasificador', LogisticRegression(C = 1,random_state=0, n_jobs=2, penalty='l1', solver='liblinear', tol= 0.0005))])"
   ]
  },
  {
   "cell_type": "code",
   "execution_count": 64,
   "id": "05b465e2",
   "metadata": {},
   "outputs": [
    {
     "data": {
      "text/html": [
       "<style>#sk-container-id-1 {color: black;background-color: white;}#sk-container-id-1 pre{padding: 0;}#sk-container-id-1 div.sk-toggleable {background-color: white;}#sk-container-id-1 label.sk-toggleable__label {cursor: pointer;display: block;width: 100%;margin-bottom: 0;padding: 0.3em;box-sizing: border-box;text-align: center;}#sk-container-id-1 label.sk-toggleable__label-arrow:before {content: \"▸\";float: left;margin-right: 0.25em;color: #696969;}#sk-container-id-1 label.sk-toggleable__label-arrow:hover:before {color: black;}#sk-container-id-1 div.sk-estimator:hover label.sk-toggleable__label-arrow:before {color: black;}#sk-container-id-1 div.sk-toggleable__content {max-height: 0;max-width: 0;overflow: hidden;text-align: left;background-color: #f0f8ff;}#sk-container-id-1 div.sk-toggleable__content pre {margin: 0.2em;color: black;border-radius: 0.25em;background-color: #f0f8ff;}#sk-container-id-1 input.sk-toggleable__control:checked~div.sk-toggleable__content {max-height: 200px;max-width: 100%;overflow: auto;}#sk-container-id-1 input.sk-toggleable__control:checked~label.sk-toggleable__label-arrow:before {content: \"▾\";}#sk-container-id-1 div.sk-estimator input.sk-toggleable__control:checked~label.sk-toggleable__label {background-color: #d4ebff;}#sk-container-id-1 div.sk-label input.sk-toggleable__control:checked~label.sk-toggleable__label {background-color: #d4ebff;}#sk-container-id-1 input.sk-hidden--visually {border: 0;clip: rect(1px 1px 1px 1px);clip: rect(1px, 1px, 1px, 1px);height: 1px;margin: -1px;overflow: hidden;padding: 0;position: absolute;width: 1px;}#sk-container-id-1 div.sk-estimator {font-family: monospace;background-color: #f0f8ff;border: 1px dotted black;border-radius: 0.25em;box-sizing: border-box;margin-bottom: 0.5em;}#sk-container-id-1 div.sk-estimator:hover {background-color: #d4ebff;}#sk-container-id-1 div.sk-parallel-item::after {content: \"\";width: 100%;border-bottom: 1px solid gray;flex-grow: 1;}#sk-container-id-1 div.sk-label:hover label.sk-toggleable__label {background-color: #d4ebff;}#sk-container-id-1 div.sk-serial::before {content: \"\";position: absolute;border-left: 1px solid gray;box-sizing: border-box;top: 0;bottom: 0;left: 50%;z-index: 0;}#sk-container-id-1 div.sk-serial {display: flex;flex-direction: column;align-items: center;background-color: white;padding-right: 0.2em;padding-left: 0.2em;position: relative;}#sk-container-id-1 div.sk-item {position: relative;z-index: 1;}#sk-container-id-1 div.sk-parallel {display: flex;align-items: stretch;justify-content: center;background-color: white;position: relative;}#sk-container-id-1 div.sk-item::before, #sk-container-id-1 div.sk-parallel-item::before {content: \"\";position: absolute;border-left: 1px solid gray;box-sizing: border-box;top: 0;bottom: 0;left: 50%;z-index: -1;}#sk-container-id-1 div.sk-parallel-item {display: flex;flex-direction: column;z-index: 1;position: relative;background-color: white;}#sk-container-id-1 div.sk-parallel-item:first-child::after {align-self: flex-end;width: 50%;}#sk-container-id-1 div.sk-parallel-item:last-child::after {align-self: flex-start;width: 50%;}#sk-container-id-1 div.sk-parallel-item:only-child::after {width: 0;}#sk-container-id-1 div.sk-dashed-wrapped {border: 1px dashed gray;margin: 0 0.4em 0.5em 0.4em;box-sizing: border-box;padding-bottom: 0.4em;background-color: white;}#sk-container-id-1 div.sk-label label {font-family: monospace;font-weight: bold;display: inline-block;line-height: 1.2em;}#sk-container-id-1 div.sk-label-container {text-align: center;}#sk-container-id-1 div.sk-container {/* jupyter's `normalize.less` sets `[hidden] { display: none; }` but bootstrap.min.css set `[hidden] { display: none !important; }` so we also need the `!important` here to be able to override the default hidden behavior on the sphinx rendered scikit-learn.org. See: https://github.com/scikit-learn/scikit-learn/issues/21755 */display: inline-block !important;position: relative;}#sk-container-id-1 div.sk-text-repr-fallback {display: none;}</style><div id=\"sk-container-id-1\" class=\"sk-top-container\"><div class=\"sk-text-repr-fallback\"><pre>Pipeline(steps=[(&#x27;preprocesador&#x27;,\n",
       "                 ColumnTransformer(transformers=[(&#x27;num&#x27;,\n",
       "                                                  Pipeline(steps=[(&#x27;imputer&#x27;,\n",
       "                                                                   SimpleImputer(strategy=&#x27;median&#x27;)),\n",
       "                                                                  (&#x27;scaler&#x27;,\n",
       "                                                                   StandardScaler())]),\n",
       "                                                  Index([&#x27;step&#x27;, &#x27;amount&#x27;, &#x27;user_connections&#x27;, &#x27;user_number&#x27;, &#x27;age&#x27;,\n",
       "       &#x27;connection_time&#x27;, &#x27;oldbalanceOrg&#x27;, &#x27;newbalanceOrig&#x27;, &#x27;security_alert&#x27;,\n",
       "       &#x27;oldbalanceDest&#x27;, &#x27;newbalanceDest&#x27;],\n",
       "      dtype=&#x27;object&#x27;)),\n",
       "                                                 (&#x27;cat&#x27;,\n",
       "                                                  Pipeline(steps=[(&#x27;imputer&#x27;,\n",
       "                                                                   SimpleImputer(fill_value=&#x27;missing&#x27;,\n",
       "                                                                                 strategy=&#x27;constant&#x27;)),\n",
       "                                                                  (&#x27;onehot&#x27;,\n",
       "                                                                   OneHotEncoder(handle_unknown=&#x27;ignore&#x27;))]),\n",
       "                                                  Index([&#x27;type&#x27;, &#x27;gender&#x27;, &#x27;device&#x27;, &#x27;zone&#x27;], dtype=&#x27;object&#x27;))])),\n",
       "                (&#x27;clasificador&#x27;,\n",
       "                 LogisticRegression(C=1, n_jobs=2, penalty=&#x27;l1&#x27;, random_state=0,\n",
       "                                    solver=&#x27;liblinear&#x27;, tol=0.0005))])</pre><b>In a Jupyter environment, please rerun this cell to show the HTML representation or trust the notebook. <br />On GitHub, the HTML representation is unable to render, please try loading this page with nbviewer.org.</b></div><div class=\"sk-container\" hidden><div class=\"sk-item sk-dashed-wrapped\"><div class=\"sk-label-container\"><div class=\"sk-label sk-toggleable\"><input class=\"sk-toggleable__control sk-hidden--visually\" id=\"sk-estimator-id-1\" type=\"checkbox\" ><label for=\"sk-estimator-id-1\" class=\"sk-toggleable__label sk-toggleable__label-arrow\">Pipeline</label><div class=\"sk-toggleable__content\"><pre>Pipeline(steps=[(&#x27;preprocesador&#x27;,\n",
       "                 ColumnTransformer(transformers=[(&#x27;num&#x27;,\n",
       "                                                  Pipeline(steps=[(&#x27;imputer&#x27;,\n",
       "                                                                   SimpleImputer(strategy=&#x27;median&#x27;)),\n",
       "                                                                  (&#x27;scaler&#x27;,\n",
       "                                                                   StandardScaler())]),\n",
       "                                                  Index([&#x27;step&#x27;, &#x27;amount&#x27;, &#x27;user_connections&#x27;, &#x27;user_number&#x27;, &#x27;age&#x27;,\n",
       "       &#x27;connection_time&#x27;, &#x27;oldbalanceOrg&#x27;, &#x27;newbalanceOrig&#x27;, &#x27;security_alert&#x27;,\n",
       "       &#x27;oldbalanceDest&#x27;, &#x27;newbalanceDest&#x27;],\n",
       "      dtype=&#x27;object&#x27;)),\n",
       "                                                 (&#x27;cat&#x27;,\n",
       "                                                  Pipeline(steps=[(&#x27;imputer&#x27;,\n",
       "                                                                   SimpleImputer(fill_value=&#x27;missing&#x27;,\n",
       "                                                                                 strategy=&#x27;constant&#x27;)),\n",
       "                                                                  (&#x27;onehot&#x27;,\n",
       "                                                                   OneHotEncoder(handle_unknown=&#x27;ignore&#x27;))]),\n",
       "                                                  Index([&#x27;type&#x27;, &#x27;gender&#x27;, &#x27;device&#x27;, &#x27;zone&#x27;], dtype=&#x27;object&#x27;))])),\n",
       "                (&#x27;clasificador&#x27;,\n",
       "                 LogisticRegression(C=1, n_jobs=2, penalty=&#x27;l1&#x27;, random_state=0,\n",
       "                                    solver=&#x27;liblinear&#x27;, tol=0.0005))])</pre></div></div></div><div class=\"sk-serial\"><div class=\"sk-item sk-dashed-wrapped\"><div class=\"sk-label-container\"><div class=\"sk-label sk-toggleable\"><input class=\"sk-toggleable__control sk-hidden--visually\" id=\"sk-estimator-id-2\" type=\"checkbox\" ><label for=\"sk-estimator-id-2\" class=\"sk-toggleable__label sk-toggleable__label-arrow\">preprocesador: ColumnTransformer</label><div class=\"sk-toggleable__content\"><pre>ColumnTransformer(transformers=[(&#x27;num&#x27;,\n",
       "                                 Pipeline(steps=[(&#x27;imputer&#x27;,\n",
       "                                                  SimpleImputer(strategy=&#x27;median&#x27;)),\n",
       "                                                 (&#x27;scaler&#x27;, StandardScaler())]),\n",
       "                                 Index([&#x27;step&#x27;, &#x27;amount&#x27;, &#x27;user_connections&#x27;, &#x27;user_number&#x27;, &#x27;age&#x27;,\n",
       "       &#x27;connection_time&#x27;, &#x27;oldbalanceOrg&#x27;, &#x27;newbalanceOrig&#x27;, &#x27;security_alert&#x27;,\n",
       "       &#x27;oldbalanceDest&#x27;, &#x27;newbalanceDest&#x27;],\n",
       "      dtype=&#x27;object&#x27;)),\n",
       "                                (&#x27;cat&#x27;,\n",
       "                                 Pipeline(steps=[(&#x27;imputer&#x27;,\n",
       "                                                  SimpleImputer(fill_value=&#x27;missing&#x27;,\n",
       "                                                                strategy=&#x27;constant&#x27;)),\n",
       "                                                 (&#x27;onehot&#x27;,\n",
       "                                                  OneHotEncoder(handle_unknown=&#x27;ignore&#x27;))]),\n",
       "                                 Index([&#x27;type&#x27;, &#x27;gender&#x27;, &#x27;device&#x27;, &#x27;zone&#x27;], dtype=&#x27;object&#x27;))])</pre></div></div></div><div class=\"sk-parallel\"><div class=\"sk-parallel-item\"><div class=\"sk-item\"><div class=\"sk-label-container\"><div class=\"sk-label sk-toggleable\"><input class=\"sk-toggleable__control sk-hidden--visually\" id=\"sk-estimator-id-3\" type=\"checkbox\" ><label for=\"sk-estimator-id-3\" class=\"sk-toggleable__label sk-toggleable__label-arrow\">num</label><div class=\"sk-toggleable__content\"><pre>Index([&#x27;step&#x27;, &#x27;amount&#x27;, &#x27;user_connections&#x27;, &#x27;user_number&#x27;, &#x27;age&#x27;,\n",
       "       &#x27;connection_time&#x27;, &#x27;oldbalanceOrg&#x27;, &#x27;newbalanceOrig&#x27;, &#x27;security_alert&#x27;,\n",
       "       &#x27;oldbalanceDest&#x27;, &#x27;newbalanceDest&#x27;],\n",
       "      dtype=&#x27;object&#x27;)</pre></div></div></div><div class=\"sk-serial\"><div class=\"sk-item\"><div class=\"sk-serial\"><div class=\"sk-item\"><div class=\"sk-estimator sk-toggleable\"><input class=\"sk-toggleable__control sk-hidden--visually\" id=\"sk-estimator-id-4\" type=\"checkbox\" ><label for=\"sk-estimator-id-4\" class=\"sk-toggleable__label sk-toggleable__label-arrow\">SimpleImputer</label><div class=\"sk-toggleable__content\"><pre>SimpleImputer(strategy=&#x27;median&#x27;)</pre></div></div></div><div class=\"sk-item\"><div class=\"sk-estimator sk-toggleable\"><input class=\"sk-toggleable__control sk-hidden--visually\" id=\"sk-estimator-id-5\" type=\"checkbox\" ><label for=\"sk-estimator-id-5\" class=\"sk-toggleable__label sk-toggleable__label-arrow\">StandardScaler</label><div class=\"sk-toggleable__content\"><pre>StandardScaler()</pre></div></div></div></div></div></div></div></div><div class=\"sk-parallel-item\"><div class=\"sk-item\"><div class=\"sk-label-container\"><div class=\"sk-label sk-toggleable\"><input class=\"sk-toggleable__control sk-hidden--visually\" id=\"sk-estimator-id-6\" type=\"checkbox\" ><label for=\"sk-estimator-id-6\" class=\"sk-toggleable__label sk-toggleable__label-arrow\">cat</label><div class=\"sk-toggleable__content\"><pre>Index([&#x27;type&#x27;, &#x27;gender&#x27;, &#x27;device&#x27;, &#x27;zone&#x27;], dtype=&#x27;object&#x27;)</pre></div></div></div><div class=\"sk-serial\"><div class=\"sk-item\"><div class=\"sk-serial\"><div class=\"sk-item\"><div class=\"sk-estimator sk-toggleable\"><input class=\"sk-toggleable__control sk-hidden--visually\" id=\"sk-estimator-id-7\" type=\"checkbox\" ><label for=\"sk-estimator-id-7\" class=\"sk-toggleable__label sk-toggleable__label-arrow\">SimpleImputer</label><div class=\"sk-toggleable__content\"><pre>SimpleImputer(fill_value=&#x27;missing&#x27;, strategy=&#x27;constant&#x27;)</pre></div></div></div><div class=\"sk-item\"><div class=\"sk-estimator sk-toggleable\"><input class=\"sk-toggleable__control sk-hidden--visually\" id=\"sk-estimator-id-8\" type=\"checkbox\" ><label for=\"sk-estimator-id-8\" class=\"sk-toggleable__label sk-toggleable__label-arrow\">OneHotEncoder</label><div class=\"sk-toggleable__content\"><pre>OneHotEncoder(handle_unknown=&#x27;ignore&#x27;)</pre></div></div></div></div></div></div></div></div></div></div><div class=\"sk-item\"><div class=\"sk-estimator sk-toggleable\"><input class=\"sk-toggleable__control sk-hidden--visually\" id=\"sk-estimator-id-9\" type=\"checkbox\" ><label for=\"sk-estimator-id-9\" class=\"sk-toggleable__label sk-toggleable__label-arrow\">LogisticRegression</label><div class=\"sk-toggleable__content\"><pre>LogisticRegression(C=1, n_jobs=2, penalty=&#x27;l1&#x27;, random_state=0,\n",
       "                   solver=&#x27;liblinear&#x27;, tol=0.0005)</pre></div></div></div></div></div></div></div>"
      ],
      "text/plain": [
       "Pipeline(steps=[('preprocesador',\n",
       "                 ColumnTransformer(transformers=[('num',\n",
       "                                                  Pipeline(steps=[('imputer',\n",
       "                                                                   SimpleImputer(strategy='median')),\n",
       "                                                                  ('scaler',\n",
       "                                                                   StandardScaler())]),\n",
       "                                                  Index(['step', 'amount', 'user_connections', 'user_number', 'age',\n",
       "       'connection_time', 'oldbalanceOrg', 'newbalanceOrig', 'security_alert',\n",
       "       'oldbalanceDest', 'newbalanceDest'],\n",
       "      dtype='object')),\n",
       "                                                 ('cat',\n",
       "                                                  Pipeline(steps=[('imputer',\n",
       "                                                                   SimpleImputer(fill_value='missing',\n",
       "                                                                                 strategy='constant')),\n",
       "                                                                  ('onehot',\n",
       "                                                                   OneHotEncoder(handle_unknown='ignore'))]),\n",
       "                                                  Index(['type', 'gender', 'device', 'zone'], dtype='object'))])),\n",
       "                ('clasificador',\n",
       "                 LogisticRegression(C=1, n_jobs=2, penalty='l1', random_state=0,\n",
       "                                    solver='liblinear', tol=0.0005))])"
      ]
     },
     "execution_count": 64,
     "metadata": {},
     "output_type": "execute_result"
    }
   ],
   "source": [
    "clf.fit(xtrain, ytrain)"
   ]
  },
  {
   "cell_type": "code",
   "execution_count": 65,
   "id": "e3dda02e",
   "metadata": {},
   "outputs": [
    {
     "ename": "FileNotFoundError",
     "evalue": "[Errno 2] No such file or directory: '../models/LRlasso.pickle'",
     "output_type": "error",
     "traceback": [
      "\u001b[1;31m---------------------------------------------------------------------------\u001b[0m",
      "\u001b[1;31mFileNotFoundError\u001b[0m                         Traceback (most recent call last)",
      "Input \u001b[1;32mIn [65]\u001b[0m, in \u001b[0;36m<cell line: 1>\u001b[1;34m()\u001b[0m\n\u001b[1;32m----> 1\u001b[0m \u001b[38;5;28;01mwith\u001b[39;00m \u001b[38;5;28;43mopen\u001b[39;49m\u001b[43m(\u001b[49m\u001b[38;5;124;43m'\u001b[39;49m\u001b[38;5;124;43m../models/LRlasso.pickle\u001b[39;49m\u001b[38;5;124;43m'\u001b[39;49m\u001b[43m,\u001b[49m\u001b[43m \u001b[49m\u001b[38;5;124;43m'\u001b[39;49m\u001b[38;5;124;43mwb\u001b[39;49m\u001b[38;5;124;43m'\u001b[39;49m\u001b[43m)\u001b[49m \u001b[38;5;28;01mas\u001b[39;00m f:\n\u001b[0;32m      2\u001b[0m     pickle\u001b[38;5;241m.\u001b[39mdump(clf, f)\n",
      "\u001b[1;31mFileNotFoundError\u001b[0m: [Errno 2] No such file or directory: '../models/LRlasso.pickle'"
     ]
    }
   ],
   "source": [
    "with open('../models/LRlasso.pickle', 'wb') as f:\n",
    "    pickle.dump(clf, f)"
   ]
  },
  {
   "cell_type": "code",
   "execution_count": null,
   "id": "6a9d3452",
   "metadata": {},
   "outputs": [],
   "source": [
    "cargar_modelo('../models/LRlasso.pickle')"
   ]
  },
  {
   "cell_type": "code",
   "execution_count": null,
   "id": "6d865ac4",
   "metadata": {},
   "outputs": [],
   "source": [
    "ypred = clf.predict(xval)\n",
    "ypred_proba = clf.predict_proba(xval)\n",
    "evaluate_model(yval, ypred, ypred_proba)"
   ]
  },
  {
   "cell_type": "markdown",
   "id": "782bce8a",
   "metadata": {},
   "source": [
    "- Ajustamos nuestra predicción"
   ]
  },
  {
   "cell_type": "code",
   "execution_count": null,
   "id": "d0c4e20e",
   "metadata": {},
   "outputs": [],
   "source": [
    "yhat = ypred_proba[:, 1]\n",
    "# calculate roc curves\n",
    "fpr, tpr, thresholds = roc_curve(yval, yhat)\n",
    "\n",
    "gmeans = np.sqrt(tpr * (1-fpr))\n",
    "# locate the index of the largest g-mean\n",
    "ix = np.argmax(gmeans)\n",
    "print('Best Threshold=%f, G-Mean=%.3f' % (thresholds[ix], gmeans[ix]))\n",
    "\n",
    "ypred_new_threshold = (ypred_proba[:,1]>thresholds[ix]).astype(int)\n",
    "evaluate_model(yval,ypred_new_threshold,ypred_proba)"
   ]
  },
  {
   "cell_type": "markdown",
   "id": "ee91542c",
   "metadata": {},
   "source": [
    "**Aqui va la interpretacion de los datos**"
   ]
  },
  {
   "cell_type": "markdown",
   "id": "e2555a12",
   "metadata": {},
   "source": [
    "# Generalized Linear Models"
   ]
  },
  {
   "cell_type": "code",
   "execution_count": null,
   "id": "61c4dab9",
   "metadata": {},
   "outputs": [],
   "source": [
    "# clf = Pipeline(steps=[\n",
    "#     ('preprocesador', preprocessor),\n",
    "#     ('clasificador', sm.GLM(df.endog, df.exog, family=sm.families.Gamma()))])"
   ]
  },
  {
   "cell_type": "code",
   "execution_count": null,
   "id": "6dff0953",
   "metadata": {},
   "outputs": [],
   "source": [
    "results = gamma_model.fit()"
   ]
  },
  {
   "cell_type": "code",
   "execution_count": null,
   "id": "736356b3",
   "metadata": {},
   "outputs": [],
   "source": [
    "print(results.summary())"
   ]
  },
  {
   "cell_type": "markdown",
   "id": "386cb788",
   "metadata": {},
   "source": [
    "**Aqui va la interpretacion de los datos**"
   ]
  },
  {
   "cell_type": "markdown",
   "id": "fbd8c2ee",
   "metadata": {},
   "source": [
    "# Support Vector Machine"
   ]
  },
  {
   "cell_type": "code",
   "execution_count": null,
   "id": "7b1fa98b",
   "metadata": {},
   "outputs": [],
   "source": [
    "clf = Pipeline(steps=[\n",
    "    ('preprocesador', preprocessor),\n",
    "    ('clasificador', SVM(C = 1, kernel = 'linear', random_state = 0))])"
   ]
  },
  {
   "cell_type": "code",
   "execution_count": null,
   "id": "1528fa30",
   "metadata": {},
   "outputs": [],
   "source": [
    "clf.fit(xtrain, ytrain)"
   ]
  },
  {
   "cell_type": "code",
   "execution_count": null,
   "id": "6c1d7c24",
   "metadata": {},
   "outputs": [],
   "source": [
    "# Representación gráfica de los límites de clasificación\n",
    "# ==============================================================================\n",
    "# Grid de valores\n",
    "x = np.linspace(np.min(xtrain.X1), np.max(xtrain.X1), 50)\n",
    "y = np.linspace(np.min(xtrain.X2), np.max(xtrain.X2), 50)\n",
    "Y, X = np.meshgrid(y, x)\n",
    "grid = np.vstack([X.ravel(), Y.ravel()]).T\n",
    "\n",
    "# Predicción valores grid\n",
    "pred_grid = modelo.predict(grid)\n",
    "\n",
    "fig, ax = plt.subplots(figsize=(6,4))\n",
    "ax.scatter(grid[:,0], grid[:,1], c=pred_grid, alpha = 0.2)\n",
    "ax.scatter(xtrain.X1, xtrain.X2, c=ytrain, alpha = 1)\n",
    "\n",
    "# Vectores soporte\n",
    "ax.scatter(\n",
    "    modelo.support_vectors_[:, 0],\n",
    "    modelo.support_vectors_[:, 1],\n",
    "    s=200, linewidth=1,\n",
    "    facecolors='none', edgecolors='black'\n",
    ")\n",
    "\n",
    "# Hiperplano de separación\n",
    "ax.contour(\n",
    "    X,\n",
    "    Y,\n",
    "    modelo.decision_function(grid).reshape(X.shape),\n",
    "    colors = 'k',\n",
    "    levels = [-1, 0, 1],\n",
    "    alpha  = 0.5,\n",
    "    linestyles = ['--', '-', '--']\n",
    ")\n",
    "\n",
    "ax.set_title(\"Resultados clasificación SVM lineal\");\n"
   ]
  },
  {
   "cell_type": "code",
   "execution_count": null,
   "id": "6e625e95",
   "metadata": {},
   "outputs": [],
   "source": [
    "with open('../models/SVM.pickle', 'wb') as f:\n",
    "    pickle.dump(clf, f)"
   ]
  },
  {
   "cell_type": "code",
   "execution_count": null,
   "id": "65ec19b3",
   "metadata": {},
   "outputs": [],
   "source": [
    "cargar_modelo('../models/RandomForest.pickle')"
   ]
  },
  {
   "cell_type": "code",
   "execution_count": null,
   "id": "5563b788",
   "metadata": {},
   "outputs": [],
   "source": [
    "ypred = clf.predict(xtest)\n",
    "ypred_proba = clf.predict_proba(xtest)\n",
    "evaluate_model(ytest,ypred,ypred_proba)"
   ]
  },
  {
   "cell_type": "markdown",
   "id": "7d502864",
   "metadata": {},
   "source": [
    "- Ajustamos nuestra predicción"
   ]
  },
  {
   "cell_type": "code",
   "execution_count": null,
   "id": "f61ede66",
   "metadata": {},
   "outputs": [],
   "source": [
    "yhat = ypred_proba[:, 1]\n",
    "# calculate roc curves\n",
    "fpr, tpr, thresholds = roc_curve(yval, yhat)\n",
    "\n",
    "gmeans = np.sqrt(tpr * (1-fpr))\n",
    "# locate the index of the largest g-mean\n",
    "ix = np.argmax(gmeans)\n",
    "print('Best Threshold=%f, G-Mean=%.3f' % (thresholds[ix], gmeans[ix]))\n",
    "\n",
    "ypred_new_threshold = (ypred_proba[:,1]>thresholds[ix]).astype(int)\n",
    "evaluate_model(yval,ypred_new_threshold,ypred_proba)"
   ]
  },
  {
   "cell_type": "markdown",
   "id": "ccd8fde3",
   "metadata": {},
   "source": [
    "**Aqui va la interpretacion de los datos**"
   ]
  },
  {
   "cell_type": "markdown",
   "id": "b9e8332c",
   "metadata": {},
   "source": [
    "# Random Forest"
   ]
  },
  {
   "cell_type": "code",
   "execution_count": null,
   "id": "67579775",
   "metadata": {},
   "outputs": [],
   "source": [
    "clf = Pipeline(steps=[\n",
    "    ('preprocesador', preprocessor), \n",
    "    ('clasificador', RandomForestClassifier(n_jobs=-1, random_state=0))])"
   ]
  },
  {
   "cell_type": "code",
   "execution_count": null,
   "id": "2ac5825c",
   "metadata": {},
   "outputs": [],
   "source": [
    "clf.fit(xtrain, ytrain)"
   ]
  },
  {
   "cell_type": "code",
   "execution_count": null,
   "id": "cdb801ae",
   "metadata": {},
   "outputs": [],
   "source": [
    "with open('../models/RandomForest.pickle', 'wb') as f:\n",
    "    pickle.dump(clf, f)"
   ]
  },
  {
   "cell_type": "code",
   "execution_count": null,
   "id": "2cb15003",
   "metadata": {},
   "outputs": [],
   "source": [
    "cargar_modelo('../models/RandomForest.pickle')"
   ]
  },
  {
   "cell_type": "code",
   "execution_count": null,
   "id": "163449f3",
   "metadata": {},
   "outputs": [],
   "source": [
    "ypred = clf.predict(xtest)\n",
    "ypred_proba = clf.predict_proba(xtest)\n",
    "evaluate_model(ytest,ypred,ypred_proba)"
   ]
  },
  {
   "cell_type": "markdown",
   "id": "6e9005c8",
   "metadata": {},
   "source": [
    "- Ajustamos nuestra predicción"
   ]
  },
  {
   "cell_type": "code",
   "execution_count": null,
   "id": "58a46f84",
   "metadata": {},
   "outputs": [],
   "source": [
    "# keep probabilities for the positive outcome only\n",
    "yhat = ypred_proba[:, 1]\n",
    "# calculate roc curves\n",
    "fpr, tpr, thresholds = roc_curve(ytest, yhat)\n",
    "\n",
    "gmeans = np.sqrt(tpr * (1-fpr))\n",
    "# locate the index of the largest g-mean\n",
    "ix = np.argmax(gmeans)\n",
    "print('Best Threshold=%f, G-Mean=%.3f' % (thresholds[ix], gmeans[ix]))\n",
    "\n",
    "ypred_new_threshold = (ypred_proba[:,1]>thresholds[ix]).astype(int)\n",
    "evaluate_model(ytest,ypred_new_threshold,ypred_proba)"
   ]
  },
  {
   "cell_type": "markdown",
   "id": "c0469ab9",
   "metadata": {},
   "source": [
    "**Aqui va la interpretacion de los datos**"
   ]
  },
  {
   "cell_type": "markdown",
   "id": "e98b5459",
   "metadata": {},
   "source": [
    "# XGBoost"
   ]
  },
  {
   "cell_type": "code",
   "execution_count": null,
   "id": "dc236a85",
   "metadata": {},
   "outputs": [],
   "source": [
    "clf = Pipeline(steps=[\n",
    "    ('preprocesador', preprocessor),\n",
    "    ('clasificador', XGBClassifier(n_jobs=-1, random_state=0))])"
   ]
  },
  {
   "cell_type": "code",
   "execution_count": null,
   "id": "a77ed150",
   "metadata": {},
   "outputs": [],
   "source": [
    "clf.fit(xtrain, ytrain)"
   ]
  },
  {
   "cell_type": "code",
   "execution_count": null,
   "id": "bd40e3cf",
   "metadata": {},
   "outputs": [],
   "source": [
    "with open('../models/XGBoost.pickle', 'wb') as f:\n",
    "    pickle.dump(clf, f)"
   ]
  },
  {
   "cell_type": "code",
   "execution_count": null,
   "id": "215f6c0d",
   "metadata": {},
   "outputs": [],
   "source": [
    "cargar_modelo('../models/XGBoost.pickle')"
   ]
  },
  {
   "cell_type": "code",
   "execution_count": null,
   "id": "24c84bb8",
   "metadata": {},
   "outputs": [],
   "source": [
    "ypred = clf.predict(xtest)\n",
    "ypred_proba = clf.predict_proba(xtest)\n",
    "evaluate_model(ytest,ypred,ypred_proba)"
   ]
  },
  {
   "cell_type": "markdown",
   "id": "b542d3c6",
   "metadata": {},
   "source": [
    "- Ajustamos nuestra predicción."
   ]
  },
  {
   "cell_type": "code",
   "execution_count": null,
   "id": "05a964b4",
   "metadata": {},
   "outputs": [],
   "source": [
    "# keep probabilities for the positive outcome only\n",
    "yhat = ypred_proba[:, 1]\n",
    "# calculate roc curves\n",
    "fpr, tpr, thresholds = roc_curve(ytest, yhat)\n",
    "\n",
    "gmeans = np.sqrt(tpr * (1-fpr))\n",
    "# locate the index of the largest g-mean\n",
    "ix = np.argmax(gmeans)\n",
    "print('Best Threshold=%f, G-Mean=%.3f' % (thresholds[ix], gmeans[ix]))\n",
    "\n",
    "ypred_new_threshold = (ypred_proba[:,1]>thresholds[ix]).astype(int)\n",
    "evaluate_model(ytest,ypred_new_threshold,ypred_proba)"
   ]
  },
  {
   "cell_type": "markdown",
   "id": "f6ebc702",
   "metadata": {},
   "source": [
    "**Aqui va la interpretacion de los datos**"
   ]
  },
  {
   "cell_type": "markdown",
   "id": "c76b7998",
   "metadata": {},
   "source": [
    "# LightGBM"
   ]
  },
  {
   "cell_type": "code",
   "execution_count": null,
   "id": "34f4cecf",
   "metadata": {},
   "outputs": [],
   "source": [
    "clf = Pipeline(steps=[\n",
    "    ('preprocesador', preprocessor),\n",
    "    ('clasificador', lgb.LGBMClassifier(n_jobs=-1, random_state=0))])"
   ]
  },
  {
   "cell_type": "code",
   "execution_count": null,
   "id": "6f7bc0a1",
   "metadata": {},
   "outputs": [],
   "source": [
    "clf.fit(xtrain, ytrain)"
   ]
  },
  {
   "cell_type": "code",
   "execution_count": null,
   "id": "0f5bbbaf",
   "metadata": {},
   "outputs": [],
   "source": [
    "with open('../models/LightGBM.pickle', 'wb') as f:\n",
    "    pickle.dump(clf, f)"
   ]
  },
  {
   "cell_type": "code",
   "execution_count": null,
   "id": "081ec416",
   "metadata": {},
   "outputs": [],
   "source": [
    "with open('../models/LightGBM.pickle', 'rb') as f:\n",
    "    clf = pickle.load(f)"
   ]
  },
  {
   "cell_type": "code",
   "execution_count": null,
   "id": "080b1ffc",
   "metadata": {},
   "outputs": [],
   "source": [
    "ypred = clf.predict(xtest)\n",
    "ypred_proba = clf.predict_proba(xtest)\n",
    "evaluate_model(ytest,ypred,ypred_proba)"
   ]
  },
  {
   "cell_type": "markdown",
   "id": "ded2254c",
   "metadata": {},
   "source": [
    "- Ajustamos nuestra predicción"
   ]
  },
  {
   "cell_type": "code",
   "execution_count": null,
   "id": "0950fc95",
   "metadata": {},
   "outputs": [],
   "source": [
    "# keep probabilities for the positive outcome only\n",
    "yhat = ypred_proba[:, 1]\n",
    "# calculate roc curves\n",
    "fpr, tpr, thresholds = roc_curve(ytest, yhat)\n",
    "\n",
    "gmeans = np.sqrt(tpr * (1-fpr))\n",
    "# locate the index of the largest g-mean\n",
    "ix = np.argmax(gmeans)\n",
    "print('Best Threshold=%f, G-Mean=%.3f' % (thresholds[ix], gmeans[ix]))\n",
    "\n",
    "ypred_new_threshold = (ypred_proba[:,1]>thresholds[ix]).astype(int)\n",
    "evaluate_model(ytest,ypred_new_threshold,ypred_proba)"
   ]
  },
  {
   "cell_type": "markdown",
   "id": "57b9be8d",
   "metadata": {},
   "source": [
    "**Aqui va la interpretacion de los datos**"
   ]
  },
  {
   "cell_type": "markdown",
   "id": "e208a841",
   "metadata": {},
   "source": [
    "# AdaBoost"
   ]
  },
  {
   "cell_type": "code",
   "execution_count": null,
   "id": "2e7a5f50",
   "metadata": {},
   "outputs": [],
   "source": [
    "clf = Pipeline(steps=[\n",
    "    ('preprocesador', preprocessor),\n",
    "    ('clasificador', AdaBoostClassifier(n_estimators=100, random_state=0))])"
   ]
  },
  {
   "cell_type": "code",
   "execution_count": null,
   "id": "a374b4fe",
   "metadata": {},
   "outputs": [],
   "source": [
    "clf.fit(xtrain, ytrain)"
   ]
  },
  {
   "cell_type": "code",
   "execution_count": null,
   "id": "8e7bd2be",
   "metadata": {},
   "outputs": [],
   "source": [
    "with open('../models/AdaBoost.pickle', 'wb') as f:\n",
    "    pickle.dump(clf, f)"
   ]
  },
  {
   "cell_type": "code",
   "execution_count": null,
   "id": "2c5068aa",
   "metadata": {},
   "outputs": [],
   "source": [
    "# Para no tener que ejecutar, saltarse el fit y ejecutar a partir de aquí\n",
    "with open('../models/AdaBoost.pickle', 'rb') as f:\n",
    "    clf = pickle.load(f)"
   ]
  },
  {
   "cell_type": "code",
   "execution_count": null,
   "id": "798710a0",
   "metadata": {},
   "outputs": [],
   "source": [
    "ypred = clf.predict(xtest)\n",
    "ypred_proba = clf.predict_proba(xtest)\n",
    "evaluate_model(ytest,ypred,ypred_proba)"
   ]
  },
  {
   "cell_type": "markdown",
   "id": "e56bd842",
   "metadata": {},
   "source": [
    "- Ajustamos nuestra predicción"
   ]
  },
  {
   "cell_type": "code",
   "execution_count": null,
   "id": "4a54dee2",
   "metadata": {},
   "outputs": [],
   "source": [
    "# keep probabilities for the positive outcome only\n",
    "yhat = ypred_proba[:, 1]\n",
    "# calculate roc curves\n",
    "fpr, tpr, thresholds = roc_curve(ytest, yhat)\n",
    "\n",
    "gmeans = np.sqrt(tpr * (1-fpr))\n",
    "# locate the index of the largest g-mean\n",
    "ix = np.argmax(gmeans)\n",
    "print('Best Threshold=%f, G-Mean=%.3f' % (thresholds[ix], gmeans[ix]))\n",
    "\n",
    "ypred_new_threshold = (ypred_proba[:,1]>thresholds[ix]).astype(int)\n",
    "evaluate_model(ytest,ypred_new_threshold,ypred_proba)"
   ]
  },
  {
   "cell_type": "markdown",
   "id": "7b2149ad",
   "metadata": {},
   "source": [
    "**Aqui va la interpretacion de los datos**"
   ]
  }
 ],
 "metadata": {
  "kernelspec": {
   "display_name": "practica_0",
   "language": "python",
   "name": "practica_0"
  },
  "language_info": {
   "codemirror_mode": {
    "name": "ipython",
    "version": 3
   },
   "file_extension": ".py",
   "mimetype": "text/x-python",
   "name": "python",
   "nbconvert_exporter": "python",
   "pygments_lexer": "ipython3",
   "version": "3.9.13"
  }
 },
 "nbformat": 4,
 "nbformat_minor": 5
}
