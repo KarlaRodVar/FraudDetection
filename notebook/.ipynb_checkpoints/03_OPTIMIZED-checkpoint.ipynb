{
 "cells": [
  {
   "cell_type": "code",
   "execution_count": 17,
   "id": "30f3d0d9",
   "metadata": {},
   "outputs": [],
   "source": [
    "import pandas as pd\n",
    "import numpy as np\n",
    "import matplotlib.pyplot as plt\n",
    "from lightgbm import LGBMClassifier\n",
    "from sklearn.pipeline import Pipeline\n",
    "from sklearn.model_selection import GridSearchCV\n",
    "from sklearn.metrics import classification_report, confusion_matrix, roc_curve, auc, \\\n",
    "                            silhouette_score, recall_score, precision_score, make_scorer, \\\n",
    "                            roc_auc_score, f1_score, precision_recall_curve, fbeta_score, r2_score\n",
    "from datetime import datetime\n",
    "\n",
    "import lightgbm as lgb\n",
    "import pickle\n",
    "import warnings\n",
    "warnings.filterwarnings('ignore')"
   ]
  },
  {
   "cell_type": "code",
   "execution_count": 2,
   "id": "3707ae26",
   "metadata": {},
   "outputs": [],
   "source": [
    "# Functions to be used\n",
    "def evaluate_model(yval, ypred, ypred_proba = None):\n",
    "    if ypred_proba is not None:\n",
    "        print('ROC-AUC score of the model: {}'.format(roc_auc_score(yval, ypred_proba[:, 1])))\n",
    "        print(f'\\nF2 Score: {fbeta_score(yval, ypred, beta=2, average=\"macro\")}\\n')\n",
    "        print(f'R2 Score: {r2_score(yval, ypred)}\\n')\n",
    "        print('Accuracy of the model: {}\\n'.format(accuracy_score(yval, ypred)))\n",
    "        print('Classification report: \\n{}\\n'.format(classification_report(yval, ypred)))\n",
    "        \n",
    "def cargar_modelo(ruta):\n",
    "    return pickle.load(open(ruta, 'rb'))\n",
    "\n",
    "def timer(start_time=None):\n",
    "    if not start_time:\n",
    "        start_time = datetime.now()\n",
    "        return start_time\n",
    "    elif start_time:\n",
    "        thour, temp_sec = divmod((datetime.now() - start_time).total_seconds(), 3600)\n",
    "        tmin, tsec = divmod(temp_sec, 60)\n",
    "        print('\\n Time taken: %i hours %i minutes and %s seconds.' % (thour, tmin, round(tsec, 2)))"
   ]
  },
  {
   "cell_type": "code",
   "execution_count": 3,
   "id": "1252e6b3",
   "metadata": {},
   "outputs": [],
   "source": [
    "xtrain = pd.read_parquet(\"../data/xtrain.parquet\")\n",
    "ytrain = pd.read_parquet(\"../data/ytrain.parquet\")['isFraud']\n",
    "xtest = pd.read_parquet(\"../data/xtest.parquet\")\n",
    "ytest = pd.read_parquet(\"../data/ytest.parquet\")['isFraud']"
   ]
  },
  {
   "cell_type": "code",
   "execution_count": 4,
   "id": "9168c228",
   "metadata": {},
   "outputs": [],
   "source": [
    "preprocessor = cargar_modelo('../models/preprocessor.pickle')"
   ]
  },
  {
   "cell_type": "markdown",
   "id": "a9c4577e",
   "metadata": {},
   "source": [
    "# LightGBM Optimizado"
   ]
  },
  {
   "cell_type": "code",
   "execution_count": 5,
   "id": "8327c40a",
   "metadata": {},
   "outputs": [],
   "source": [
    "# Loading lightgbm model\n",
    "lightgbm = cargar_modelo(\"../models/LightGBM.pickle\")"
   ]
  },
  {
   "cell_type": "code",
   "execution_count": 6,
   "id": "8cc8d921",
   "metadata": {},
   "outputs": [],
   "source": [
    "lightgbm = Pipeline(steps=[('preprocessor', preprocessor),\n",
    "                            ('clasificador', lgb.LGBMClassifier())])"
   ]
  },
  {
   "cell_type": "code",
   "execution_count": 7,
   "id": "c030f071",
   "metadata": {},
   "outputs": [],
   "source": [
    "# Designate the hyperparameters\n",
    "param_grid = { \n",
    "      'clasificador__is_unbalance': [True],\n",
    "    'clasificador__max_depth': [-1],\n",
    "    'clasificador__objective': ['binary'],\n",
    "    'clasificador__learning_rate': [0.1, 0.05], \n",
    "    'clasificador__n_estimators' : [200, 300, 400, 500], \n",
    "    'clasificador__importance_type' : ['split', 'gain'],\n",
    "    'clasificador__num_leaves': [50, 100, 200, 300]\n",
    "}\n",
    "\n",
    "CV = GridSearchCV(lightgbm, param_grid, cv=3, n_jobs=8, scoring='recall', verbose = 1)"
   ]
  },
  {
   "cell_type": "code",
   "execution_count": 8,
   "id": "a34cb005",
   "metadata": {},
   "outputs": [
    {
     "name": "stdout",
     "output_type": "stream",
     "text": [
      "Fitting 3 folds for each of 64 candidates, totalling 192 fits\n",
      "\n",
      " Time taken: 0 hours 0 minutes and 55.2 seconds.\n"
     ]
    }
   ],
   "source": [
    "# Fit + simple timer function to know how long things take\n",
    "start_time = timer(None) \n",
    "CV.fit(xtrain, ytrain)\n",
    "timer(start_time) "
   ]
  },
  {
   "cell_type": "code",
   "execution_count": 9,
   "id": "d57d1527",
   "metadata": {},
   "outputs": [],
   "source": [
    "# Saving our model as a pickle\n",
    "with open('../models/LightGBM_optimized.pickle', 'wb') as f:\n",
    "    pickle.dump(CV, f)"
   ]
  },
  {
   "cell_type": "code",
   "execution_count": 10,
   "id": "64970794",
   "metadata": {},
   "outputs": [
    {
     "name": "stdout",
     "output_type": "stream",
     "text": [
      "\n",
      " Best hyperparameters:\n",
      "{'clasificador__importance_type': 'split', 'clasificador__is_unbalance': True, 'clasificador__learning_rate': 0.05, 'clasificador__max_depth': -1, 'clasificador__n_estimators': 400, 'clasificador__num_leaves': 50, 'clasificador__objective': 'binary'}\n",
      "\n",
      " Best score:\n",
      "0.9661350345560872\n"
     ]
    }
   ],
   "source": [
    "# Best hyperparameters and scoring\n",
    "print('\\n Best hyperparameters:')\n",
    "print(CV.best_params_)\n",
    "print('\\n Best score:')\n",
    "print(CV.best_score_)"
   ]
  },
  {
   "cell_type": "code",
   "execution_count": 11,
   "id": "14e48ed3",
   "metadata": {},
   "outputs": [
    {
     "name": "stdout",
     "output_type": "stream",
     "text": [
      "ROC-AUC score of the model: 0.9942036354534349\n",
      "\n",
      "F2 Score: 0.5642720484437586\n",
      "\n",
      "R2 Score: -26.190506812862953\n",
      "\n",
      "Accuracy of the model: 0.9703647184495651\n",
      "\n",
      "Classification report: \n",
      "              precision    recall  f1-score   support\n",
      "\n",
      "         0.0       1.00      0.97      0.98    261834\n",
      "         1.0       0.03      0.98      0.07       286\n",
      "\n",
      "    accuracy                           0.97    262120\n",
      "   macro avg       0.52      0.97      0.53    262120\n",
      "weighted avg       1.00      0.97      0.98    262120\n",
      "\n",
      "\n"
     ]
    }
   ],
   "source": [
    "# Predictions and evaluation\n",
    "ypred = CV.predict(xtest)\n",
    "ypred_proba = CV.predict_proba(xtest)\n",
    "evaluate_model(ytest, ypred, ypred_proba)"
   ]
  },
  {
   "cell_type": "markdown",
   "id": "0d887690",
   "metadata": {},
   "source": [
    "**El f2 ha mejorado un poco respecto a el modelo base, pero tampoco en gran cantidad, voy a realizar un ajuste y vemos que pasa..**"
   ]
  },
  {
   "cell_type": "code",
   "execution_count": 12,
   "id": "a1a84264",
   "metadata": {},
   "outputs": [
    {
     "data": {
      "text/plain": [
       "Text(0.5, 1.0, 'Matriz normalizada del modelo XGBoost optimizado')"
      ]
     },
     "execution_count": 12,
     "metadata": {},
     "output_type": "execute_result"
    },
    {
     "data": {
      "image/png": "[encoded data removed]",
      "text/plain": [
       "<Figure size 1000x1000 with 2 Axes>"
      ]
     },
     "metadata": {},
     "output_type": "display_data"
    }
   ],
   "source": [
    "# Plotting optimized confusion matrix\n",
    "fig, ax = plt.subplots(figsize=(10, 10))\n",
    "disp = ConfusionMatrixDisplay.from_predictions(ytest, ypred,\n",
    "                                                       cmap=plt.cm.Greens,\n",
    "                                                       normalize='true',\n",
    "                                                       ax=ax)\n",
    "ax.set_title('Matriz normalizada del modelo XGBoost optimizado')"
   ]
  },
  {
   "cell_type": "markdown",
   "id": "2fa0b256",
   "metadata": {},
   "source": [
    "**Realizamos un ajuste a nuestra prediccion**"
   ]
  },
  {
   "cell_type": "code",
   "execution_count": 18,
   "id": "eeff9523",
   "metadata": {},
   "outputs": [
    {
     "name": "stdout",
     "output_type": "stream",
     "text": [
      "Best Threshold=0.670508, G-Mean=0.976\n",
      "ROC-AUC score of the model: 0.9942036354534349\n",
      "\n",
      "F2 Score: 0.5732160194608927\n",
      "\n",
      "R2 Score: -23.173228636667297\n",
      "\n",
      "Accuracy of the model: 0.9736532885701206\n",
      "\n",
      "Classification report: \n",
      "              precision    recall  f1-score   support\n",
      "\n",
      "         0.0       1.00      0.97      0.99    261834\n",
      "         1.0       0.04      0.98      0.07       286\n",
      "\n",
      "    accuracy                           0.97    262120\n",
      "   macro avg       0.52      0.97      0.53    262120\n",
      "weighted avg       1.00      0.97      0.99    262120\n",
      "\n",
      "\n"
     ]
    }
   ],
   "source": [
    "# keep probabilities for the positive outcome only\n",
    "yhat = ypred_proba[:, 1]\n",
    "# calculate roc curves\n",
    "fpr, tpr, thresholds = roc_curve(ytest, yhat)\n",
    "\n",
    "gmeans = np.sqrt(tpr * (1-fpr))\n",
    "# locate the index of the largest g-mean\n",
    "ix = np.argmax(gmeans)\n",
    "print('Best Threshold=%f, G-Mean=%.3f' % (thresholds[ix], gmeans[ix]))\n",
    "\n",
    "ypred_new_threshold = (ypred_proba[:,1]>thresholds[ix]).astype(int)\n",
    "evaluate_model(ytest,ypred_new_threshold,ypred_proba)"
   ]
  },
  {
   "cell_type": "markdown",
   "id": "4c4db545",
   "metadata": {},
   "source": [
    "**Parece que el ajuste ha mejorado un poco nuestro f2 la verdad, que piensas??**"
   ]
  }
 ],
 "metadata": {
  "kernelspec": {
   "display_name": "practica_0",
   "language": "python",
   "name": "practica_0"
  },
  "language_info": {
   "codemirror_mode": {
    "name": "ipython",
    "version": 3
   },
   "file_extension": ".py",
   "mimetype": "text/x-python",
   "name": "python",
   "nbconvert_exporter": "python",
   "pygments_lexer": "ipython3",
   "version": "3.9.13"
  }
 },
 "nbformat": 4,
 "nbformat_minor": 5
}
