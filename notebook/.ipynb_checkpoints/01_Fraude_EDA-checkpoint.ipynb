{
 "cells": [
  {
   "cell_type": "markdown",
   "id": "0ded9841",
   "metadata": {},
   "source": [
    "# EDA Anailisis de Fraude"
   ]
  },
  {
   "cell_type": "markdown",
   "id": "6f89c2ef",
   "metadata": {},
   "source": [
    "### Case of Study:\n",
    "\n",
    "Creation of a model, using machine learning algorithms, that is able to identify a possibility of a transaction to be fraudulent or not."
   ]
  },
  {
   "cell_type": "code",
   "execution_count": 1,
   "id": "ed299f32",
   "metadata": {},
   "outputs": [],
   "source": [
    "# Importamo las librerías a utilizar\n",
    "\n",
    "import pandas as pd\n",
    "import numpy as np\n",
    "import seaborn as sns\n",
    "from matplotlib import pyplot as plt\n",
    "import plotly.express as px\n",
    "from matplotlib.pyplot import *\n",
    "from sklearn.impute import KNNImputer\n",
    "import scipy.stats as ss\n",
    "from scipy.spatial import distance\n",
    "from IPython.display import Image\n",
    "import category_encoders as ce\n",
    "from sklearn.preprocessing import LabelEncoder\n",
    "from sklearn.preprocessing import OneHotEncoder\n",
    "from sklearn.model_selection import train_test_split, GridSearchCV\n",
    "from sklearn.ensemble import RandomForestClassifier\n",
    "from pyarrow.parquet import ParquetDataset as pq\n",
    "from sklearn.feature_selection import SelectFromModel\n",
    "from sklearn.linear_model import LinearRegression as LR\n",
    "from sklearn.linear_model import LogisticRegression\n",
    "from sklearn.preprocessing import StandardScaler\n",
    "from sklearn.metrics import confusion_matrix, accuracy_score, recall_score, plot_confusion_matrix\n",
    "# import xgboost as xgb\n",
    "from sklearn.metrics import classification_report\n",
    "import warnings\n",
    "warnings.filterwarnings('ignore')\n",
    "\n",
    "pd.set_option('display.max_columns', 500)\n",
    "pd.set_option('display.max_rows', 5000)"
   ]
  },
  {
   "cell_type": "markdown",
   "id": "5e8e717d",
   "metadata": {},
   "source": [
    "### Creation of the different functions that are going to be use in the analysis"
   ]
  },
  {
   "cell_type": "code",
   "execution_count": 2,
   "id": "dbb4abd9",
   "metadata": {},
   "outputs": [],
   "source": [
    "# Esta funcion ayuda al momento de visualizacion de las diferentes variables dentro del dataset para poder comparar en base \n",
    "#la funcion objetivo como es el comportamiento de la demas variables\n",
    "\n",
    "def plot_feature(df, col_name, isContinuous, target):\n",
    "    \"\"\"\n",
    "    Visualize a variable with and without faceting on the loan status.\n",
    "    - df dataframe\n",
    "    - col_name is the variable name in the dataframe\n",
    "    - full_name is the full variable name\n",
    "    - continuous is True if the variable is continuous, False otherwise\n",
    "    \"\"\"\n",
    "    f, (ax1, ax2) = plt.subplots(nrows=1, ncols=2, figsize=(12,3), dpi=90)\n",
    "    \n",
    "    count_null = df[col_name].isnull().sum()\n",
    "    if isContinuous:\n",
    "        \n",
    "        sns.histplot(df.loc[df[col_name].notnull(), col_name], kde=False, ax=ax1)\n",
    "    else:\n",
    "        sns.countplot(df[col_name], order=sorted(df[col_name].unique()), color='#5975A4', saturation=1, ax=ax1)\n",
    "    ax1.set_xlabel(col_name)\n",
    "    ax1.set_ylabel('Count')\n",
    "    ax1.set_title(col_name+ ' Numero de nulos: '+str(count_null))\n",
    "    plt.xticks(rotation = 90)\n",
    "\n",
    "\n",
    "    if isContinuous:\n",
    "        sns.boxplot(x=col_name, y=target, data=df, ax=ax2)\n",
    "        ax2.set_ylabel('')\n",
    "        ax2.set_title(col_name + ' by '+target)\n",
    "    else:\n",
    "        data = df.groupby(col_name)[target].value_counts(normalize=True).to_frame('proportion').reset_index() \n",
    "        data.columns = [i, target, 'proportion']\n",
    "        #sns.barplot(x = col_name, y = 'proportion', hue= target, data = data, saturation=1, ax=ax2)\n",
    "        sns.barplot(x = col_name, y = 'proportion', hue= target, data = data, saturation=1, ax=ax2)\n",
    "        ax2.set_ylabel(target+' fraction')\n",
    "        ax2.set_title(target)\n",
    "        plt.xticks(rotation = 90)\n",
    "    ax2.set_xlabel(col_name)\n",
    "    \n",
    "    plt.tight_layout()\n",
    "\n",
    "def get_deviation_of_mean_perc(pd_data, list_variables_numericas, target, multiplier):\n",
    "    \"\"\"\n",
    "    Devuelve el porcentaje de valores que exceden del intervalo de confianza\n",
    "    :type series:\n",
    "    :param multiplier:\n",
    "    :return:\n",
    "    \"\"\"\n",
    "    pd_final = pd.DataFrame()\n",
    "    \n",
    "    for i in list_variables_numericas:\n",
    "        \n",
    "        series_mean = pd_data[i].mean()\n",
    "        series_std = pd_data[i].std()\n",
    "        std_amp = multiplier * series_std\n",
    "        left = series_mean - std_amp\n",
    "        right = series_mean + std_amp\n",
    "        size_s = pd_data[i].size\n",
    "        \n",
    "        perc_goods = pd_data[i][(pd_data[i] >= left) & (pd_data[i] <= right)].size/size_s\n",
    "        perc_excess = pd_data[i][(pd_data[i] < left) | (pd_data[i] > right)].size/size_s\n",
    "        \n",
    "        if perc_excess>0:    \n",
    "            pd_concat_percent = pd.DataFrame(pd_data[target][(pd_data[i] < left) | (pd_data[i] > right)]\\\n",
    "                                            .value_counts(normalize=True).reset_index()).T\n",
    "            pd_concat_percent.columns = [pd_concat_percent.iloc[0:], \n",
    "                                          pd_concat_percent.iloc[0:]]\n",
    "            pd_concat_percent = pd_concat_percent.drop('index',axis=0)\n",
    "            pd_concat_percent['variable'] = i\n",
    "            pd_concat_percent['sum_outlier_values'] = pd_data[i][(pd_data[i] < left) | (pd_data[i] > right)].size\n",
    "            pd_concat_percent['porcentaje_sum_outliers'] = perc_excess\n",
    "            pd_final = pd.concat([pd_final, pd_concat_percent], axis=0).reset_index(drop=True)\n",
    "            \n",
    "    if pd_final.empty:\n",
    "        print('No existen variables con valores nulos')\n",
    "        \n",
    "    return pd_final\n",
    "\n",
    "\n",
    "def get_corr_matrix(dataset = None, metodo='pearson', size_figure=[10,8]):\n",
    "    # Para obtener la correlación de Spearman, sólo cambiar el metodo por 'spearman'\n",
    "\n",
    "    if dataset is None:\n",
    "        print(u'\\nHace falta pasar argumentos a la función')\n",
    "        return 1\n",
    "    sns.set(style=\"white\")\n",
    "    # Compute the correlation matrix\n",
    "    corr = dataset.corr(method=metodo) \n",
    "    # Set self-correlation to zero to avoid distraction\n",
    "    for i in range(corr.shape[0]):\n",
    "        corr.iloc[i, i] = 0\n",
    "    # Set up the matplotlib figure\n",
    "    f, ax = plt.subplots(figsize=size_figure)\n",
    "    # Draw the heatmap with the mask and correct aspect ratio\n",
    "    sns.heatmap(corr, center=0,\n",
    "                square=True, linewidths=.5,  cmap ='viridis' ) #cbar_kws={\"shrink\": .5}\n",
    "    plt.show()\n",
    "    \n",
    "    return 0\n",
    "\n",
    "# # Esta funcion se encarga de identificar las variables categoricas y colocarlas dentro de una lista especifica. Las \n",
    "# #variables que se muestran como numericas se recopilan en otra lista.\n",
    "def dame_variables_categoricas(dataset=None):\n",
    "    if dataset is None:\n",
    "        print(u'\\nFaltan argumentos por pasar a la función')\n",
    "        return 1\n",
    "    lista_variables_categoricas = []\n",
    "    other = []\n",
    "    for i in dataset.columns:\n",
    "        if (dataset[i].dtype!=float) & (dataset[i].dtype!=int):\n",
    "            unicos = int(len(np.unique(dataset[i].dropna(axis=0, how='all'))))\n",
    "            if unicos < 100:\n",
    "                lista_variables_categoricas.append(i)\n",
    "            else:\n",
    "                other.append(i)\n",
    "\n",
    "    return lista_variables_categoricas, other"
   ]
  },
  {
   "cell_type": "markdown",
   "id": "f55d51e0",
   "metadata": {},
   "source": [
    "## Dictionary used"
   ]
  },
  {
   "cell_type": "code",
   "execution_count": null,
   "id": "b48787a7",
   "metadata": {},
   "outputs": [],
   "source": []
  },
  {
   "cell_type": "markdown",
   "id": "bc12a7e9",
   "metadata": {},
   "source": [
    "## Creation of the dataframes and verification of the data loaded in the dataframes\n",
    "(Creacion de dataframes y verificacion de los datos a analizar dentro de los dataframes)"
   ]
  },
  {
   "cell_type": "code",
   "execution_count": 3,
   "id": "c7dff405",
   "metadata": {},
   "outputs": [
    {
     "data": {
      "text/html": [
       "<div>\n",
       "<style scoped>\n",
       "    .dataframe tbody tr th:only-of-type {\n",
       "        vertical-align: middle;\n",
       "    }\n",
       "\n",
       "    .dataframe tbody tr th {\n",
       "        vertical-align: top;\n",
       "    }\n",
       "\n",
       "    .dataframe thead th {\n",
       "        text-align: right;\n",
       "    }\n",
       "</style>\n",
       "<table border=\"1\" class=\"dataframe\">\n",
       "  <thead>\n",
       "    <tr style=\"text-align: right;\">\n",
       "      <th></th>\n",
       "      <th>step</th>\n",
       "      <th>type</th>\n",
       "      <th>amount</th>\n",
       "      <th>gender</th>\n",
       "      <th>device</th>\n",
       "      <th>connection_time</th>\n",
       "      <th>nameOrig</th>\n",
       "      <th>race</th>\n",
       "      <th>oldbalanceOrg</th>\n",
       "      <th>age</th>\n",
       "      <th>newbalanceOrig</th>\n",
       "      <th>zone</th>\n",
       "      <th>user_number</th>\n",
       "      <th>nameDest</th>\n",
       "      <th>user_connections</th>\n",
       "      <th>security_alert</th>\n",
       "      <th>oldbalanceDest</th>\n",
       "      <th>newbalanceDest</th>\n",
       "      <th>isFraud</th>\n",
       "    </tr>\n",
       "  </thead>\n",
       "  <tbody>\n",
       "    <tr>\n",
       "      <th>0</th>\n",
       "      <td>1</td>\n",
       "      <td>PAYMENT</td>\n",
       "      <td>9839.64</td>\n",
       "      <td>man</td>\n",
       "      <td>mac</td>\n",
       "      <td>0,140039412</td>\n",
       "      <td>C1231006815</td>\n",
       "      <td>black</td>\n",
       "      <td>170136.0</td>\n",
       "      <td>85</td>\n",
       "      <td>160296.36</td>\n",
       "      <td>capital</td>\n",
       "      <td>138</td>\n",
       "      <td>M1979787155</td>\n",
       "      <td>5</td>\n",
       "      <td>1</td>\n",
       "      <td>0.0</td>\n",
       "      <td>0.0</td>\n",
       "      <td>0</td>\n",
       "    </tr>\n",
       "    <tr>\n",
       "      <th>1</th>\n",
       "      <td>1</td>\n",
       "      <td>PAYMENT</td>\n",
       "      <td>1864.28</td>\n",
       "      <td>woman</td>\n",
       "      <td>mac</td>\n",
       "      <td>0,496889534</td>\n",
       "      <td>C1666544295</td>\n",
       "      <td>asian</td>\n",
       "      <td>21249.0</td>\n",
       "      <td>57</td>\n",
       "      <td>19384.72</td>\n",
       "      <td>country</td>\n",
       "      <td>909</td>\n",
       "      <td>M2044282225</td>\n",
       "      <td>1</td>\n",
       "      <td>0</td>\n",
       "      <td>0.0</td>\n",
       "      <td>0.0</td>\n",
       "      <td>0</td>\n",
       "    </tr>\n",
       "    <tr>\n",
       "      <th>2</th>\n",
       "      <td>1</td>\n",
       "      <td>TRANSFER</td>\n",
       "      <td>181.00</td>\n",
       "      <td>man</td>\n",
       "      <td>pc</td>\n",
       "      <td>0,781150327</td>\n",
       "      <td>C1305486145</td>\n",
       "      <td>asian</td>\n",
       "      <td>181.0</td>\n",
       "      <td>66</td>\n",
       "      <td>0.00</td>\n",
       "      <td>capital</td>\n",
       "      <td>2569</td>\n",
       "      <td>C553264065</td>\n",
       "      <td>10</td>\n",
       "      <td>0</td>\n",
       "      <td>0.0</td>\n",
       "      <td>0.0</td>\n",
       "      <td>1</td>\n",
       "    </tr>\n",
       "    <tr>\n",
       "      <th>3</th>\n",
       "      <td>1</td>\n",
       "      <td>CASH_OUT</td>\n",
       "      <td>181.00</td>\n",
       "      <td>man</td>\n",
       "      <td>mac</td>\n",
       "      <td>0,565068378</td>\n",
       "      <td>C840083671</td>\n",
       "      <td>black</td>\n",
       "      <td>181.0</td>\n",
       "      <td>31</td>\n",
       "      <td>0.00</td>\n",
       "      <td>country</td>\n",
       "      <td>1787</td>\n",
       "      <td>C38997010</td>\n",
       "      <td>3</td>\n",
       "      <td>0</td>\n",
       "      <td>21182.0</td>\n",
       "      <td>0.0</td>\n",
       "      <td>1</td>\n",
       "    </tr>\n",
       "    <tr>\n",
       "      <th>4</th>\n",
       "      <td>1</td>\n",
       "      <td>PAYMENT</td>\n",
       "      <td>11668.14</td>\n",
       "      <td>unknow</td>\n",
       "      <td>mac</td>\n",
       "      <td>0,517114493</td>\n",
       "      <td>C2048537720</td>\n",
       "      <td>black</td>\n",
       "      <td>41554.0</td>\n",
       "      <td>90</td>\n",
       "      <td>29885.86</td>\n",
       "      <td>country</td>\n",
       "      <td>3997</td>\n",
       "      <td>M1230701703</td>\n",
       "      <td>8</td>\n",
       "      <td>0</td>\n",
       "      <td>0.0</td>\n",
       "      <td>0.0</td>\n",
       "      <td>0</td>\n",
       "    </tr>\n",
       "  </tbody>\n",
       "</table>\n",
       "</div>"
      ],
      "text/plain": [
       "   step      type    amount  gender device connection_time     nameOrig  \\\n",
       "0     1   PAYMENT   9839.64     man    mac     0,140039412  C1231006815   \n",
       "1     1   PAYMENT   1864.28   woman    mac     0,496889534  C1666544295   \n",
       "2     1  TRANSFER    181.00     man     pc     0,781150327  C1305486145   \n",
       "3     1  CASH_OUT    181.00     man    mac     0,565068378   C840083671   \n",
       "4     1   PAYMENT  11668.14  unknow    mac     0,517114493  C2048537720   \n",
       "\n",
       "    race  oldbalanceOrg  age  newbalanceOrig     zone  user_number  \\\n",
       "0  black       170136.0   85       160296.36  capital          138   \n",
       "1  asian        21249.0   57        19384.72  country          909   \n",
       "2  asian          181.0   66            0.00  capital         2569   \n",
       "3  black          181.0   31            0.00  country         1787   \n",
       "4  black        41554.0   90        29885.86  country         3997   \n",
       "\n",
       "      nameDest  user_connections  security_alert  oldbalanceDest  \\\n",
       "0  M1979787155                 5               1             0.0   \n",
       "1  M2044282225                 1               0             0.0   \n",
       "2   C553264065                10               0             0.0   \n",
       "3    C38997010                 3               0         21182.0   \n",
       "4  M1230701703                 8               0             0.0   \n",
       "\n",
       "   newbalanceDest  isFraud  \n",
       "0             0.0        0  \n",
       "1             0.0        0  \n",
       "2             0.0        1  \n",
       "3             0.0        1  \n",
       "4             0.0        0  "
      ]
     },
     "execution_count": 3,
     "metadata": {},
     "output_type": "execute_result"
    }
   ],
   "source": [
    "# Importamos el set de datos que vamos a utilizar en el analisis\n",
    "url=\"C:/Users/karla/Documents/CUNEF/5_machine_learning/2_practicas/Fraude/data/Copia de Original_dataset_payments_fraud.csv\"\n",
    "\n",
    "df_fraud=pd.read_csv(url, sep=';')\n",
    "df_fraud.head()\n",
    "\n",
    "# Trabajamos parquet files\n",
    "# parquet_file.to_parquet(\"C:\\\\Users\\\\DobleP\\\\Desktop\\\\FraudeTransacciones\\\\Copia de Original_dataset_payments_fraud.csv\")\n",
    "# data = pd.read_parquet(parquet_file, engine = 'auto')"
   ]
  },
  {
   "cell_type": "code",
   "execution_count": 4,
   "id": "b6d1b1e2",
   "metadata": {},
   "outputs": [
    {
     "data": {
      "text/plain": [
       "(1048575, 19)"
      ]
     },
     "execution_count": 4,
     "metadata": {},
     "output_type": "execute_result"
    }
   ],
   "source": [
    "#Hacemos transformacion de variables para las que se encuentran con un formato incorrecto\n",
    "df_fraud=df_fraud.assign(**{'connection_time':lambda df: df['connection_time'].str.replace(',','.').astype(float)})\n",
    "df_fraud.shape"
   ]
  },
  {
   "cell_type": "code",
   "execution_count": 5,
   "id": "c1c0cec4",
   "metadata": {},
   "outputs": [
    {
     "data": {
      "text/html": [
       "<div>\n",
       "<style scoped>\n",
       "    .dataframe tbody tr th:only-of-type {\n",
       "        vertical-align: middle;\n",
       "    }\n",
       "\n",
       "    .dataframe tbody tr th {\n",
       "        vertical-align: top;\n",
       "    }\n",
       "\n",
       "    .dataframe thead th {\n",
       "        text-align: right;\n",
       "    }\n",
       "</style>\n",
       "<table border=\"1\" class=\"dataframe\">\n",
       "  <thead>\n",
       "    <tr style=\"text-align: right;\">\n",
       "      <th></th>\n",
       "      <th>step</th>\n",
       "      <th>type</th>\n",
       "      <th>amount</th>\n",
       "      <th>gender</th>\n",
       "      <th>device</th>\n",
       "      <th>connection_time</th>\n",
       "      <th>oldbalanceOrg</th>\n",
       "      <th>age</th>\n",
       "      <th>newbalanceOrig</th>\n",
       "      <th>zone</th>\n",
       "      <th>user_number</th>\n",
       "      <th>user_connections</th>\n",
       "      <th>security_alert</th>\n",
       "      <th>oldbalanceDest</th>\n",
       "      <th>newbalanceDest</th>\n",
       "      <th>isFraud</th>\n",
       "    </tr>\n",
       "  </thead>\n",
       "  <tbody>\n",
       "    <tr>\n",
       "      <th>0</th>\n",
       "      <td>1</td>\n",
       "      <td>PAYMENT</td>\n",
       "      <td>9839.64</td>\n",
       "      <td>man</td>\n",
       "      <td>mac</td>\n",
       "      <td>0.140039</td>\n",
       "      <td>170136.00</td>\n",
       "      <td>85</td>\n",
       "      <td>160296.36</td>\n",
       "      <td>capital</td>\n",
       "      <td>138</td>\n",
       "      <td>5</td>\n",
       "      <td>1</td>\n",
       "      <td>0.00</td>\n",
       "      <td>0.00</td>\n",
       "      <td>0</td>\n",
       "    </tr>\n",
       "    <tr>\n",
       "      <th>1</th>\n",
       "      <td>1</td>\n",
       "      <td>PAYMENT</td>\n",
       "      <td>1864.28</td>\n",
       "      <td>woman</td>\n",
       "      <td>mac</td>\n",
       "      <td>0.496890</td>\n",
       "      <td>21249.00</td>\n",
       "      <td>57</td>\n",
       "      <td>19384.72</td>\n",
       "      <td>country</td>\n",
       "      <td>909</td>\n",
       "      <td>1</td>\n",
       "      <td>0</td>\n",
       "      <td>0.00</td>\n",
       "      <td>0.00</td>\n",
       "      <td>0</td>\n",
       "    </tr>\n",
       "    <tr>\n",
       "      <th>2</th>\n",
       "      <td>1</td>\n",
       "      <td>TRANSFER</td>\n",
       "      <td>181.00</td>\n",
       "      <td>man</td>\n",
       "      <td>pc</td>\n",
       "      <td>0.781150</td>\n",
       "      <td>181.00</td>\n",
       "      <td>66</td>\n",
       "      <td>0.00</td>\n",
       "      <td>capital</td>\n",
       "      <td>2569</td>\n",
       "      <td>10</td>\n",
       "      <td>0</td>\n",
       "      <td>0.00</td>\n",
       "      <td>0.00</td>\n",
       "      <td>1</td>\n",
       "    </tr>\n",
       "    <tr>\n",
       "      <th>3</th>\n",
       "      <td>1</td>\n",
       "      <td>CASH_OUT</td>\n",
       "      <td>181.00</td>\n",
       "      <td>man</td>\n",
       "      <td>mac</td>\n",
       "      <td>0.565068</td>\n",
       "      <td>181.00</td>\n",
       "      <td>31</td>\n",
       "      <td>0.00</td>\n",
       "      <td>country</td>\n",
       "      <td>1787</td>\n",
       "      <td>3</td>\n",
       "      <td>0</td>\n",
       "      <td>21182.00</td>\n",
       "      <td>0.00</td>\n",
       "      <td>1</td>\n",
       "    </tr>\n",
       "    <tr>\n",
       "      <th>4</th>\n",
       "      <td>1</td>\n",
       "      <td>PAYMENT</td>\n",
       "      <td>11668.14</td>\n",
       "      <td>unknow</td>\n",
       "      <td>mac</td>\n",
       "      <td>0.517114</td>\n",
       "      <td>41554.00</td>\n",
       "      <td>90</td>\n",
       "      <td>29885.86</td>\n",
       "      <td>country</td>\n",
       "      <td>3997</td>\n",
       "      <td>8</td>\n",
       "      <td>0</td>\n",
       "      <td>0.00</td>\n",
       "      <td>0.00</td>\n",
       "      <td>0</td>\n",
       "    </tr>\n",
       "    <tr>\n",
       "      <th>...</th>\n",
       "      <td>...</td>\n",
       "      <td>...</td>\n",
       "      <td>...</td>\n",
       "      <td>...</td>\n",
       "      <td>...</td>\n",
       "      <td>...</td>\n",
       "      <td>...</td>\n",
       "      <td>...</td>\n",
       "      <td>...</td>\n",
       "      <td>...</td>\n",
       "      <td>...</td>\n",
       "      <td>...</td>\n",
       "      <td>...</td>\n",
       "      <td>...</td>\n",
       "      <td>...</td>\n",
       "      <td>...</td>\n",
       "    </tr>\n",
       "    <tr>\n",
       "      <th>1048570</th>\n",
       "      <td>95</td>\n",
       "      <td>CASH_OUT</td>\n",
       "      <td>132557.35</td>\n",
       "      <td>woman</td>\n",
       "      <td>mac</td>\n",
       "      <td>0.420243</td>\n",
       "      <td>479803.00</td>\n",
       "      <td>39</td>\n",
       "      <td>347245.65</td>\n",
       "      <td>NaN</td>\n",
       "      <td>3179</td>\n",
       "      <td>9</td>\n",
       "      <td>0</td>\n",
       "      <td>484329.37</td>\n",
       "      <td>616886.72</td>\n",
       "      <td>0</td>\n",
       "    </tr>\n",
       "    <tr>\n",
       "      <th>1048571</th>\n",
       "      <td>95</td>\n",
       "      <td>PAYMENT</td>\n",
       "      <td>9917.36</td>\n",
       "      <td>woman</td>\n",
       "      <td>mac</td>\n",
       "      <td>0.376169</td>\n",
       "      <td>90545.00</td>\n",
       "      <td>36</td>\n",
       "      <td>80627.64</td>\n",
       "      <td>africa</td>\n",
       "      <td>2558</td>\n",
       "      <td>9</td>\n",
       "      <td>0</td>\n",
       "      <td>0.00</td>\n",
       "      <td>0.00</td>\n",
       "      <td>0</td>\n",
       "    </tr>\n",
       "    <tr>\n",
       "      <th>1048572</th>\n",
       "      <td>95</td>\n",
       "      <td>PAYMENT</td>\n",
       "      <td>14140.05</td>\n",
       "      <td>unknow</td>\n",
       "      <td>pc</td>\n",
       "      <td>0.837109</td>\n",
       "      <td>20545.00</td>\n",
       "      <td>31</td>\n",
       "      <td>6404.95</td>\n",
       "      <td>africa</td>\n",
       "      <td>1553</td>\n",
       "      <td>2</td>\n",
       "      <td>0</td>\n",
       "      <td>0.00</td>\n",
       "      <td>0.00</td>\n",
       "      <td>0</td>\n",
       "    </tr>\n",
       "    <tr>\n",
       "      <th>1048573</th>\n",
       "      <td>95</td>\n",
       "      <td>PAYMENT</td>\n",
       "      <td>10020.05</td>\n",
       "      <td>man</td>\n",
       "      <td>mac</td>\n",
       "      <td>0.480931</td>\n",
       "      <td>90605.00</td>\n",
       "      <td>94</td>\n",
       "      <td>80584.95</td>\n",
       "      <td>country</td>\n",
       "      <td>642</td>\n",
       "      <td>8</td>\n",
       "      <td>0</td>\n",
       "      <td>0.00</td>\n",
       "      <td>0.00</td>\n",
       "      <td>0</td>\n",
       "    </tr>\n",
       "    <tr>\n",
       "      <th>1048574</th>\n",
       "      <td>95</td>\n",
       "      <td>PAYMENT</td>\n",
       "      <td>11450.03</td>\n",
       "      <td>man</td>\n",
       "      <td>pc</td>\n",
       "      <td>0.868198</td>\n",
       "      <td>80584.95</td>\n",
       "      <td>84</td>\n",
       "      <td>69134.92</td>\n",
       "      <td>country</td>\n",
       "      <td>2081</td>\n",
       "      <td>4</td>\n",
       "      <td>0</td>\n",
       "      <td>0.00</td>\n",
       "      <td>0.00</td>\n",
       "      <td>0</td>\n",
       "    </tr>\n",
       "  </tbody>\n",
       "</table>\n",
       "<p>1048575 rows × 16 columns</p>\n",
       "</div>"
      ],
      "text/plain": [
       "         step      type     amount  gender device  connection_time  \\\n",
       "0           1   PAYMENT    9839.64     man    mac         0.140039   \n",
       "1           1   PAYMENT    1864.28   woman    mac         0.496890   \n",
       "2           1  TRANSFER     181.00     man     pc         0.781150   \n",
       "3           1  CASH_OUT     181.00     man    mac         0.565068   \n",
       "4           1   PAYMENT   11668.14  unknow    mac         0.517114   \n",
       "...       ...       ...        ...     ...    ...              ...   \n",
       "1048570    95  CASH_OUT  132557.35   woman    mac         0.420243   \n",
       "1048571    95   PAYMENT    9917.36   woman    mac         0.376169   \n",
       "1048572    95   PAYMENT   14140.05  unknow     pc         0.837109   \n",
       "1048573    95   PAYMENT   10020.05     man    mac         0.480931   \n",
       "1048574    95   PAYMENT   11450.03     man     pc         0.868198   \n",
       "\n",
       "         oldbalanceOrg  age  newbalanceOrig     zone  user_number  \\\n",
       "0            170136.00   85       160296.36  capital          138   \n",
       "1             21249.00   57        19384.72  country          909   \n",
       "2               181.00   66            0.00  capital         2569   \n",
       "3               181.00   31            0.00  country         1787   \n",
       "4             41554.00   90        29885.86  country         3997   \n",
       "...                ...  ...             ...      ...          ...   \n",
       "1048570      479803.00   39       347245.65      NaN         3179   \n",
       "1048571       90545.00   36        80627.64   africa         2558   \n",
       "1048572       20545.00   31         6404.95   africa         1553   \n",
       "1048573       90605.00   94        80584.95  country          642   \n",
       "1048574       80584.95   84        69134.92  country         2081   \n",
       "\n",
       "         user_connections  security_alert  oldbalanceDest  newbalanceDest  \\\n",
       "0                       5               1            0.00            0.00   \n",
       "1                       1               0            0.00            0.00   \n",
       "2                      10               0            0.00            0.00   \n",
       "3                       3               0        21182.00            0.00   \n",
       "4                       8               0            0.00            0.00   \n",
       "...                   ...             ...             ...             ...   \n",
       "1048570                 9               0       484329.37       616886.72   \n",
       "1048571                 9               0            0.00            0.00   \n",
       "1048572                 2               0            0.00            0.00   \n",
       "1048573                 8               0            0.00            0.00   \n",
       "1048574                 4               0            0.00            0.00   \n",
       "\n",
       "         isFraud  \n",
       "0              0  \n",
       "1              0  \n",
       "2              1  \n",
       "3              1  \n",
       "4              0  \n",
       "...          ...  \n",
       "1048570        0  \n",
       "1048571        0  \n",
       "1048572        0  \n",
       "1048573        0  \n",
       "1048574        0  \n",
       "\n",
       "[1048575 rows x 16 columns]"
      ]
     },
     "execution_count": 5,
     "metadata": {},
     "output_type": "execute_result"
    }
   ],
   "source": [
    "#Eliminamos algunas columnas que contienen variables sensibles para el analisis\n",
    "df_fraud=df_fraud.drop([\"nameOrig\",\"race\",\"nameDest\"],axis=1)\n",
    "df_fraud"
   ]
  },
  {
   "cell_type": "code",
   "execution_count": 6,
   "id": "f43166d2",
   "metadata": {},
   "outputs": [
    {
     "data": {
      "text/plain": [
       "(1048575, 16)"
      ]
     },
     "execution_count": 6,
     "metadata": {},
     "output_type": "execute_result"
    }
   ],
   "source": [
    "# Comprobamos que las columnas fueron correctamente eliminadas del dataset y la informacion que se encuentra en el dataset\n",
    "#fue correctamente transformada\n",
    "df_fraud.shape"
   ]
  },
  {
   "cell_type": "code",
   "execution_count": 7,
   "id": "8f6253d0",
   "metadata": {},
   "outputs": [
    {
     "name": "stdout",
     "output_type": "stream",
     "text": [
      "<class 'pandas.core.frame.DataFrame'>\n",
      "RangeIndex: 1048575 entries, 0 to 1048574\n",
      "Data columns (total 16 columns):\n",
      " #   Column            Non-Null Count    Dtype  \n",
      "---  ------            --------------    -----  \n",
      " 0   step              1048575 non-null  int64  \n",
      " 1   type              1048575 non-null  object \n",
      " 2   amount            1048575 non-null  float64\n",
      " 3   gender            943457 non-null   object \n",
      " 4   device            943995 non-null   object \n",
      " 5   connection_time   1048575 non-null  float64\n",
      " 6   oldbalanceOrg     1048575 non-null  float64\n",
      " 7   age               1048575 non-null  int64  \n",
      " 8   newbalanceOrig    1048575 non-null  float64\n",
      " 9   zone              944161 non-null   object \n",
      " 10  user_number       1048575 non-null  int64  \n",
      " 11  user_connections  1048575 non-null  int64  \n",
      " 12  security_alert    1048575 non-null  int64  \n",
      " 13  oldbalanceDest    1048575 non-null  float64\n",
      " 14  newbalanceDest    1048575 non-null  float64\n",
      " 15  isFraud           1048575 non-null  int64  \n",
      "dtypes: float64(6), int64(6), object(4)\n",
      "memory usage: 128.0+ MB\n"
     ]
    }
   ],
   "source": [
    "# Verificamos el tipo de datos que se encuentra dentro de cada columna del dataframe, para verificar si categorias actuales\n",
    "# del dataset esten correctamente descritas para cada variable\n",
    "df_fraud.info()"
   ]
  },
  {
   "cell_type": "code",
   "execution_count": 8,
   "id": "385c0810",
   "metadata": {},
   "outputs": [
    {
     "data": {
      "text/plain": [
       "step                     95\n",
       "type                      5\n",
       "amount              1009606\n",
       "gender                    3\n",
       "device                    3\n",
       "connection_time     1047989\n",
       "oldbalanceOrg        415945\n",
       "age                      96\n",
       "newbalanceOrig       466415\n",
       "zone                      3\n",
       "user_number            4942\n",
       "user_connections         10\n",
       "security_alert            2\n",
       "oldbalanceDest       603920\n",
       "newbalanceDest       446071\n",
       "isFraud                   2\n",
       "dtype: int64"
      ]
     },
     "execution_count": 8,
     "metadata": {},
     "output_type": "execute_result"
    }
   ],
   "source": [
    "df_fraud.nunique()"
   ]
  },
  {
   "cell_type": "code",
   "execution_count": 9,
   "id": "d2cf00da",
   "metadata": {},
   "outputs": [
    {
     "data": {
      "text/html": [
       "<div>\n",
       "<style scoped>\n",
       "    .dataframe tbody tr th:only-of-type {\n",
       "        vertical-align: middle;\n",
       "    }\n",
       "\n",
       "    .dataframe tbody tr th {\n",
       "        vertical-align: top;\n",
       "    }\n",
       "\n",
       "    .dataframe thead th {\n",
       "        text-align: right;\n",
       "    }\n",
       "</style>\n",
       "<table border=\"1\" class=\"dataframe\">\n",
       "  <thead>\n",
       "    <tr style=\"text-align: right;\">\n",
       "      <th></th>\n",
       "      <th>Type_variable</th>\n",
       "      <th>count</th>\n",
       "    </tr>\n",
       "  </thead>\n",
       "  <tbody>\n",
       "    <tr>\n",
       "      <th>0</th>\n",
       "      <td>int64</td>\n",
       "      <td>6</td>\n",
       "    </tr>\n",
       "    <tr>\n",
       "      <th>1</th>\n",
       "      <td>float64</td>\n",
       "      <td>6</td>\n",
       "    </tr>\n",
       "    <tr>\n",
       "      <th>2</th>\n",
       "      <td>object</td>\n",
       "      <td>4</td>\n",
       "    </tr>\n",
       "  </tbody>\n",
       "</table>\n",
       "</div>"
      ],
      "text/plain": [
       "  Type_variable  count\n",
       "0         int64      6\n",
       "1       float64      6\n",
       "2        object      4"
      ]
     },
     "execution_count": 9,
     "metadata": {},
     "output_type": "execute_result"
    }
   ],
   "source": [
    "# Tipos de variable que tenemos en nuestro dataset(despues de la conversion, por supuesto.)\n",
    "df_fraud.dtypes.sort_values().to_frame(\"Type_variable\").groupby(by=\"Type_variable\").size().to_frame('count').reset_index()"
   ]
  },
  {
   "cell_type": "markdown",
   "id": "b1e11980",
   "metadata": {},
   "source": [
    "**ENGL**\n",
    "- **All variables that may be sensible or not relevent to the analysis were eliminated**, and also the transformation of the variable of \"cinnection_time\" was correctly assign to the correct type. \n",
    "- From the total amount of variables obtain, in the dataset that will be worked we have **6 interger, 6 floats and 4 character variables**."
   ]
  },
  {
   "cell_type": "markdown",
   "id": "21c8439b",
   "metadata": {},
   "source": [
    "### Split numerical and categorical variables\n",
    "(Separacion de variables categoricas y variables numericas)"
   ]
  },
  {
   "cell_type": "code",
   "execution_count": 10,
   "id": "4097f903",
   "metadata": {},
   "outputs": [
    {
     "name": "stdout",
     "output_type": "stream",
     "text": [
      "<class 'pandas.core.frame.DataFrame'>\n",
      "Int64Index: 1048575 entries, 0 to 1048574\n",
      "Data columns (total 16 columns):\n",
      " #   Column            Non-Null Count    Dtype  \n",
      "---  ------            --------------    -----  \n",
      " 0   type              1048575 non-null  object \n",
      " 1   gender            1048575 non-null  object \n",
      " 2   device            1048575 non-null  object \n",
      " 3   zone              1048575 non-null  object \n",
      " 4   step              1048575 non-null  float64\n",
      " 5   amount            1048575 non-null  float64\n",
      " 6   user_connections  1048575 non-null  float64\n",
      " 7   user_number       1048575 non-null  float64\n",
      " 8   age               1048575 non-null  float64\n",
      " 9   connection_time   1048575 non-null  float64\n",
      " 10  oldbalanceOrg     1048575 non-null  float64\n",
      " 11  newbalanceOrig    1048575 non-null  float64\n",
      " 12  security_alert    1048575 non-null  float64\n",
      " 13  oldbalanceDest    1048575 non-null  float64\n",
      " 14  newbalanceDest    1048575 non-null  float64\n",
      " 15  isFraud           1048575 non-null  float64\n",
      "dtypes: float64(12), object(4)\n",
      "memory usage: 136.0+ MB\n"
     ]
    }
   ],
   "source": [
    "# Para la diferenciacion, usamos el codigo reset_index para reiniciar el indice y poder unir las tablas posteriormente. \n",
    "variables_categoricas = df_fraud[['type', 'gender', 'device', 'zone']].astype(str).reset_index()\n",
    "\n",
    "variables_numericas = df_fraud[['step', 'amount', 'user_connections', 'user_number', 'age', 'connection_time', 'oldbalanceOrg',\n",
    "                           'newbalanceOrig', 'security_alert','oldbalanceDest', 'newbalanceDest','isFraud']].astype(float).reset_index()\n",
    "\n",
    "# Realizamos la union de las tablas y le asignamos el nombre de variables_numericas y variables_categoricas.\n",
    "data = pd.merge(variables_categoricas,variables_numericas, how='inner', on=['index']).drop([\"index\"], axis =1)\n",
    "data.info()\n",
    "\n",
    "variables_numericas = variables_numericas.drop([\"index\"], axis =1).astype(float)\n",
    "variables_categoricas = variables_categoricas.drop([\"index\"], axis =1).astype(str)"
   ]
  },
  {
   "cell_type": "code",
   "execution_count": 11,
   "id": "a3904704",
   "metadata": {},
   "outputs": [
    {
     "data": {
      "text/plain": [
       "step                 float64\n",
       "type                category\n",
       "amount               float64\n",
       "gender              category\n",
       "device              category\n",
       "connection_time      float64\n",
       "oldbalanceOrg        float64\n",
       "age                  float64\n",
       "newbalanceOrig       float64\n",
       "zone                category\n",
       "user_number          float64\n",
       "user_connections     float64\n",
       "security_alert       float64\n",
       "oldbalanceDest       float64\n",
       "newbalanceDest       float64\n",
       "isFraud              float64\n",
       "dtype: object"
      ]
     },
     "execution_count": 11,
     "metadata": {},
     "output_type": "execute_result"
    }
   ],
   "source": [
    "list_variables_categoricas, other = dame_variables_categoricas(dataset = data)\n",
    "df_fraud[list_variables_categoricas] = df_fraud[list_variables_categoricas].astype(\"category\")\n",
    "list_variables_numericas = list(data.select_dtypes(\"float\").columns)\n",
    "df_fraud[list_variables_numericas] = df_fraud[list_variables_numericas].astype(float)\n",
    "df_fraud.dtypes"
   ]
  },
  {
   "cell_type": "markdown",
   "id": "4267aff3",
   "metadata": {},
   "source": [
    "## Verification of duplicate values, missing values and outliers\n",
    "(Verificacion de datos duplicados, datos faltantes y outliers)"
   ]
  },
  {
   "cell_type": "markdown",
   "id": "ef067dcc",
   "metadata": {},
   "source": [
    "### - Duplicates rows / Verificacion de filas duplicadas"
   ]
  },
  {
   "cell_type": "code",
   "execution_count": 12,
   "id": "5ff41cac",
   "metadata": {},
   "outputs": [
    {
     "name": "stdout",
     "output_type": "stream",
     "text": [
      "(1048575, 16) (1048575, 16)\n"
     ]
    }
   ],
   "source": [
    "# verificamos si existen duplicados para identificar como proceder csi existe gran cantidad\n",
    "print(df_fraud.shape, df_fraud.drop_duplicates().shape)"
   ]
  },
  {
   "cell_type": "markdown",
   "id": "ae6e550c",
   "metadata": {},
   "source": [
    "**ENG** -There are **no duplicated rows** in our dataset\\"
   ]
  },
  {
   "cell_type": "markdown",
   "id": "4f704452",
   "metadata": {},
   "source": [
    "### -Missing Values / Verificar de valores nulos"
   ]
  },
  {
   "cell_type": "code",
   "execution_count": 13,
   "id": "7e497fb6",
   "metadata": {},
   "outputs": [
    {
     "data": {
      "text/html": [
       "<div>\n",
       "<style scoped>\n",
       "    .dataframe tbody tr th:only-of-type {\n",
       "        vertical-align: middle;\n",
       "    }\n",
       "\n",
       "    .dataframe tbody tr th {\n",
       "        vertical-align: top;\n",
       "    }\n",
       "\n",
       "    .dataframe thead th {\n",
       "        text-align: right;\n",
       "    }\n",
       "</style>\n",
       "<table border=\"1\" class=\"dataframe\">\n",
       "  <thead>\n",
       "    <tr style=\"text-align: right;\">\n",
       "      <th></th>\n",
       "      <th>index</th>\n",
       "      <th>null_values</th>\n",
       "      <th>total_rows</th>\n",
       "      <th>miss_percentage</th>\n",
       "    </tr>\n",
       "  </thead>\n",
       "  <tbody>\n",
       "    <tr>\n",
       "      <th>0</th>\n",
       "      <td>gender</td>\n",
       "      <td>105118</td>\n",
       "      <td>943457</td>\n",
       "      <td>10.024843</td>\n",
       "    </tr>\n",
       "    <tr>\n",
       "      <th>1</th>\n",
       "      <td>device</td>\n",
       "      <td>104580</td>\n",
       "      <td>943995</td>\n",
       "      <td>9.973536</td>\n",
       "    </tr>\n",
       "    <tr>\n",
       "      <th>2</th>\n",
       "      <td>zone</td>\n",
       "      <td>104414</td>\n",
       "      <td>944161</td>\n",
       "      <td>9.957705</td>\n",
       "    </tr>\n",
       "  </tbody>\n",
       "</table>\n",
       "</div>"
      ],
      "text/plain": [
       "    index  null_values  total_rows  miss_percentage\n",
       "0  gender       105118      943457        10.024843\n",
       "1  device       104580      943995         9.973536\n",
       "2    zone       104414      944161         9.957705"
      ]
     },
     "execution_count": 13,
     "metadata": {},
     "output_type": "execute_result"
    }
   ],
   "source": [
    "# Creamos una tabla para verificar cuantas de nuestras varaibles contenian valores faltantes\n",
    "null_columns=df_fraud.isnull().sum().sort_values(ascending=False).rename(\"null_values\").reset_index()\n",
    "total_rows=df_fraud.count().rename(\"total_rows\").astype(int).reset_index()\n",
    "\n",
    "null_columns=pd.merge(null_columns,total_rows, how=\"inner\", on=[\"index\"])\n",
    "null_columns[\"miss_percentage\"]=(null_columns['null_values']/len(df_fraud)).mul(100)\n",
    "null_columns[null_columns[\"null_values\"]>0]"
   ]
  },
  {
   "cell_type": "code",
   "execution_count": 14,
   "id": "ec7bc5e7",
   "metadata": {},
   "outputs": [
    {
     "data": {
      "text/html": [
       "<div>\n",
       "<style scoped>\n",
       "    .dataframe tbody tr th:only-of-type {\n",
       "        vertical-align: middle;\n",
       "    }\n",
       "\n",
       "    .dataframe tbody tr th {\n",
       "        vertical-align: top;\n",
       "    }\n",
       "\n",
       "    .dataframe thead th {\n",
       "        text-align: right;\n",
       "    }\n",
       "</style>\n",
       "<table border=\"1\" class=\"dataframe\">\n",
       "  <thead>\n",
       "    <tr style=\"text-align: right;\">\n",
       "      <th></th>\n",
       "      <th>step</th>\n",
       "      <th>type</th>\n",
       "      <th>amount</th>\n",
       "      <th>gender</th>\n",
       "      <th>device</th>\n",
       "      <th>connection_time</th>\n",
       "      <th>oldbalanceOrg</th>\n",
       "      <th>age</th>\n",
       "      <th>newbalanceOrig</th>\n",
       "      <th>zone</th>\n",
       "      <th>user_number</th>\n",
       "      <th>user_connections</th>\n",
       "      <th>security_alert</th>\n",
       "      <th>oldbalanceDest</th>\n",
       "      <th>newbalanceDest</th>\n",
       "      <th>isFraud</th>\n",
       "    </tr>\n",
       "  </thead>\n",
       "  <tbody>\n",
       "    <tr>\n",
       "      <th>11</th>\n",
       "      <td>1.0</td>\n",
       "      <td>PAYMENT</td>\n",
       "      <td>3099.97</td>\n",
       "      <td>NaN</td>\n",
       "      <td>pc</td>\n",
       "      <td>0.863282</td>\n",
       "      <td>20771.00</td>\n",
       "      <td>42.0</td>\n",
       "      <td>17671.03</td>\n",
       "      <td>NaN</td>\n",
       "      <td>4836.0</td>\n",
       "      <td>1.0</td>\n",
       "      <td>0.0</td>\n",
       "      <td>0.00</td>\n",
       "      <td>0.00</td>\n",
       "      <td>0.0</td>\n",
       "    </tr>\n",
       "    <tr>\n",
       "      <th>15</th>\n",
       "      <td>1.0</td>\n",
       "      <td>CASH_OUT</td>\n",
       "      <td>229133.94</td>\n",
       "      <td>unknow</td>\n",
       "      <td>mac</td>\n",
       "      <td>0.362496</td>\n",
       "      <td>15325.00</td>\n",
       "      <td>39.0</td>\n",
       "      <td>0.00</td>\n",
       "      <td>NaN</td>\n",
       "      <td>1878.0</td>\n",
       "      <td>1.0</td>\n",
       "      <td>0.0</td>\n",
       "      <td>5083.00</td>\n",
       "      <td>51513.44</td>\n",
       "      <td>0.0</td>\n",
       "    </tr>\n",
       "    <tr>\n",
       "      <th>19</th>\n",
       "      <td>1.0</td>\n",
       "      <td>TRANSFER</td>\n",
       "      <td>215310.30</td>\n",
       "      <td>woman</td>\n",
       "      <td>NaN</td>\n",
       "      <td>0.901635</td>\n",
       "      <td>705.00</td>\n",
       "      <td>98.0</td>\n",
       "      <td>0.00</td>\n",
       "      <td>NaN</td>\n",
       "      <td>2048.0</td>\n",
       "      <td>2.0</td>\n",
       "      <td>0.0</td>\n",
       "      <td>22425.00</td>\n",
       "      <td>0.00</td>\n",
       "      <td>0.0</td>\n",
       "    </tr>\n",
       "    <tr>\n",
       "      <th>27</th>\n",
       "      <td>1.0</td>\n",
       "      <td>PAYMENT</td>\n",
       "      <td>8009.09</td>\n",
       "      <td>man</td>\n",
       "      <td>mac</td>\n",
       "      <td>0.465050</td>\n",
       "      <td>10968.00</td>\n",
       "      <td>64.0</td>\n",
       "      <td>2958.91</td>\n",
       "      <td>NaN</td>\n",
       "      <td>3527.0</td>\n",
       "      <td>4.0</td>\n",
       "      <td>0.0</td>\n",
       "      <td>0.00</td>\n",
       "      <td>0.00</td>\n",
       "      <td>0.0</td>\n",
       "    </tr>\n",
       "    <tr>\n",
       "      <th>28</th>\n",
       "      <td>1.0</td>\n",
       "      <td>PAYMENT</td>\n",
       "      <td>8901.99</td>\n",
       "      <td>NaN</td>\n",
       "      <td>pc</td>\n",
       "      <td>0.798794</td>\n",
       "      <td>2958.91</td>\n",
       "      <td>100.0</td>\n",
       "      <td>0.00</td>\n",
       "      <td>NaN</td>\n",
       "      <td>3499.0</td>\n",
       "      <td>7.0</td>\n",
       "      <td>0.0</td>\n",
       "      <td>0.00</td>\n",
       "      <td>0.00</td>\n",
       "      <td>0.0</td>\n",
       "    </tr>\n",
       "    <tr>\n",
       "      <th>...</th>\n",
       "      <td>...</td>\n",
       "      <td>...</td>\n",
       "      <td>...</td>\n",
       "      <td>...</td>\n",
       "      <td>...</td>\n",
       "      <td>...</td>\n",
       "      <td>...</td>\n",
       "      <td>...</td>\n",
       "      <td>...</td>\n",
       "      <td>...</td>\n",
       "      <td>...</td>\n",
       "      <td>...</td>\n",
       "      <td>...</td>\n",
       "      <td>...</td>\n",
       "      <td>...</td>\n",
       "      <td>...</td>\n",
       "    </tr>\n",
       "    <tr>\n",
       "      <th>1048534</th>\n",
       "      <td>95.0</td>\n",
       "      <td>PAYMENT</td>\n",
       "      <td>35615.13</td>\n",
       "      <td>unknow</td>\n",
       "      <td>pc</td>\n",
       "      <td>0.661050</td>\n",
       "      <td>0.00</td>\n",
       "      <td>35.0</td>\n",
       "      <td>0.00</td>\n",
       "      <td>NaN</td>\n",
       "      <td>2602.0</td>\n",
       "      <td>2.0</td>\n",
       "      <td>0.0</td>\n",
       "      <td>0.00</td>\n",
       "      <td>0.00</td>\n",
       "      <td>0.0</td>\n",
       "    </tr>\n",
       "    <tr>\n",
       "      <th>1048538</th>\n",
       "      <td>95.0</td>\n",
       "      <td>PAYMENT</td>\n",
       "      <td>792.07</td>\n",
       "      <td>woman</td>\n",
       "      <td>mac</td>\n",
       "      <td>0.299582</td>\n",
       "      <td>0.00</td>\n",
       "      <td>23.0</td>\n",
       "      <td>0.00</td>\n",
       "      <td>NaN</td>\n",
       "      <td>2165.0</td>\n",
       "      <td>10.0</td>\n",
       "      <td>0.0</td>\n",
       "      <td>0.00</td>\n",
       "      <td>0.00</td>\n",
       "      <td>0.0</td>\n",
       "    </tr>\n",
       "    <tr>\n",
       "      <th>1048541</th>\n",
       "      <td>95.0</td>\n",
       "      <td>PAYMENT</td>\n",
       "      <td>14851.50</td>\n",
       "      <td>woman</td>\n",
       "      <td>mac</td>\n",
       "      <td>0.463062</td>\n",
       "      <td>0.00</td>\n",
       "      <td>91.0</td>\n",
       "      <td>0.00</td>\n",
       "      <td>NaN</td>\n",
       "      <td>1914.0</td>\n",
       "      <td>8.0</td>\n",
       "      <td>0.0</td>\n",
       "      <td>0.00</td>\n",
       "      <td>0.00</td>\n",
       "      <td>0.0</td>\n",
       "    </tr>\n",
       "    <tr>\n",
       "      <th>1048547</th>\n",
       "      <td>95.0</td>\n",
       "      <td>PAYMENT</td>\n",
       "      <td>12610.69</td>\n",
       "      <td>woman</td>\n",
       "      <td>iphone</td>\n",
       "      <td>0.243083</td>\n",
       "      <td>0.00</td>\n",
       "      <td>24.0</td>\n",
       "      <td>0.00</td>\n",
       "      <td>NaN</td>\n",
       "      <td>3245.0</td>\n",
       "      <td>6.0</td>\n",
       "      <td>0.0</td>\n",
       "      <td>0.00</td>\n",
       "      <td>0.00</td>\n",
       "      <td>0.0</td>\n",
       "    </tr>\n",
       "    <tr>\n",
       "      <th>1048570</th>\n",
       "      <td>95.0</td>\n",
       "      <td>CASH_OUT</td>\n",
       "      <td>132557.35</td>\n",
       "      <td>woman</td>\n",
       "      <td>mac</td>\n",
       "      <td>0.420243</td>\n",
       "      <td>479803.00</td>\n",
       "      <td>39.0</td>\n",
       "      <td>347245.65</td>\n",
       "      <td>NaN</td>\n",
       "      <td>3179.0</td>\n",
       "      <td>9.0</td>\n",
       "      <td>0.0</td>\n",
       "      <td>484329.37</td>\n",
       "      <td>616886.72</td>\n",
       "      <td>0.0</td>\n",
       "    </tr>\n",
       "  </tbody>\n",
       "</table>\n",
       "<p>104414 rows × 16 columns</p>\n",
       "</div>"
      ],
      "text/plain": [
       "         step      type     amount  gender  device  connection_time  \\\n",
       "11        1.0   PAYMENT    3099.97     NaN      pc         0.863282   \n",
       "15        1.0  CASH_OUT  229133.94  unknow     mac         0.362496   \n",
       "19        1.0  TRANSFER  215310.30   woman     NaN         0.901635   \n",
       "27        1.0   PAYMENT    8009.09     man     mac         0.465050   \n",
       "28        1.0   PAYMENT    8901.99     NaN      pc         0.798794   \n",
       "...       ...       ...        ...     ...     ...              ...   \n",
       "1048534  95.0   PAYMENT   35615.13  unknow      pc         0.661050   \n",
       "1048538  95.0   PAYMENT     792.07   woman     mac         0.299582   \n",
       "1048541  95.0   PAYMENT   14851.50   woman     mac         0.463062   \n",
       "1048547  95.0   PAYMENT   12610.69   woman  iphone         0.243083   \n",
       "1048570  95.0  CASH_OUT  132557.35   woman     mac         0.420243   \n",
       "\n",
       "         oldbalanceOrg    age  newbalanceOrig zone  user_number  \\\n",
       "11            20771.00   42.0        17671.03  NaN       4836.0   \n",
       "15            15325.00   39.0            0.00  NaN       1878.0   \n",
       "19              705.00   98.0            0.00  NaN       2048.0   \n",
       "27            10968.00   64.0         2958.91  NaN       3527.0   \n",
       "28             2958.91  100.0            0.00  NaN       3499.0   \n",
       "...                ...    ...             ...  ...          ...   \n",
       "1048534           0.00   35.0            0.00  NaN       2602.0   \n",
       "1048538           0.00   23.0            0.00  NaN       2165.0   \n",
       "1048541           0.00   91.0            0.00  NaN       1914.0   \n",
       "1048547           0.00   24.0            0.00  NaN       3245.0   \n",
       "1048570      479803.00   39.0       347245.65  NaN       3179.0   \n",
       "\n",
       "         user_connections  security_alert  oldbalanceDest  newbalanceDest  \\\n",
       "11                    1.0             0.0            0.00            0.00   \n",
       "15                    1.0             0.0         5083.00        51513.44   \n",
       "19                    2.0             0.0        22425.00            0.00   \n",
       "27                    4.0             0.0            0.00            0.00   \n",
       "28                    7.0             0.0            0.00            0.00   \n",
       "...                   ...             ...             ...             ...   \n",
       "1048534               2.0             0.0            0.00            0.00   \n",
       "1048538              10.0             0.0            0.00            0.00   \n",
       "1048541               8.0             0.0            0.00            0.00   \n",
       "1048547               6.0             0.0            0.00            0.00   \n",
       "1048570               9.0             0.0       484329.37       616886.72   \n",
       "\n",
       "         isFraud  \n",
       "11           0.0  \n",
       "15           0.0  \n",
       "19           0.0  \n",
       "27           0.0  \n",
       "28           0.0  \n",
       "...          ...  \n",
       "1048534      0.0  \n",
       "1048538      0.0  \n",
       "1048541      0.0  \n",
       "1048547      0.0  \n",
       "1048570      0.0  \n",
       "\n",
       "[104414 rows x 16 columns]"
      ]
     },
     "execution_count": 14,
     "metadata": {},
     "output_type": "execute_result"
    }
   ],
   "source": [
    "#Verificamos los missing values de la columna 'Zone' para identificar como tratar los valores nulos\n",
    "df_null_zone=df_fraud[pd.isnull(df_fraud[\"zone\"])]\n",
    "df_null_zone"
   ]
  },
  {
   "cell_type": "markdown",
   "id": "7ab38aa0",
   "metadata": {},
   "source": [
    "**ENG**- We do not know if these values as nulls were entered randomly or if they were not introduced due to information that was not entered on purpose, we will be classifying these nulls as MAR(missing at Random) or MNAR(missing not at random). Therefore we are going to change the null values to \"missing\" to be able to work with Machine Learning models but also taking these missing values into account."
   ]
  },
  {
   "cell_type": "code",
   "execution_count": 15,
   "id": "cdad3e62",
   "metadata": {},
   "outputs": [],
   "source": [
    "# Creating changing the NaN with missing values\n",
    "df_fraud['gender']=np.where(df_fraud['gender'].isnull(),\"unknow\",df_fraud['gender'])\n",
    "df_fraud['zone']=np.where(df_fraud['zone'].isnull(),\"missing\",df_fraud['zone'])\n",
    "df_fraud['device']=np.where(df_fraud['device'].isnull(),\"missing\",df_fraud['device'])"
   ]
  },
  {
   "cell_type": "code",
   "execution_count": 16,
   "id": "76144ed3",
   "metadata": {},
   "outputs": [
    {
     "data": {
      "text/html": [
       "<div>\n",
       "<style scoped>\n",
       "    .dataframe tbody tr th:only-of-type {\n",
       "        vertical-align: middle;\n",
       "    }\n",
       "\n",
       "    .dataframe tbody tr th {\n",
       "        vertical-align: top;\n",
       "    }\n",
       "\n",
       "    .dataframe thead th {\n",
       "        text-align: right;\n",
       "    }\n",
       "</style>\n",
       "<table border=\"1\" class=\"dataframe\">\n",
       "  <thead>\n",
       "    <tr style=\"text-align: right;\">\n",
       "      <th></th>\n",
       "      <th>index</th>\n",
       "      <th>null_values</th>\n",
       "      <th>total_rows</th>\n",
       "      <th>miss_percentage</th>\n",
       "    </tr>\n",
       "  </thead>\n",
       "  <tbody>\n",
       "  </tbody>\n",
       "</table>\n",
       "</div>"
      ],
      "text/plain": [
       "Empty DataFrame\n",
       "Columns: [index, null_values, total_rows, miss_percentage]\n",
       "Index: []"
      ]
     },
     "execution_count": 16,
     "metadata": {},
     "output_type": "execute_result"
    }
   ],
   "source": [
    "# Creamos una tabla para verificar cuantas de nuestras varaibles contenian valores faltantes\n",
    "null_columns=df_fraud.isnull().sum().sort_values(ascending=False).rename(\"null_values\").reset_index()\n",
    "total_rows=df_fraud.count().rename(\"total_rows\").astype(int).reset_index()\n",
    "\n",
    "null_columns=pd.merge(null_columns,total_rows, how=\"inner\", on=[\"index\"])\n",
    "null_columns[\"miss_percentage\"]=(null_columns['null_values']/len(df_fraud)).mul(100)\n",
    "null_columns[null_columns[\"null_values\"]>0]"
   ]
  },
  {
   "cell_type": "markdown",
   "id": "67b778e3",
   "metadata": {},
   "source": [
    "**Columsn/Rows**\n",
    "\n",
    "**ENG** - The analysis of null values shows that in the variables **\"gender\", \"device and \"zone\" there are between 10 and 9 % of the data that are missing**, we decide to create a new variable on each column known as \"missing\" to highlight the NaN values but also to be able to work with the data in the future prediction models."
   ]
  },
  {
   "cell_type": "markdown",
   "id": "68500370",
   "metadata": {},
   "source": [
    "### -Outliers /  Verificacion de outliers"
   ]
  },
  {
   "cell_type": "code",
   "execution_count": 17,
   "id": "b89fff92",
   "metadata": {},
   "outputs": [
    {
     "name": "stdout",
     "output_type": "stream",
     "text": [
      "1048575\n"
     ]
    },
    {
     "data": {
      "text/html": [
       "<div>\n",
       "<style scoped>\n",
       "    .dataframe tbody tr th:only-of-type {\n",
       "        vertical-align: middle;\n",
       "    }\n",
       "\n",
       "    .dataframe tbody tr th {\n",
       "        vertical-align: top;\n",
       "    }\n",
       "\n",
       "    .dataframe thead tr th {\n",
       "        text-align: left;\n",
       "    }\n",
       "</style>\n",
       "<table border=\"1\" class=\"dataframe\">\n",
       "  <thead>\n",
       "    <tr>\n",
       "      <th></th>\n",
       "      <th>0</th>\n",
       "      <th>1</th>\n",
       "      <th>variable</th>\n",
       "      <th>sum_outlier_values</th>\n",
       "      <th>porcentaje_sum_outliers</th>\n",
       "    </tr>\n",
       "    <tr>\n",
       "      <th></th>\n",
       "      <th>0</th>\n",
       "      <th>1</th>\n",
       "      <th></th>\n",
       "      <th></th>\n",
       "      <th></th>\n",
       "    </tr>\n",
       "  </thead>\n",
       "  <tbody>\n",
       "    <tr>\n",
       "      <th>0</th>\n",
       "      <td>0.986447</td>\n",
       "      <td>0.013553</td>\n",
       "      <td>step</td>\n",
       "      <td>18004</td>\n",
       "      <td>0.017170</td>\n",
       "    </tr>\n",
       "    <tr>\n",
       "      <th>1</th>\n",
       "      <td>0.981773</td>\n",
       "      <td>0.018227</td>\n",
       "      <td>amount</td>\n",
       "      <td>19422</td>\n",
       "      <td>0.018522</td>\n",
       "    </tr>\n",
       "    <tr>\n",
       "      <th>2</th>\n",
       "      <td>0.999311</td>\n",
       "      <td>0.000689</td>\n",
       "      <td>oldbalanceOrg</td>\n",
       "      <td>26140</td>\n",
       "      <td>0.024929</td>\n",
       "    </tr>\n",
       "    <tr>\n",
       "      <th>3</th>\n",
       "      <td>1.000000</td>\n",
       "      <td>NaN</td>\n",
       "      <td>newbalanceOrig</td>\n",
       "      <td>26282</td>\n",
       "      <td>0.025064</td>\n",
       "    </tr>\n",
       "    <tr>\n",
       "      <th>4</th>\n",
       "      <td>0.999427</td>\n",
       "      <td>0.000573</td>\n",
       "      <td>oldbalanceDest</td>\n",
       "      <td>22685</td>\n",
       "      <td>0.021634</td>\n",
       "    </tr>\n",
       "    <tr>\n",
       "      <th>5</th>\n",
       "      <td>0.998513</td>\n",
       "      <td>0.001487</td>\n",
       "      <td>newbalanceDest</td>\n",
       "      <td>22862</td>\n",
       "      <td>0.021803</td>\n",
       "    </tr>\n",
       "    <tr>\n",
       "      <th>6</th>\n",
       "      <td>1.000000</td>\n",
       "      <td>NaN</td>\n",
       "      <td>isFraud</td>\n",
       "      <td>1142</td>\n",
       "      <td>0.001089</td>\n",
       "    </tr>\n",
       "  </tbody>\n",
       "</table>\n",
       "</div>"
      ],
      "text/plain": [
       "          0         1        variable sum_outlier_values  \\\n",
       "          0         1                                      \n",
       "0  0.986447  0.013553            step              18004   \n",
       "1  0.981773  0.018227          amount              19422   \n",
       "2  0.999311  0.000689   oldbalanceOrg              26140   \n",
       "3  1.000000       NaN  newbalanceOrig              26282   \n",
       "4  0.999427  0.000573  oldbalanceDest              22685   \n",
       "5  0.998513  0.001487  newbalanceDest              22862   \n",
       "6  1.000000       NaN         isFraud               1142   \n",
       "\n",
       "  porcentaje_sum_outliers  \n",
       "                           \n",
       "0                0.017170  \n",
       "1                0.018522  \n",
       "2                0.024929  \n",
       "3                0.025064  \n",
       "4                0.021634  \n",
       "5                0.021803  \n",
       "6                0.001089  "
      ]
     },
     "execution_count": 17,
     "metadata": {},
     "output_type": "execute_result"
    }
   ],
   "source": [
    "print(len(df_fraud))\n",
    "get_deviation_of_mean_perc(df_fraud, list_variables_numericas, target='isFraud', multiplier = 3)"
   ]
  },
  {
   "cell_type": "markdown",
   "id": "a8771ebc",
   "metadata": {},
   "source": [
    "**ENG**- In total we have 7 columns that have outliers. As the column with the most outliers only represents 2.5% of the total data, we have decided to continue working with these atypical data knowing that we have some outliers in our dataset."
   ]
  },
  {
   "cell_type": "markdown",
   "id": "84bee3a5",
   "metadata": {},
   "source": [
    "## Verification of Target Variable\n",
    "(Verificacion de la variable objetivo a trabajar)"
   ]
  },
  {
   "cell_type": "code",
   "execution_count": 18,
   "id": "8527f165",
   "metadata": {},
   "outputs": [
    {
     "data": {
      "text/html": [
       "<div>\n",
       "<style scoped>\n",
       "    .dataframe tbody tr th:only-of-type {\n",
       "        vertical-align: middle;\n",
       "    }\n",
       "\n",
       "    .dataframe tbody tr th {\n",
       "        vertical-align: top;\n",
       "    }\n",
       "\n",
       "    .dataframe thead th {\n",
       "        text-align: right;\n",
       "    }\n",
       "</style>\n",
       "<table border=\"1\" class=\"dataframe\">\n",
       "  <thead>\n",
       "    <tr style=\"text-align: right;\">\n",
       "      <th></th>\n",
       "      <th>index</th>\n",
       "      <th>porcentaje</th>\n",
       "      <th>cantidad</th>\n",
       "    </tr>\n",
       "  </thead>\n",
       "  <tbody>\n",
       "    <tr>\n",
       "      <th>0</th>\n",
       "      <td>0.0</td>\n",
       "      <td>99.89</td>\n",
       "      <td>1047433</td>\n",
       "    </tr>\n",
       "    <tr>\n",
       "      <th>1</th>\n",
       "      <td>1.0</td>\n",
       "      <td>0.11</td>\n",
       "      <td>1142</td>\n",
       "    </tr>\n",
       "  </tbody>\n",
       "</table>\n",
       "</div>"
      ],
      "text/plain": [
       "   index  porcentaje  cantidad\n",
       "0    0.0       99.89   1047433\n",
       "1    1.0        0.11      1142"
      ]
     },
     "execution_count": 18,
     "metadata": {},
     "output_type": "execute_result"
    }
   ],
   "source": [
    "# Verificamos el comportamiento de la variable objetivo dentro de nuestro dataset para identificar como se procederan a \n",
    "# dividir el set de datos de training y el de test\n",
    "df_fraud_porc=df_fraud.isFraud.value_counts(normalize=True).rename(\"porcentaje\").mul(100).reset_index().round(2)\n",
    "df_fraud_cant=df_fraud.isFraud.value_counts().rename(\"cantidad\").reset_index()\n",
    "\n",
    "df_isFraud=pd.merge(df_fraud_porc, df_fraud_cant, how= \"inner\", on=[\"index\"])\n",
    "df_isFraud=pd.DataFrame(df_isFraud)\n",
    "df_isFraud"
   ]
  },
  {
   "cell_type": "code",
   "execution_count": 19,
   "id": "0138eb79",
   "metadata": {},
   "outputs": [
    {
     "data": {
      "text/plain": [
       "Text(0.5, 1.05, 'Distribution Target Variable / Distribucion Variable Objetivo')"
      ]
     },
     "execution_count": 19,
     "metadata": {},
     "output_type": "execute_result"
    },
    {
     "data": {
      "image/png": "[encoded data removed]",
      "text/plain": [
       "<Figure size 360x360 with 1 Axes>"
      ]
     },
     "metadata": {
      "needs_background": "light"
     },
     "output_type": "display_data"
    }
   ],
   "source": [
    "graph=sns.catplot(data=df_isFraud, x=\"index\", y=\"porcentaje\", kind=\"bar\")\n",
    "graph.set(xlabel=\"Is Fraud?/Existencia de Fraude (No/Yes)\")\n",
    "graph.fig.suptitle(\"Distribution Target Variable / Distribucion Variable Objetivo\", y=1.05)"
   ]
  },
  {
   "cell_type": "markdown",
   "id": "50c53d04",
   "metadata": {},
   "source": [
    "**ENG**\n",
    "- In the graph above the 0 represents the transactions that were not fraudulent and the 1 represents the transactions that were fraud. The target varaible is unbalance as the observations that were fraud were far less than the transactions that were not a fraud with a difference in percecntage of 99.89% against 0.11% of transactions that were fraud.\n",
    "- This will impact the way we are will besplitting the dataset of training and test in further process."
   ]
  },
  {
   "cell_type": "markdown",
   "id": "df8f2264",
   "metadata": {},
   "source": [
    "## Behavior of variables \n",
    "(Comportamiento de variables a analizar)"
   ]
  },
  {
   "cell_type": "markdown",
   "id": "9905424a",
   "metadata": {},
   "source": [
    "**ENG** \n",
    "- Because of the big amount of data in the dataset, we are going to select some variables and analyse their behavior by themself and comparing the varaible against the target variable. We select the 3 varaiables that had missing values (gender, zone and device) and type of transaction, age and amount."
   ]
  },
  {
   "cell_type": "markdown",
   "id": "986f2510",
   "metadata": {},
   "source": [
    "**1. Age Variable**"
   ]
  },
  {
   "cell_type": "code",
   "execution_count": 20,
   "id": "1c4fb984",
   "metadata": {},
   "outputs": [
    {
     "data": {
      "text/plain": [
       "Text(0.5, 1.0, 'Comportamiento variable de edad en relacion a Fraude')"
      ]
     },
     "execution_count": 20,
     "metadata": {},
     "output_type": "execute_result"
    },
    {
     "data": {
      "image/png": "[encoded data removed]",
      "text/plain": [
       "<Figure size 1080x270 with 2 Axes>"
      ]
     },
     "metadata": {},
     "output_type": "display_data"
    }
   ],
   "source": [
    "# Analisis de la variable de edad\n",
    "f, (ax1, ax2) = plt.subplots(nrows=1, ncols=2, figsize=(12,3), dpi=90)\n",
    "sns.histplot(data=df_fraud, x='age', binwidth=10, ax=ax1)\n",
    "sns.boxplot(x='isFraud', y='age', data=df_fraud, ax=ax2,)\n",
    "ax1.set_title(\"Distribucion en relacion a variable de edad\")\n",
    "ax2.set_title(\"Comportamiento variable de edad en relacion a Fraude\")"
   ]
  },
  {
   "cell_type": "code",
   "execution_count": 21,
   "id": "c062c951",
   "metadata": {},
   "outputs": [
    {
     "data": {
      "text/html": [
       "<div>\n",
       "<style scoped>\n",
       "    .dataframe tbody tr th:only-of-type {\n",
       "        vertical-align: middle;\n",
       "    }\n",
       "\n",
       "    .dataframe tbody tr th {\n",
       "        vertical-align: top;\n",
       "    }\n",
       "\n",
       "    .dataframe thead th {\n",
       "        text-align: right;\n",
       "    }\n",
       "</style>\n",
       "<table border=\"1\" class=\"dataframe\">\n",
       "  <thead>\n",
       "    <tr style=\"text-align: right;\">\n",
       "      <th></th>\n",
       "      <th>age</th>\n",
       "    </tr>\n",
       "    <tr>\n",
       "      <th>age</th>\n",
       "      <th></th>\n",
       "    </tr>\n",
       "  </thead>\n",
       "  <tbody>\n",
       "    <tr>\n",
       "      <th>5.0</th>\n",
       "      <td>11055</td>\n",
       "    </tr>\n",
       "    <tr>\n",
       "      <th>6.0</th>\n",
       "      <td>10843</td>\n",
       "    </tr>\n",
       "    <tr>\n",
       "      <th>7.0</th>\n",
       "      <td>11088</td>\n",
       "    </tr>\n",
       "    <tr>\n",
       "      <th>8.0</th>\n",
       "      <td>10980</td>\n",
       "    </tr>\n",
       "    <tr>\n",
       "      <th>9.0</th>\n",
       "      <td>10830</td>\n",
       "    </tr>\n",
       "  </tbody>\n",
       "</table>\n",
       "</div>"
      ],
      "text/plain": [
       "       age\n",
       "age       \n",
       "5.0  11055\n",
       "6.0  10843\n",
       "7.0  11088\n",
       "8.0  10980\n",
       "9.0  10830"
      ]
     },
     "execution_count": 21,
     "metadata": {},
     "output_type": "execute_result"
    }
   ],
   "source": [
    "df_fraud.age.groupby(df_fraud.age).count().to_frame().head(5)"
   ]
  },
  {
   "cell_type": "markdown",
   "id": "1c866915",
   "metadata": {},
   "source": [
    "**ENG** - For the age, it is shown that there are a lot of transactions that were executed bby people less than 18 years old, being the minimun age to execute a transaction 18. Regardless the distribution of the data, when we compare this variable against the target variable we can see that the distribution of age for the transactions that were fraudulent and the ones that were not fraudulent are the same. This shows that the variable of age does not have a lot of influence in the target variable and therefore we are going to drop this columns category."
   ]
  },
  {
   "cell_type": "code",
   "execution_count": 22,
   "id": "4606f9c5",
   "metadata": {},
   "outputs": [],
   "source": [
    "df_fraud=df_fraud.drop(['age'],axis=1)"
   ]
  },
  {
   "cell_type": "code",
   "execution_count": 23,
   "id": "17e5da2d",
   "metadata": {
    "scrolled": true
   },
   "outputs": [
    {
     "data": {
      "text/plain": [
       "Text(0.5, 1.0, 'Behavior of var. amount vs Fraud')"
      ]
     },
     "execution_count": 23,
     "metadata": {},
     "output_type": "execute_result"
    },
    {
     "data": {
      "image/png": "[encoded data removed]",
      "text/plain": [
       "<Figure size 1080x270 with 2 Axes>"
      ]
     },
     "metadata": {},
     "output_type": "display_data"
    }
   ],
   "source": [
    "# Analisis de la variable de cantidad\n",
    "f, (ax1, ax2) = plt.subplots(nrows=1, ncols=2, figsize=(12,3), dpi=90)\n",
    "sns.histplot(data=df_fraud, x='amount', binwidth=1000, ax=ax1)\n",
    "sns.boxplot(x='isFraud', y='amount', data=df_fraud, ax=ax2)\n",
    "ax1.set_title(\"Distribution of variable amount\")\n",
    "ax2.set_title(\"Behavior of var. amount vs Fraud\")"
   ]
  },
  {
   "cell_type": "markdown",
   "id": "b40db6b9",
   "metadata": {},
   "source": [
    "**2. Amount Variable**"
   ]
  },
  {
   "cell_type": "markdown",
   "id": "f531c128",
   "metadata": {},
   "source": [
    "**ENG** - Even though it can be identify that there are a lot of outliers in this variable, **the behavior of the amount of the transaction has an impact on the object variable (isFraud)**. With the boxplot it can be perceived that the amount of money of the transactions that are a Fraud are a higher than the transaction that are not a Fraud, with a median and a range with a bigger dimension."
   ]
  },
  {
   "cell_type": "markdown",
   "id": "1aa5e9c4",
   "metadata": {},
   "source": [
    "**3. Type Variable**"
   ]
  },
  {
   "cell_type": "code",
   "execution_count": 24,
   "id": "d294fc04",
   "metadata": {},
   "outputs": [],
   "source": [
    "# Hemos creado un nuevo dataframe solo con los datos en que las transacciones fueron farude para analizar mejor en graficos\n",
    "df_fraud_yes=df_fraud.loc[df_fraud['isFraud']==1]"
   ]
  },
  {
   "cell_type": "code",
   "execution_count": 25,
   "id": "5f9739e2",
   "metadata": {
    "scrolled": true
   },
   "outputs": [
    {
     "data": {
      "image/png": "[encoded data removed]",
      "text/plain": [
       "<Figure size 1080x270 with 3 Axes>"
      ]
     },
     "metadata": {},
     "output_type": "display_data"
    }
   ],
   "source": [
    "# Analisamos las variables de \"type\" para verificar comportamiento\n",
    "f, (ax1, ax2, ax3) = plt.subplots(nrows=1, ncols=3, figsize=(12,3), dpi=90)\n",
    "\n",
    "sns.histplot(data=df_fraud, x='type', ax=ax1)\n",
    "sns.countplot(x='type', data=df_fraud, hue='isFraud', ax=ax2)\n",
    "sns.countplot(x='type', data=df_fraud_yes, hue='isFraud', ax=ax3, color=\"orange\")\n",
    "\n",
    "ax1.set_title(\"Distribution of variable type\")\n",
    "ax2.set_title(\"Behavior of var. type vs Fraud(yes/no)\")\n",
    "ax3.set_title(\"Behavior of var. type vs Faudulent Transactions\")\n",
    "\n",
    "sns.set(font_scale = 0.7)\n",
    "ax1.tick_params(axis='x', rotation=90)\n",
    "ax2.tick_params(axis='x', rotation=90)"
   ]
  },
  {
   "cell_type": "code",
   "execution_count": 26,
   "id": "9225abc9",
   "metadata": {},
   "outputs": [
    {
     "data": {
      "text/html": [
       "<div>\n",
       "<style scoped>\n",
       "    .dataframe tbody tr th:only-of-type {\n",
       "        vertical-align: middle;\n",
       "    }\n",
       "\n",
       "    .dataframe tbody tr th {\n",
       "        vertical-align: top;\n",
       "    }\n",
       "\n",
       "    .dataframe thead th {\n",
       "        text-align: right;\n",
       "    }\n",
       "</style>\n",
       "<table border=\"1\" class=\"dataframe\">\n",
       "  <thead>\n",
       "    <tr style=\"text-align: right;\">\n",
       "      <th></th>\n",
       "      <th>type</th>\n",
       "      <th>noFraud</th>\n",
       "      <th>yesFraud</th>\n",
       "    </tr>\n",
       "  </thead>\n",
       "  <tbody>\n",
       "    <tr>\n",
       "      <th>0</th>\n",
       "      <td>CASH_IN</td>\n",
       "      <td>227130</td>\n",
       "      <td>0</td>\n",
       "    </tr>\n",
       "    <tr>\n",
       "      <th>1</th>\n",
       "      <td>CASH_OUT</td>\n",
       "      <td>373063</td>\n",
       "      <td>578</td>\n",
       "    </tr>\n",
       "    <tr>\n",
       "      <th>2</th>\n",
       "      <td>DEBIT</td>\n",
       "      <td>7178</td>\n",
       "      <td>0</td>\n",
       "    </tr>\n",
       "    <tr>\n",
       "      <th>3</th>\n",
       "      <td>PAYMENT</td>\n",
       "      <td>353873</td>\n",
       "      <td>0</td>\n",
       "    </tr>\n",
       "    <tr>\n",
       "      <th>4</th>\n",
       "      <td>TRANSFER</td>\n",
       "      <td>86189</td>\n",
       "      <td>564</td>\n",
       "    </tr>\n",
       "  </tbody>\n",
       "</table>\n",
       "</div>"
      ],
      "text/plain": [
       "       type  noFraud  yesFraud\n",
       "0   CASH_IN   227130         0\n",
       "1  CASH_OUT   373063       578\n",
       "2     DEBIT     7178         0\n",
       "3   PAYMENT   353873         0\n",
       "4  TRANSFER    86189       564"
      ]
     },
     "execution_count": 26,
     "metadata": {},
     "output_type": "execute_result"
    }
   ],
   "source": [
    "# Vemos distribucion en funcion numerica para una mejor comparacion\n",
    "df_noFraud=df_fraud.loc[(df_fraud['isFraud'] == 0),['isFraud','type']].groupby('type').count().reset_index().set_axis([\"type\",\"noFraud\"],axis=1)\n",
    "df_yesFraud=df_fraud.loc[(df_fraud['isFraud'] == 1),['isFraud','type']].groupby('type').count().reset_index().set_axis([\"type\",\"yesFraud\"],axis=1)\n",
    "df_Fraud_type=pd.merge(df_noFraud,df_yesFraud, how= \"left\", on=[\"type\"])\n",
    "df_Fraud_type"
   ]
  },
  {
   "cell_type": "markdown",
   "id": "81bf5ab6",
   "metadata": {},
   "source": [
    "**ENG**- Eventhough the transactions that were fraud are not visible in the column chart, the table created showns that the transactions that were classified as fraud only were the type of cashing out money or by transaction. The types that were cash_in, debit or payment were never a fraudulent transactions, **this is a variable that indeeed have an importan role in our future analysis**"
   ]
  },
  {
   "cell_type": "markdown",
   "id": "1665e4d3",
   "metadata": {},
   "source": [
    "**4. Gender Variable**"
   ]
  },
  {
   "cell_type": "code",
   "execution_count": 27,
   "id": "a3ec620d",
   "metadata": {},
   "outputs": [
    {
     "data": {
      "image/png": "[encoded data removed]",
      "text/plain": [
       "<Figure size 1080x270 with 3 Axes>"
      ]
     },
     "metadata": {},
     "output_type": "display_data"
    }
   ],
   "source": [
    "# Analisamos las variables de \"gender\" para verificar comportamiento\n",
    "f, (ax1, ax2, ax3) = plt.subplots(nrows=1, ncols=3, figsize=(12,3), dpi=90)\n",
    "\n",
    "sns.histplot(data=df_fraud, x='gender', ax=ax1, stat='count')\n",
    "sns.countplot(x='gender', data=df_fraud, hue='isFraud', ax=ax2)\n",
    "sns.countplot(x='gender', data=df_fraud_yes, hue='isFraud', ax=ax3, color=\"orange\")\n",
    "\n",
    "ax1.set_title(\"Distribution of variable gender\")\n",
    "ax2.set_title(\"Behavior of var. gender vs Fraud\")\n",
    "ax3.set_title(\"Behavior of var. gender vs Faudulent Transactions\")\n",
    "\n",
    "sns.set(font_scale = 0.7)\n",
    "ax1.tick_params(axis='x', rotation=90)\n",
    "ax2.tick_params(axis='x', rotation=90)"
   ]
  },
  {
   "cell_type": "code",
   "execution_count": 28,
   "id": "1b7c11e0",
   "metadata": {},
   "outputs": [
    {
     "data": {
      "text/html": [
       "<div>\n",
       "<style scoped>\n",
       "    .dataframe tbody tr th:only-of-type {\n",
       "        vertical-align: middle;\n",
       "    }\n",
       "\n",
       "    .dataframe tbody tr th {\n",
       "        vertical-align: top;\n",
       "    }\n",
       "\n",
       "    .dataframe thead th {\n",
       "        text-align: right;\n",
       "    }\n",
       "</style>\n",
       "<table border=\"1\" class=\"dataframe\">\n",
       "  <thead>\n",
       "    <tr style=\"text-align: right;\">\n",
       "      <th></th>\n",
       "      <th>gender</th>\n",
       "      <th>noFraud</th>\n",
       "      <th>yesFraud</th>\n",
       "    </tr>\n",
       "  </thead>\n",
       "  <tbody>\n",
       "    <tr>\n",
       "      <th>0</th>\n",
       "      <td>man</td>\n",
       "      <td>261951</td>\n",
       "      <td>293</td>\n",
       "    </tr>\n",
       "    <tr>\n",
       "      <th>1</th>\n",
       "      <td>unknow</td>\n",
       "      <td>418976</td>\n",
       "      <td>449</td>\n",
       "    </tr>\n",
       "    <tr>\n",
       "      <th>2</th>\n",
       "      <td>woman</td>\n",
       "      <td>366506</td>\n",
       "      <td>400</td>\n",
       "    </tr>\n",
       "  </tbody>\n",
       "</table>\n",
       "</div>"
      ],
      "text/plain": [
       "   gender  noFraud  yesFraud\n",
       "0     man   261951       293\n",
       "1  unknow   418976       449\n",
       "2   woman   366506       400"
      ]
     },
     "execution_count": 28,
     "metadata": {},
     "output_type": "execute_result"
    }
   ],
   "source": [
    "# Vemos distribucion en funcion numerica para una mejor comparacion\n",
    "df_noFraud=df_fraud.loc[(df_fraud['isFraud'] == 0),['isFraud','gender']].groupby('gender').count().reset_index().set_axis([\"gender\",\"noFraud\"],axis=1)\n",
    "df_yesFraud=df_fraud.loc[(df_fraud['isFraud'] == 1),['isFraud','gender']].groupby('gender').count().reset_index().set_axis([\"gender\",\"yesFraud\"],axis=1)\n",
    "df_Fraud_gender=pd.merge(df_noFraud,df_yesFraud, how= \"inner\", on=[\"gender\"])\n",
    "df_Fraud_gender"
   ]
  },
  {
   "cell_type": "markdown",
   "id": "315ecbb6",
   "metadata": {},
   "source": [
    "**ENG**- With the variable of gender, we can see that the distribution of the transaction taht were fraud is almost equal as the distribution of transactions that were not fraud. So this varaible does not play an important role in the target varaible."
   ]
  },
  {
   "cell_type": "markdown",
   "id": "500a7a81",
   "metadata": {},
   "source": [
    "**5. Zone Variable**"
   ]
  },
  {
   "cell_type": "code",
   "execution_count": 29,
   "id": "5c057a5b",
   "metadata": {},
   "outputs": [
    {
     "data": {
      "image/png": "[encoded data removed]",
      "text/plain": [
       "<Figure size 1080x270 with 3 Axes>"
      ]
     },
     "metadata": {},
     "output_type": "display_data"
    }
   ],
   "source": [
    "# Analisamos las variables de \"gender\" para verificar comportamiento\n",
    "f, (ax1, ax2, ax3) = plt.subplots(nrows=1, ncols=3, figsize=(12,3), dpi=90)\n",
    "\n",
    "sns.histplot(data=df_fraud, x='zone', ax=ax1, stat='count')\n",
    "sns.countplot(x='zone', data=df_fraud, hue='isFraud', ax=ax2)\n",
    "sns.countplot(x='zone', data=df_fraud_yes, hue='isFraud', ax=ax3, color=\"orange\")\n",
    "\n",
    "ax1.set_title(\"Distribution of variable zone\")\n",
    "ax2.set_title(\"Behavior of var. zone vs Fraud\")\n",
    "ax3.set_title(\"Behavior of var. zone vs Faudulent Transactions\")\n",
    "\n",
    "sns.set(font_scale = 0.7)\n",
    "ax1.tick_params(axis='x', rotation=90)\n",
    "ax2.tick_params(axis='x', rotation=90)"
   ]
  },
  {
   "cell_type": "code",
   "execution_count": 30,
   "id": "737ec2e4",
   "metadata": {},
   "outputs": [
    {
     "data": {
      "text/html": [
       "<div>\n",
       "<style scoped>\n",
       "    .dataframe tbody tr th:only-of-type {\n",
       "        vertical-align: middle;\n",
       "    }\n",
       "\n",
       "    .dataframe tbody tr th {\n",
       "        vertical-align: top;\n",
       "    }\n",
       "\n",
       "    .dataframe thead th {\n",
       "        text-align: right;\n",
       "    }\n",
       "</style>\n",
       "<table border=\"1\" class=\"dataframe\">\n",
       "  <thead>\n",
       "    <tr style=\"text-align: right;\">\n",
       "      <th></th>\n",
       "      <th>zone</th>\n",
       "      <th>noFraud</th>\n",
       "      <th>yesFraud</th>\n",
       "    </tr>\n",
       "  </thead>\n",
       "  <tbody>\n",
       "    <tr>\n",
       "      <th>0</th>\n",
       "      <td>africa</td>\n",
       "      <td>313670</td>\n",
       "      <td>356</td>\n",
       "    </tr>\n",
       "    <tr>\n",
       "      <th>1</th>\n",
       "      <td>capital</td>\n",
       "      <td>261845</td>\n",
       "      <td>286</td>\n",
       "    </tr>\n",
       "    <tr>\n",
       "      <th>2</th>\n",
       "      <td>country</td>\n",
       "      <td>367617</td>\n",
       "      <td>387</td>\n",
       "    </tr>\n",
       "    <tr>\n",
       "      <th>3</th>\n",
       "      <td>missing</td>\n",
       "      <td>104301</td>\n",
       "      <td>113</td>\n",
       "    </tr>\n",
       "  </tbody>\n",
       "</table>\n",
       "</div>"
      ],
      "text/plain": [
       "      zone  noFraud  yesFraud\n",
       "0   africa   313670       356\n",
       "1  capital   261845       286\n",
       "2  country   367617       387\n",
       "3  missing   104301       113"
      ]
     },
     "execution_count": 30,
     "metadata": {},
     "output_type": "execute_result"
    }
   ],
   "source": [
    "# Vemos distribucion en funcion numerica para una mejor comparacion\n",
    "df_noFraud=df_fraud.loc[(df_fraud['isFraud'] == 0),['isFraud','zone']].groupby('zone').count().reset_index().set_axis([\"zone\",\"noFraud\"],axis=1)\n",
    "df_yesFraud=df_fraud.loc[(df_fraud['isFraud'] == 1),['isFraud','zone']].groupby('zone').count().reset_index().set_axis([\"zone\",\"yesFraud\"],axis=1)\n",
    "df_Fraud_zone=pd.merge(df_noFraud,df_yesFraud, how= \"inner\", on=[\"zone\"])\n",
    "df_Fraud_zone"
   ]
  },
  {
   "cell_type": "markdown",
   "id": "f32546a9",
   "metadata": {},
   "source": [
    "**ENGL**- In the table created it's shown that there are no high difference between the zone where the transaction were made and whether the type of transaction were fraud or not. This isnt probably a variable that have a lot of impact on further analysis."
   ]
  },
  {
   "cell_type": "markdown",
   "id": "2faa592f",
   "metadata": {},
   "source": [
    "**6. Device Variable**"
   ]
  },
  {
   "cell_type": "code",
   "execution_count": 31,
   "id": "c2888c69",
   "metadata": {},
   "outputs": [
    {
     "data": {
      "image/png": "[encoded data removed]",
      "text/plain": [
       "<Figure size 1080x270 with 3 Axes>"
      ]
     },
     "metadata": {},
     "output_type": "display_data"
    }
   ],
   "source": [
    "# Analisamos las variables de \"device\" para verificar comportamiento\n",
    "f, (ax1, ax2, ax3) = plt.subplots(nrows=1, ncols=3, figsize=(12,3), dpi=90)\n",
    "\n",
    "sns.histplot(data=df_fraud, x='device', ax=ax1, stat='count')\n",
    "sns.countplot(x='device', data=df_fraud, hue='isFraud', ax=ax2)\n",
    "sns.countplot(x='device', data=df_fraud_yes, hue='isFraud', ax=ax3, color=\"orange\")\n",
    "\n",
    "ax1.set_title(\"Distribution of variable device\")\n",
    "ax2.set_title(\"Behavior of var. device vs Fraud\")\n",
    "ax3.set_title(\"Behavior of var. device vs Faudulent Transactions\")\n",
    "\n",
    "sns.set(font_scale = 0.7)\n",
    "ax1.tick_params(axis='x', rotation=90)\n",
    "ax2.tick_params(axis='x', rotation=90)"
   ]
  },
  {
   "cell_type": "code",
   "execution_count": 32,
   "id": "0c452d70",
   "metadata": {},
   "outputs": [
    {
     "data": {
      "text/html": [
       "<div>\n",
       "<style scoped>\n",
       "    .dataframe tbody tr th:only-of-type {\n",
       "        vertical-align: middle;\n",
       "    }\n",
       "\n",
       "    .dataframe tbody tr th {\n",
       "        vertical-align: top;\n",
       "    }\n",
       "\n",
       "    .dataframe thead th {\n",
       "        text-align: right;\n",
       "    }\n",
       "</style>\n",
       "<table border=\"1\" class=\"dataframe\">\n",
       "  <thead>\n",
       "    <tr style=\"text-align: right;\">\n",
       "      <th></th>\n",
       "      <th>device</th>\n",
       "      <th>noFraud</th>\n",
       "      <th>yesFraud</th>\n",
       "    </tr>\n",
       "  </thead>\n",
       "  <tbody>\n",
       "    <tr>\n",
       "      <th>0</th>\n",
       "      <td>iphone</td>\n",
       "      <td>261767</td>\n",
       "      <td>295</td>\n",
       "    </tr>\n",
       "    <tr>\n",
       "      <th>1</th>\n",
       "      <td>mac</td>\n",
       "      <td>366677</td>\n",
       "      <td>389</td>\n",
       "    </tr>\n",
       "    <tr>\n",
       "      <th>2</th>\n",
       "      <td>missing</td>\n",
       "      <td>104461</td>\n",
       "      <td>119</td>\n",
       "    </tr>\n",
       "    <tr>\n",
       "      <th>3</th>\n",
       "      <td>pc</td>\n",
       "      <td>314528</td>\n",
       "      <td>339</td>\n",
       "    </tr>\n",
       "  </tbody>\n",
       "</table>\n",
       "</div>"
      ],
      "text/plain": [
       "    device  noFraud  yesFraud\n",
       "0   iphone   261767       295\n",
       "1      mac   366677       389\n",
       "2  missing   104461       119\n",
       "3       pc   314528       339"
      ]
     },
     "execution_count": 32,
     "metadata": {},
     "output_type": "execute_result"
    }
   ],
   "source": [
    "# Vemos distribucion en funcion numerica para una mejor comparacion\n",
    "df_noFraud=df_fraud.loc[(df_fraud['isFraud'] == 0),['isFraud','device']].groupby('device').count().reset_index().set_axis([\"device\",\"noFraud\"],axis=1)\n",
    "df_yesFraud=df_fraud.loc[(df_fraud['isFraud'] == 1),['isFraud','device']].groupby('device').count().reset_index().set_axis([\"device\",\"yesFraud\"],axis=1)\n",
    "df_Fraud_device=pd.merge(df_noFraud,df_yesFraud, how= \"inner\", on=[\"device\"])\n",
    "df_Fraud_device"
   ]
  },
  {
   "cell_type": "markdown",
   "id": "7ef298c7",
   "metadata": {},
   "source": [
    "**ENG**- In the table created it's shown that there are no big difference between the device in which the transaction were made and whether the type of transaction were fraud or not. This isnt probably a variable that have a lot of impact on further analysis."
   ]
  },
  {
   "cell_type": "markdown",
   "id": "c1b1dc81",
   "metadata": {},
   "source": [
    "## Correlation between numerical values\n",
    "(Correlacion existente entre los datos numericos)"
   ]
  },
  {
   "cell_type": "code",
   "execution_count": 33,
   "id": "9c4660b4",
   "metadata": {},
   "outputs": [],
   "source": [
    "list_variables_numericas.remove('age')"
   ]
  },
  {
   "cell_type": "code",
   "execution_count": 34,
   "id": "bb943056",
   "metadata": {},
   "outputs": [
    {
     "data": {
      "text/html": [
       "<div>\n",
       "<style scoped>\n",
       "    .dataframe tbody tr th:only-of-type {\n",
       "        vertical-align: middle;\n",
       "    }\n",
       "\n",
       "    .dataframe tbody tr th {\n",
       "        vertical-align: top;\n",
       "    }\n",
       "\n",
       "    .dataframe thead th {\n",
       "        text-align: right;\n",
       "    }\n",
       "</style>\n",
       "<table border=\"1\" class=\"dataframe\">\n",
       "  <thead>\n",
       "    <tr style=\"text-align: right;\">\n",
       "      <th></th>\n",
       "      <th>level_0</th>\n",
       "      <th>level_1</th>\n",
       "      <th>correlation</th>\n",
       "    </tr>\n",
       "  </thead>\n",
       "  <tbody>\n",
       "    <tr>\n",
       "      <th>71</th>\n",
       "      <td>newbalanceOrig</td>\n",
       "      <td>oldbalanceOrg</td>\n",
       "      <td>0.999050</td>\n",
       "    </tr>\n",
       "    <tr>\n",
       "      <th>107</th>\n",
       "      <td>newbalanceDest</td>\n",
       "      <td>oldbalanceDest</td>\n",
       "      <td>0.978401</td>\n",
       "    </tr>\n",
       "  </tbody>\n",
       "</table>\n",
       "</div>"
      ],
      "text/plain": [
       "            level_0         level_1  correlation\n",
       "71   newbalanceOrig   oldbalanceOrg     0.999050\n",
       "107  newbalanceDest  oldbalanceDest     0.978401"
      ]
     },
     "execution_count": 34,
     "metadata": {},
     "output_type": "execute_result"
    }
   ],
   "source": [
    "data=df_fraud\n",
    "corr = data[list_variables_numericas].corr('pearson')\n",
    "new_corr = corr.abs()\n",
    "new_corr.loc[:,:] = np.tril(new_corr, k=-1)\n",
    "new_corr = new_corr.stack().to_frame('correlation').reset_index().sort_values(by='correlation', ascending=False)\n",
    "new_corr[new_corr['correlation']>0.6]"
   ]
  },
  {
   "cell_type": "code",
   "execution_count": 35,
   "id": "6359c519",
   "metadata": {
    "scrolled": true
   },
   "outputs": [
    {
     "data": {
      "image/png": "[encoded data removed]",
      "text/plain": [
       "<Figure size 2000x2000 with 2 Axes>"
      ]
     },
     "metadata": {},
     "output_type": "display_data"
    },
    {
     "data": {
      "text/plain": [
       "0"
      ]
     },
     "execution_count": 35,
     "metadata": {},
     "output_type": "execute_result"
    }
   ],
   "source": [
    "get_corr_matrix(dataset = data[list_variables_numericas], \n",
    "                metodo='pearson', size_figure=[20,20])"
   ]
  },
  {
   "cell_type": "markdown",
   "id": "37fe36eb",
   "metadata": {},
   "source": [
    "#### Conclusion/ Conclusión\n",
    "\n",
    "**ENG**-With the correlation analysis we can see that the variables that are positively correlated are the new balance of the recipient (\"newbalanceDest\") with the old balance of the recipient (\"oldbalanceDest\"). Similarly, we also have a negative correlation between the number of users connected to the network (\"connection_time\") and whether a security alert was issued on that day (\"security_alert\")."
   ]
  },
  {
   "cell_type": "markdown",
   "id": "368db7b6",
   "metadata": {},
   "source": [
    "## Save the created Dataset\n",
    "(Guardar el dataset)"
   ]
  },
  {
   "cell_type": "code",
   "execution_count": 36,
   "id": "794fed48",
   "metadata": {},
   "outputs": [
    {
     "name": "stdout",
     "output_type": "stream",
     "text": [
      "<class 'pandas.core.frame.DataFrame'>\n",
      "RangeIndex: 1048575 entries, 0 to 1048574\n",
      "Data columns (total 15 columns):\n",
      " #   Column            Non-Null Count    Dtype   \n",
      "---  ------            --------------    -----   \n",
      " 0   step              1048575 non-null  float64 \n",
      " 1   type              1048575 non-null  category\n",
      " 2   amount            1048575 non-null  float64 \n",
      " 3   gender            1048575 non-null  object  \n",
      " 4   device            1048575 non-null  object  \n",
      " 5   connection_time   1048575 non-null  float64 \n",
      " 6   oldbalanceOrg     1048575 non-null  float64 \n",
      " 7   newbalanceOrig    1048575 non-null  float64 \n",
      " 8   zone              1048575 non-null  object  \n",
      " 9   user_number       1048575 non-null  float64 \n",
      " 10  user_connections  1048575 non-null  float64 \n",
      " 11  security_alert    1048575 non-null  float64 \n",
      " 12  oldbalanceDest    1048575 non-null  float64 \n",
      " 13  newbalanceDest    1048575 non-null  float64 \n",
      " 14  isFraud           1048575 non-null  float64 \n",
      "dtypes: category(1), float64(11), object(3)\n",
      "memory usage: 113.0+ MB\n"
     ]
    }
   ],
   "source": [
    "data.info()"
   ]
  },
  {
   "cell_type": "code",
   "execution_count": 37,
   "id": "d3466162",
   "metadata": {},
   "outputs": [],
   "source": [
    "data.to_csv(\"C:/Users/karla/Documents/CUNEF/5_machine_learning/2_practicas/Fraude/data/process/pd_datafruad_preprocessing.csv\")\n",
    "data.to_parquet(\"C:/Users/karla/Documents/CUNEF/5_machine_learning/2_practicas/Fraude/data/process/pd_datafruad_preprocessing.csv\")"
   ]
  }
 ],
 "metadata": {
  "kernelspec": {
   "display_name": "practica_0",
   "language": "python",
   "name": "practica_0"
  },
  "language_info": {
   "codemirror_mode": {
    "name": "ipython",
    "version": 3
   },
   "file_extension": ".py",
   "mimetype": "text/x-python",
   "name": "python",
   "nbconvert_exporter": "python",
   "pygments_lexer": "ipython3",
   "version": "3.9.13"
  }
 },
 "nbformat": 4,
 "nbformat_minor": 5
}
